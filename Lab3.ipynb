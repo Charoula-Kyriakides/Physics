{
 "cells": [
  {
   "cell_type": "markdown",
   "metadata": {},
   "source": [
    "# Lab 3: Numerical errors\n",
    "\n",
    "In this lab we will investigate some of the practical implications of the way numbers are stored in computers. In particular, we will look at problems that can arise for the unwary when using floating-point numbers.\n",
    "\n",
    "We will check our answers against the \"official results\" from `sys.float_info` – so before getting any further, let's import this:"
   ]
  },
  {
   "cell_type": "code",
   "execution_count": 1,
   "metadata": {
    "collapsed": true
   },
   "outputs": [],
   "source": [
    "from sys import float_info"
   ]
  },
  {
   "cell_type": "markdown",
   "metadata": {},
   "source": [
    "## Machine precision\n",
    "\n",
    "**Write a program to find the approximate machine precision** – that is, the largest number $\\epsilon$ such that $1 + \\epsilon = 1$ within the precision of the calculation.\n",
    "\n",
    "An appropriate algorithm would be\n",
    "\n",
    "    Set epsilon to 0.1\n",
    "    Loop until 1 + epsilon is equal to 1:\n",
    "        Set epsilon to half its current value"
   ]
  },
  {
   "cell_type": "code",
   "execution_count": 3,
   "metadata": {
    "collapsed": false
   },
   "outputs": [
    {
     "data": {
      "text/plain": [
       "8.881784197001253e-17"
      ]
     },
     "execution_count": 3,
     "metadata": {},
     "output_type": "execute_result"
    }
   ],
   "source": [
    "e=0.1\n",
    "while 1+e!=1:\n",
    "    e=e/2\n",
    "e"
   ]
  },
  {
   "cell_type": "markdown",
   "metadata": {},
   "source": [
    "Let's check this against what we know about how numbers are stored in computers. `float_info.mant_dig` will tell you how many bits (i.e., binary digits) are available to store the significand:"
   ]
  },
  {
   "cell_type": "code",
   "execution_count": 4,
   "metadata": {
    "collapsed": false
   },
   "outputs": [
    {
     "data": {
      "text/plain": [
       "53"
      ]
     },
     "execution_count": 4,
     "metadata": {},
     "output_type": "execute_result"
    }
   ],
   "source": [
    "float_info.mant_dig"
   ]
  },
  {
   "cell_type": "markdown",
   "metadata": {},
   "source": [
    "Can you use this information to calculate the theoretical epsilon? You shouldn't expect to match exactly with the results of your test program (can you see why?) but you should have the correct order of magnitude."
   ]
  },
  {
   "cell_type": "code",
   "execution_count": 10,
   "metadata": {
    "collapsed": false
   },
   "outputs": [
    {
     "data": {
      "text/plain": [
       "2.220446049250313e-16"
      ]
     },
     "execution_count": 10,
     "metadata": {},
     "output_type": "execute_result"
    }
   ],
   "source": [
    "2**(1-float_info.mant_dig)"
   ]
  },
  {
   "cell_type": "markdown",
   "metadata": {},
   "source": [
    "Check your answer against `float_info.epsilon`. This should match your theoretical value exactly."
   ]
  },
  {
   "cell_type": "code",
   "execution_count": 6,
   "metadata": {
    "collapsed": false
   },
   "outputs": [
    {
     "data": {
      "text/plain": [
       "2.220446049250313e-16"
      ]
     },
     "execution_count": 6,
     "metadata": {},
     "output_type": "execute_result"
    }
   ],
   "source": [
    "float_info.epsilon"
   ]
  },
  {
   "cell_type": "markdown",
   "metadata": {},
   "source": [
    "## Overflow and underflow\n",
    "\n",
    "**Write a program to find the maximum and minimum positive numbers representable as a Python `float`.**\n",
    "\n",
    "You can use a very similar algorithm, but this time you will need to test whether the number is equal to $\\infty$, which you can represent as `float('inf')`, or zero."
   ]
  },
  {
   "cell_type": "code",
   "execution_count": 76,
   "metadata": {
    "collapsed": false
   },
   "outputs": [
    {
     "data": {
      "text/plain": [
       "8.98846567431158e+307"
      ]
     },
     "execution_count": 76,
     "metadata": {},
     "output_type": "execute_result"
    }
   ],
   "source": [
    "maxN=1.\n",
    "while maxN < float('inf'):\n",
    "    y=maxN\n",
    "    maxN *=2\n",
    "y"
   ]
  },
  {
   "cell_type": "code",
   "execution_count": 51,
   "metadata": {
    "collapsed": false
   },
   "outputs": [
    {
     "data": {
      "text/plain": [
       "5e-324"
      ]
     },
     "execution_count": 51,
     "metadata": {},
     "output_type": "execute_result"
    }
   ],
   "source": [
    "minN=0.01\n",
    "while minN>0:\n",
    "    x=minN\n",
    "    minN/=2\n",
    "x"
   ]
  },
  {
   "cell_type": "markdown",
   "metadata": {},
   "source": [
    "**Check your answers** against the \"official\" numbers from the following code:"
   ]
  },
  {
   "cell_type": "code",
   "execution_count": 49,
   "metadata": {
    "collapsed": false
   },
   "outputs": [
    {
     "data": {
      "text/plain": [
       "(2.2250738585072014e-308, 1.7976931348623157e+308)"
      ]
     },
     "execution_count": 49,
     "metadata": {},
     "output_type": "execute_result"
    }
   ],
   "source": [
    "float_info.min, float_info.max"
   ]
  },
  {
   "cell_type": "markdown",
   "metadata": {},
   "source": [
    "You will notice something odd: while the greatest possible number should match your results fairly well, the smallest possible number from your results should be several orders of magnitude than is theoretically possible! This is because of a clever process known as *gradual underflow*. \n",
    "\n",
    "To investigate, **start with a number near the smallest possible, say $10^{-300}$, and divide repeatedly by 300, printing out the result at each step.** What do you notice about the precision of each result? Can you explain what is going on?"
   ]
  },
  {
   "cell_type": "code",
   "execution_count": 71,
   "metadata": {
    "collapsed": false
   },
   "outputs": [
    {
     "data": {
      "text/plain": [
       "[3.333333333333333e-303,\n",
       " 1.1111111111111111e-305,\n",
       " 3.7037037037037035e-308,\n",
       " 1.23456790123455e-310,\n",
       " 4.11522633745e-313,\n",
       " 1.371742115e-315,\n",
       " 4.572474e-318,\n",
       " 1.524e-320,\n",
       " 5e-323,\n",
       " 0.0]"
      ]
     },
     "execution_count": 71,
     "metadata": {},
     "output_type": "execute_result"
    }
   ],
   "source": [
    "z=10**-300\n",
    "li=[]\n",
    "for i in range(10):\n",
    "    z/=300\n",
    "    li.append(z)\n",
    "li"
   ]
  },
  {
   "cell_type": "markdown",
   "metadata": {},
   "source": [
    "rounding errors are carried forward"
   ]
  },
  {
   "cell_type": "markdown",
   "metadata": {},
   "source": [
    "## Integer overflow\n",
    "\n",
    "As we noted in class, it's a little tricky to demonstrate integer overflow using the base Python library, because it cleverly increases the amount of memory allocated in order to be able to store arbitrarily large integers. The `array` type from the `numpy` library, however, doesn't do this. (This is on balance a good thing: it is designed to deal fast with very large amounts of data, and being able to specify exactly how much memory should be reserved for each array entry makes sense if there are millions of entries.)\n",
    "\n",
    "We will create an `array` with only one component, which we specify as an integer occupying sixteen bits of memory:"
   ]
  },
  {
   "cell_type": "code",
   "execution_count": 2,
   "metadata": {
    "collapsed": false
   },
   "outputs": [
    {
     "name": "stdout",
     "output_type": "stream",
     "text": [
      "[0]\n"
     ]
    }
   ],
   "source": [
    "from numpy import array\n",
    "my_integer = array([0], dtype='int16')\n",
    "print(my_integer)"
   ]
  },
  {
   "cell_type": "markdown",
   "metadata": {},
   "source": [
    "Remembering that one of those sixteen bits is reserved to indicate the sign, **what is the largest number that can be represented in this array?**"
   ]
  },
  {
   "cell_type": "code",
   "execution_count": 1,
   "metadata": {
    "collapsed": false
   },
   "outputs": [
    {
     "data": {
      "text/plain": [
       "32767"
      ]
     },
     "execution_count": 1,
     "metadata": {},
     "output_type": "execute_result"
    }
   ],
   "source": [
    "num=0\n",
    "for i in range(15):\n",
    "    num+=2**i\n",
    "num"
   ]
  },
  {
   "cell_type": "markdown",
   "metadata": {},
   "source": [
    "**Check your answer by setting `my_integer[0]` to this number, then adding one.** Is the result what you expect?"
   ]
  },
  {
   "cell_type": "code",
   "execution_count": 4,
   "metadata": {
    "collapsed": false
   },
   "outputs": [
    {
     "data": {
      "text/plain": [
       "array([-32768], dtype=int16)"
      ]
     },
     "execution_count": 4,
     "metadata": {},
     "output_type": "execute_result"
    }
   ],
   "source": [
    "my_integer[0] = num # insert your number here\n",
    "# now add 1 and print the result\n",
    "my_integer+1"
   ]
  },
  {
   "cell_type": "markdown",
   "metadata": {},
   "source": [
    "▶ **CHECKPOINT 1**"
   ]
  },
  {
   "cell_type": "markdown",
   "metadata": {},
   "source": [
    "## Subtractive cancellation\n",
    "\n",
    "The well-known *quadratic formula* says that the equation $ax^2 + bx + c = 0$ has solutions\n",
    "\n",
    "$$ x_{1, 2} = \\frac{-b \\pm \\sqrt{b^2 - 4ac}}{2a}.$$ \n",
    "\n",
    "However, multiplying numerator and denominator by $-b \\mp \\sqrt{b^2 - 4ac}$, we find that these can alternatively be expressed as\n",
    "\n",
    "$$ x'_{1,2} = \\frac{-2c}{b\\pm\\sqrt{b^2 - 4ac}}.$$\n",
    "\n",
    "**Write a program to calculate all four answers for given $a$, $b$, $c$. Your program should calculate the fractional differences $(x_1 - x_1')/x_1$ and $(x_2 - x_2')/x_2$.** \n",
    "\n",
    "(Remember that you can get a square root function from the `numpy` module: `from numpy import sqrt`.)"
   ]
  },
  {
   "cell_type": "code",
   "execution_count": 7,
   "metadata": {
    "collapsed": false
   },
   "outputs": [],
   "source": [
    "def quadratic(a,b,c):\n",
    "    \"finds root of quadratic equation:  ax2+bx+c=0ax2+bx+c=0\"\n",
    "    from math import sqrt\n",
    "    x1=(-b+sqrt(b**2-4*a*c))/(2*a)\n",
    "    x2=(-b-sqrt(b**2-4*a*c))/(2*a)\n",
    "    x1prime=-2*c/(b+sqrt(b**2-4*a*c))\n",
    "    x2prime=-2*c/(b-sqrt(b**2-4*a*c))\n",
    "    x1Difference=(x1-x1prime)/x1 # fractional difference\n",
    "    x2Difference=(x2-x2prime)/x2\n",
    "    answers=(x1, x2, x1prime,x2prime, x1Difference, x2Difference)\n",
    "    return answers"
   ]
  },
  {
   "cell_type": "code",
   "execution_count": 10,
   "metadata": {
    "collapsed": false
   },
   "outputs": [
    {
     "data": {
      "text/plain": [
       "(-0.2, -1.0, -0.2, -1.0, -0.0, -0.0)"
      ]
     },
     "execution_count": 10,
     "metadata": {},
     "output_type": "execute_result"
    }
   ],
   "source": [
    "quadratic(5,6,1) # check -1,-0.2 "
   ]
  },
  {
   "cell_type": "markdown",
   "metadata": {},
   "source": [
    "We will test your program on the equation with $a = b = 1$, $c = 10^{-n}$, $n = 1, 2, 3, \\dots$, or in other words\n",
    "\n",
    "$$ x^2 + x = -10^{-n}.$$\n",
    "\n",
    "In the limit where the right-hand side tends to zero, of course the solutions are $x_1 = 0$ and $x_2 = -1$. For small but non-zero $c$, we can make a good approximation by noting that, since $x_1$ will be very small, $x_1^2$ will be negligible; thus $x_1\\approx -10^{-n}$. Similarly, $x_2\\approx 1 - 10^{-n}$.\n",
    "\n",
    "**Test your program for $a = b = 1$, $c = 10^{-n}$, $n = 1, 2, 3, \\dots$.** Can you explain your results? Where the two formulae differ, which is the most accurate and why?"
   ]
  },
  {
   "cell_type": "code",
   "execution_count": 8,
   "metadata": {
    "collapsed": false
   },
   "outputs": [],
   "source": [
    "table=[]\n",
    "for n in range(1,17):\n",
    "    table.append(quadratic(1,1,10**-n))\n",
    "    n+=1"
   ]
  },
  {
   "cell_type": "code",
   "execution_count": 9,
   "metadata": {
    "collapsed": false
   },
   "outputs": [
    {
     "name": "stdout",
     "output_type": "stream",
     "text": [
      "x1       x2       x1'      x2'      x1 Diff    x2 Diff   \n",
      "-0.112702 -0.887298 -0.112702 -0.887298 -0.000000  -0.000000\n",
      "-0.010102 -0.989898 -0.010102 -0.989898 0.000000   0.000000\n",
      "-0.001001 -0.998999 -0.001001 -0.998999 -0.000000  -0.000000\n",
      "-0.000100 -0.999900 -0.000100 -0.999900 -0.000000  -0.000000\n",
      "-0.000010 -0.999990 -0.000010 -0.999990 0.000000   0.000000\n",
      "-0.000001 -0.999999 -0.000001 -0.999999 0.000000   0.000000\n",
      "-0.000000 -1.000000 -0.000000 -1.000000 -0.000000  -0.000000\n",
      "-0.000000 -1.000000 -0.000000 -1.000000 0.000000   0.000000\n",
      "-0.000000 -1.000000 -0.000000 -1.000000 0.000000   0.000000\n",
      "-0.000000 -1.000000 -0.000000 -1.000000 0.000000   0.000000\n",
      "-0.000000 -1.000000 -0.000000 -1.000000 0.000000   0.000000\n",
      "-0.000000 -1.000000 -0.000000 -0.999967 0.000033   0.000033\n",
      "-0.000000 -1.000000 -0.000000 -0.999689 0.000311   0.000311\n",
      "-0.000000 -1.000000 -0.000000 -1.000800 -0.000800  -0.000800\n",
      "-0.000000 -1.000000 -0.000000 -1.000800 -0.000800  -0.000800\n",
      "-0.000000 -1.000000 -0.000000 -0.900720 0.099280   0.099280\n"
     ]
    }
   ],
   "source": [
    "print(\"{:8.10s} {:8.10s} {:8.10s} {:8.10s} {:10.13s} {:10.13s}\".format(\"x1\", \"x2\",\"x1'\",\"x2'\",'x1 Diff','x2 Diff'))\n",
    "for element in table:\n",
    "    print(\"{:.6f} {:7.6f} {:8.6f} {:8.6f} {:8.6f} {:10.6f}\".format(element[0], element[1],element[2],element[3],element[4],element[5] ))\n"
   ]
  },
  {
   "cell_type": "markdown",
   "metadata": {},
   "source": [
    "**What would you expect to happen for the case $a = 1$, $b = -1$, $c = 10^{-n}$, $n = 1, 2, 3, \\dots$?** Make a prediction then use your program to test it."
   ]
  },
  {
   "cell_type": "code",
   "execution_count": 11,
   "metadata": {
    "collapsed": false
   },
   "outputs": [
    {
     "name": "stdout",
     "output_type": "stream",
     "text": [
      "x1       x2       x1'      x2'      x1 Diff    x2 Diff   \n",
      "8.872983e-01 1.127017e-01 8.872983e-01 1.127017e-01 -1.251240e-16 -1.231374e-16\n",
      "9.898979e-01 1.010205e-02 9.898979e-01 1.010205e-02 2.018795e-15 2.060639e-15\n",
      "9.989990e-01 1.001002e-03 9.989990e-01 1.001002e-03 -2.422711e-14 -2.426182e-14\n",
      "9.999000e-01 1.000100e-04 9.999000e-01 1.000100e-04 -5.562774e-14 -5.555980e-14\n",
      "9.999900e-01 1.000010e-05 9.999900e-01 1.000010e-05 1.662465e-12 1.662540e-12\n",
      "9.999990e-01 1.000001e-06 9.999990e-01 1.000001e-06 4.633965e-12 4.633901e-12\n",
      "9.999999e-01 1.000000e-07 9.999999e-01 1.000000e-07 -5.119217e-11 -5.119215e-11\n",
      "1.000000e+00 1.000000e-08 1.000000e+00 1.000000e-08 5.758741e-10 5.758740e-10\n",
      "1.000000e+00 1.000000e-09 1.000000e+00 1.000000e-09 2.622922e-08 2.622922e-08\n",
      "1.000000e+00 1.000000e-10 9.999999e-01 1.000000e-10 8.264036e-08 8.264036e-08\n",
      "1.000000e+00 1.000000e-11 9.999999e-01 1.000000e-11 8.273036e-08 8.273036e-08\n",
      "1.000000e+00 1.000033e-12 9.999666e-01 1.000000e-12 3.338832e-05 3.338832e-05\n",
      "1.000000e+00 1.000311e-13 9.996892e-01 1.000000e-13 3.108485e-04 3.108485e-04\n",
      "1.000000e+00 9.992007e-15 1.000800e+00 1.000000e-14 -7.999172e-04 -7.999172e-04\n",
      "1.000000e+00 9.992007e-16 1.000800e+00 1.000000e-15 -7.999172e-04 -7.999172e-04\n",
      "1.000000e+00 1.110223e-16 9.007199e-01 1.000000e-16 9.928007e-02 9.928007e-02\n"
     ]
    }
   ],
   "source": [
    "table2=[]\n",
    "for n in range(1,17):\n",
    "    table2.append(quadratic(1,-1,10**-n))\n",
    "    n+=1\n",
    "print(\"{:8.10s} {:8.10s} {:8.10s} {:8.10s} {:10.13s} {:10.13s}\".format(\"x1\", \"x2\",\"x1'\",\"x2'\",'x1 Diff','x2 Diff'))\n",
    "for element in table2:\n",
    "    print(\"{:.6e} {:7.6e} {:8.6e} {:8.6e} {:8.6e} {:10.6e}\".format(element[0], element[1],element[2],element[3],element[4],element[5] ))\n"
   ]
  },
  {
   "cell_type": "markdown",
   "metadata": {},
   "source": [
    "▶ **CHECKPOINT 2**"
   ]
  },
  {
   "cell_type": "markdown",
   "metadata": {},
   "source": [
    "## Series summation\n",
    "\n",
    "We will write our own (Python) function to calculate the (mathematical) sine function. One obvious way is to evaluate the Taylor series:\n",
    "\n",
    "$$\n",
    "\\sin x = x - \\frac{x^3}{3!} + \\frac{x^5}{5!} - \\frac{x^7}{7!} + \\dots = \\sum_{n=1}^\\infty\\frac{(-1)^{n-1}x^{2n-1}}{(2n-1)!}\n",
    "$$\n",
    "\n",
    "A small trick will come in useful here. As $n$ gets larger (and we will certainly need to add lots of terms to get an accurate result!) it will take longer and longer to calculate both $x^{2n-1}$ and $(2n-1)!$. However, both of these are easy to calculate *given the previous term*. So the smart way to evaluate this series is to keep track of the previous term added, and then use a recursive relationship\n",
    "\n",
    "$$\n",
    "t_{n} = t_{n-1} \\times \\frac{-x^2}{(2n - 1)(2n - 2)}.\n",
    "$$\n",
    "\n",
    "**Check that you understand** how this works, then **write a function `sine_sum(x)`** to calculate $\\sin(x)$ by this method. You will need to make a sensible choice for when to stop adding terms: discuss this with your demonstrator if you're not sure."
   ]
  },
  {
   "cell_type": "code",
   "execution_count": 12,
   "metadata": {
    "collapsed": false
   },
   "outputs": [],
   "source": [
    "def sine_sum(x):\n",
    "    sine_x=x\n",
    "    tn=x\n",
    "    n=2\n",
    "    while abs(tn)>1e-5:\n",
    "        tn = -tn * (x**2) / ((2*n-1)*(2*n-2))\n",
    "        #tn = -tn*(x**2)*(2*n+1)*(2*n+2) / ((4*n**2-1)*(4*n**2-4))\n",
    "        sine_x += tn\n",
    "        n+=1\n",
    "    return sine_x"
   ]
  },
  {
   "cell_type": "code",
   "execution_count": 15,
   "metadata": {
    "collapsed": false
   },
   "outputs": [
    {
     "data": {
      "text/plain": [
       "array(0.999999943741051)"
      ]
     },
     "execution_count": 15,
     "metadata": {},
     "output_type": "execute_result"
    }
   ],
   "source": [
    "from math import pi\n",
    "sine_sum(pi/2) #check answer=1"
   ]
  },
  {
   "cell_type": "markdown",
   "metadata": {},
   "source": [
    "With care, it is not difficult to write functions that can cope with `array` arguments. However, there is a \"cheat\" way to do this automatically, using the `vectorize` function from `numpy`:"
   ]
  },
  {
   "cell_type": "code",
   "execution_count": 13,
   "metadata": {
    "collapsed": true
   },
   "outputs": [],
   "source": [
    "from numpy import vectorize\n",
    "sine_sum = vectorize(sine_sum)"
   ]
  },
  {
   "cell_type": "markdown",
   "metadata": {},
   "source": [
    "Now you can call `sine_sum()` on an array in the same way as you can on the library `sin()` function. This lets us plot this function very easily. \n",
    "\n",
    "(Advanced Python note: if you know in advance you are going to do this, you can use the *decorator* syntax:\n",
    "\n",
    "    from numpy import vectorize\n",
    "    \n",
    "    @vectorize\n",
    "    def sine_sum(x):\n",
    "        #... function definition goes here\n",
    "\n",
    "This does the same thing as calling `sine_sum = vectorize(sine_sum)` after the event as we’ve done here.)\n",
    "\n",
    "**Complete the following code** to plot both your function and the library one. "
   ]
  },
  {
   "cell_type": "code",
   "execution_count": 22,
   "metadata": {
    "collapsed": false
   },
   "outputs": [
    {
     "data": {
      "application/javascript": [
       "/* Put everything inside the global mpl namespace */\n",
       "window.mpl = {};\n",
       "\n",
       "\n",
       "mpl.get_websocket_type = function() {\n",
       "    if (typeof(WebSocket) !== 'undefined') {\n",
       "        return WebSocket;\n",
       "    } else if (typeof(MozWebSocket) !== 'undefined') {\n",
       "        return MozWebSocket;\n",
       "    } else {\n",
       "        alert('Your browser does not have WebSocket support.' +\n",
       "              'Please try Chrome, Safari or Firefox ≥ 6. ' +\n",
       "              'Firefox 4 and 5 are also supported but you ' +\n",
       "              'have to enable WebSockets in about:config.');\n",
       "    };\n",
       "}\n",
       "\n",
       "mpl.figure = function(figure_id, websocket, ondownload, parent_element) {\n",
       "    this.id = figure_id;\n",
       "\n",
       "    this.ws = websocket;\n",
       "\n",
       "    this.supports_binary = (this.ws.binaryType != undefined);\n",
       "\n",
       "    if (!this.supports_binary) {\n",
       "        var warnings = document.getElementById(\"mpl-warnings\");\n",
       "        if (warnings) {\n",
       "            warnings.style.display = 'block';\n",
       "            warnings.textContent = (\n",
       "                \"This browser does not support binary websocket messages. \" +\n",
       "                    \"Performance may be slow.\");\n",
       "        }\n",
       "    }\n",
       "\n",
       "    this.imageObj = new Image();\n",
       "\n",
       "    this.context = undefined;\n",
       "    this.message = undefined;\n",
       "    this.canvas = undefined;\n",
       "    this.rubberband_canvas = undefined;\n",
       "    this.rubberband_context = undefined;\n",
       "    this.format_dropdown = undefined;\n",
       "\n",
       "    this.image_mode = 'full';\n",
       "\n",
       "    this.root = $('<div/>');\n",
       "    this._root_extra_style(this.root)\n",
       "    this.root.attr('style', 'display: inline-block');\n",
       "\n",
       "    $(parent_element).append(this.root);\n",
       "\n",
       "    this._init_header(this);\n",
       "    this._init_canvas(this);\n",
       "    this._init_toolbar(this);\n",
       "\n",
       "    var fig = this;\n",
       "\n",
       "    this.waiting = false;\n",
       "\n",
       "    this.ws.onopen =  function () {\n",
       "            fig.send_message(\"supports_binary\", {value: fig.supports_binary});\n",
       "            fig.send_message(\"send_image_mode\", {});\n",
       "            if (mpl.ratio != 1) {\n",
       "                fig.send_message(\"set_dpi_ratio\", {'dpi_ratio': mpl.ratio});\n",
       "            }\n",
       "            fig.send_message(\"refresh\", {});\n",
       "        }\n",
       "\n",
       "    this.imageObj.onload = function() {\n",
       "            if (fig.image_mode == 'full') {\n",
       "                // Full images could contain transparency (where diff images\n",
       "                // almost always do), so we need to clear the canvas so that\n",
       "                // there is no ghosting.\n",
       "                fig.context.clearRect(0, 0, fig.canvas.width, fig.canvas.height);\n",
       "            }\n",
       "            fig.context.drawImage(fig.imageObj, 0, 0);\n",
       "        };\n",
       "\n",
       "    this.imageObj.onunload = function() {\n",
       "        this.ws.close();\n",
       "    }\n",
       "\n",
       "    this.ws.onmessage = this._make_on_message_function(this);\n",
       "\n",
       "    this.ondownload = ondownload;\n",
       "}\n",
       "\n",
       "mpl.figure.prototype._init_header = function() {\n",
       "    var titlebar = $(\n",
       "        '<div class=\"ui-dialog-titlebar ui-widget-header ui-corner-all ' +\n",
       "        'ui-helper-clearfix\"/>');\n",
       "    var titletext = $(\n",
       "        '<div class=\"ui-dialog-title\" style=\"width: 100%; ' +\n",
       "        'text-align: center; padding: 3px;\"/>');\n",
       "    titlebar.append(titletext)\n",
       "    this.root.append(titlebar);\n",
       "    this.header = titletext[0];\n",
       "}\n",
       "\n",
       "\n",
       "\n",
       "mpl.figure.prototype._canvas_extra_style = function(canvas_div) {\n",
       "\n",
       "}\n",
       "\n",
       "\n",
       "mpl.figure.prototype._root_extra_style = function(canvas_div) {\n",
       "\n",
       "}\n",
       "\n",
       "mpl.figure.prototype._init_canvas = function() {\n",
       "    var fig = this;\n",
       "\n",
       "    var canvas_div = $('<div/>');\n",
       "\n",
       "    canvas_div.attr('style', 'position: relative; clear: both; outline: 0');\n",
       "\n",
       "    function canvas_keyboard_event(event) {\n",
       "        return fig.key_event(event, event['data']);\n",
       "    }\n",
       "\n",
       "    canvas_div.keydown('key_press', canvas_keyboard_event);\n",
       "    canvas_div.keyup('key_release', canvas_keyboard_event);\n",
       "    this.canvas_div = canvas_div\n",
       "    this._canvas_extra_style(canvas_div)\n",
       "    this.root.append(canvas_div);\n",
       "\n",
       "    var canvas = $('<canvas/>');\n",
       "    canvas.addClass('mpl-canvas');\n",
       "    canvas.attr('style', \"left: 0; top: 0; z-index: 0; outline: 0\")\n",
       "\n",
       "    this.canvas = canvas[0];\n",
       "    this.context = canvas[0].getContext(\"2d\");\n",
       "\n",
       "    var backingStore = this.context.backingStorePixelRatio ||\n",
       "\tthis.context.webkitBackingStorePixelRatio ||\n",
       "\tthis.context.mozBackingStorePixelRatio ||\n",
       "\tthis.context.msBackingStorePixelRatio ||\n",
       "\tthis.context.oBackingStorePixelRatio ||\n",
       "\tthis.context.backingStorePixelRatio || 1;\n",
       "\n",
       "    mpl.ratio = (window.devicePixelRatio || 1) / backingStore;\n",
       "\n",
       "    var rubberband = $('<canvas/>');\n",
       "    rubberband.attr('style', \"position: absolute; left: 0; top: 0; z-index: 1;\")\n",
       "\n",
       "    var pass_mouse_events = true;\n",
       "\n",
       "    canvas_div.resizable({\n",
       "        start: function(event, ui) {\n",
       "            pass_mouse_events = false;\n",
       "        },\n",
       "        resize: function(event, ui) {\n",
       "            fig.request_resize(ui.size.width, ui.size.height);\n",
       "        },\n",
       "        stop: function(event, ui) {\n",
       "            pass_mouse_events = true;\n",
       "            fig.request_resize(ui.size.width, ui.size.height);\n",
       "        },\n",
       "    });\n",
       "\n",
       "    function mouse_event_fn(event) {\n",
       "        if (pass_mouse_events)\n",
       "            return fig.mouse_event(event, event['data']);\n",
       "    }\n",
       "\n",
       "    rubberband.mousedown('button_press', mouse_event_fn);\n",
       "    rubberband.mouseup('button_release', mouse_event_fn);\n",
       "    // Throttle sequential mouse events to 1 every 20ms.\n",
       "    rubberband.mousemove('motion_notify', mouse_event_fn);\n",
       "\n",
       "    rubberband.mouseenter('figure_enter', mouse_event_fn);\n",
       "    rubberband.mouseleave('figure_leave', mouse_event_fn);\n",
       "\n",
       "    canvas_div.on(\"wheel\", function (event) {\n",
       "        event = event.originalEvent;\n",
       "        event['data'] = 'scroll'\n",
       "        if (event.deltaY < 0) {\n",
       "            event.step = 1;\n",
       "        } else {\n",
       "            event.step = -1;\n",
       "        }\n",
       "        mouse_event_fn(event);\n",
       "    });\n",
       "\n",
       "    canvas_div.append(canvas);\n",
       "    canvas_div.append(rubberband);\n",
       "\n",
       "    this.rubberband = rubberband;\n",
       "    this.rubberband_canvas = rubberband[0];\n",
       "    this.rubberband_context = rubberband[0].getContext(\"2d\");\n",
       "    this.rubberband_context.strokeStyle = \"#000000\";\n",
       "\n",
       "    this._resize_canvas = function(width, height) {\n",
       "        // Keep the size of the canvas, canvas container, and rubber band\n",
       "        // canvas in synch.\n",
       "        canvas_div.css('width', width)\n",
       "        canvas_div.css('height', height)\n",
       "\n",
       "        canvas.attr('width', width * mpl.ratio);\n",
       "        canvas.attr('height', height * mpl.ratio);\n",
       "        canvas.attr('style', 'width: ' + width + 'px; height: ' + height + 'px;');\n",
       "\n",
       "        rubberband.attr('width', width);\n",
       "        rubberband.attr('height', height);\n",
       "    }\n",
       "\n",
       "    // Set the figure to an initial 600x600px, this will subsequently be updated\n",
       "    // upon first draw.\n",
       "    this._resize_canvas(600, 600);\n",
       "\n",
       "    // Disable right mouse context menu.\n",
       "    $(this.rubberband_canvas).bind(\"contextmenu\",function(e){\n",
       "        return false;\n",
       "    });\n",
       "\n",
       "    function set_focus () {\n",
       "        canvas.focus();\n",
       "        canvas_div.focus();\n",
       "    }\n",
       "\n",
       "    window.setTimeout(set_focus, 100);\n",
       "}\n",
       "\n",
       "mpl.figure.prototype._init_toolbar = function() {\n",
       "    var fig = this;\n",
       "\n",
       "    var nav_element = $('<div/>')\n",
       "    nav_element.attr('style', 'width: 100%');\n",
       "    this.root.append(nav_element);\n",
       "\n",
       "    // Define a callback function for later on.\n",
       "    function toolbar_event(event) {\n",
       "        return fig.toolbar_button_onclick(event['data']);\n",
       "    }\n",
       "    function toolbar_mouse_event(event) {\n",
       "        return fig.toolbar_button_onmouseover(event['data']);\n",
       "    }\n",
       "\n",
       "    for(var toolbar_ind in mpl.toolbar_items) {\n",
       "        var name = mpl.toolbar_items[toolbar_ind][0];\n",
       "        var tooltip = mpl.toolbar_items[toolbar_ind][1];\n",
       "        var image = mpl.toolbar_items[toolbar_ind][2];\n",
       "        var method_name = mpl.toolbar_items[toolbar_ind][3];\n",
       "\n",
       "        if (!name) {\n",
       "            // put a spacer in here.\n",
       "            continue;\n",
       "        }\n",
       "        var button = $('<button/>');\n",
       "        button.addClass('ui-button ui-widget ui-state-default ui-corner-all ' +\n",
       "                        'ui-button-icon-only');\n",
       "        button.attr('role', 'button');\n",
       "        button.attr('aria-disabled', 'false');\n",
       "        button.click(method_name, toolbar_event);\n",
       "        button.mouseover(tooltip, toolbar_mouse_event);\n",
       "\n",
       "        var icon_img = $('<span/>');\n",
       "        icon_img.addClass('ui-button-icon-primary ui-icon');\n",
       "        icon_img.addClass(image);\n",
       "        icon_img.addClass('ui-corner-all');\n",
       "\n",
       "        var tooltip_span = $('<span/>');\n",
       "        tooltip_span.addClass('ui-button-text');\n",
       "        tooltip_span.html(tooltip);\n",
       "\n",
       "        button.append(icon_img);\n",
       "        button.append(tooltip_span);\n",
       "\n",
       "        nav_element.append(button);\n",
       "    }\n",
       "\n",
       "    var fmt_picker_span = $('<span/>');\n",
       "\n",
       "    var fmt_picker = $('<select/>');\n",
       "    fmt_picker.addClass('mpl-toolbar-option ui-widget ui-widget-content');\n",
       "    fmt_picker_span.append(fmt_picker);\n",
       "    nav_element.append(fmt_picker_span);\n",
       "    this.format_dropdown = fmt_picker[0];\n",
       "\n",
       "    for (var ind in mpl.extensions) {\n",
       "        var fmt = mpl.extensions[ind];\n",
       "        var option = $(\n",
       "            '<option/>', {selected: fmt === mpl.default_extension}).html(fmt);\n",
       "        fmt_picker.append(option)\n",
       "    }\n",
       "\n",
       "    // Add hover states to the ui-buttons\n",
       "    $( \".ui-button\" ).hover(\n",
       "        function() { $(this).addClass(\"ui-state-hover\");},\n",
       "        function() { $(this).removeClass(\"ui-state-hover\");}\n",
       "    );\n",
       "\n",
       "    var status_bar = $('<span class=\"mpl-message\"/>');\n",
       "    nav_element.append(status_bar);\n",
       "    this.message = status_bar[0];\n",
       "}\n",
       "\n",
       "mpl.figure.prototype.request_resize = function(x_pixels, y_pixels) {\n",
       "    // Request matplotlib to resize the figure. Matplotlib will then trigger a resize in the client,\n",
       "    // which will in turn request a refresh of the image.\n",
       "    this.send_message('resize', {'width': x_pixels, 'height': y_pixels});\n",
       "}\n",
       "\n",
       "mpl.figure.prototype.send_message = function(type, properties) {\n",
       "    properties['type'] = type;\n",
       "    properties['figure_id'] = this.id;\n",
       "    this.ws.send(JSON.stringify(properties));\n",
       "}\n",
       "\n",
       "mpl.figure.prototype.send_draw_message = function() {\n",
       "    if (!this.waiting) {\n",
       "        this.waiting = true;\n",
       "        this.ws.send(JSON.stringify({type: \"draw\", figure_id: this.id}));\n",
       "    }\n",
       "}\n",
       "\n",
       "\n",
       "mpl.figure.prototype.handle_save = function(fig, msg) {\n",
       "    var format_dropdown = fig.format_dropdown;\n",
       "    var format = format_dropdown.options[format_dropdown.selectedIndex].value;\n",
       "    fig.ondownload(fig, format);\n",
       "}\n",
       "\n",
       "\n",
       "mpl.figure.prototype.handle_resize = function(fig, msg) {\n",
       "    var size = msg['size'];\n",
       "    if (size[0] != fig.canvas.width || size[1] != fig.canvas.height) {\n",
       "        fig._resize_canvas(size[0], size[1]);\n",
       "        fig.send_message(\"refresh\", {});\n",
       "    };\n",
       "}\n",
       "\n",
       "mpl.figure.prototype.handle_rubberband = function(fig, msg) {\n",
       "    var x0 = msg['x0'] / mpl.ratio;\n",
       "    var y0 = (fig.canvas.height - msg['y0']) / mpl.ratio;\n",
       "    var x1 = msg['x1'] / mpl.ratio;\n",
       "    var y1 = (fig.canvas.height - msg['y1']) / mpl.ratio;\n",
       "    x0 = Math.floor(x0) + 0.5;\n",
       "    y0 = Math.floor(y0) + 0.5;\n",
       "    x1 = Math.floor(x1) + 0.5;\n",
       "    y1 = Math.floor(y1) + 0.5;\n",
       "    var min_x = Math.min(x0, x1);\n",
       "    var min_y = Math.min(y0, y1);\n",
       "    var width = Math.abs(x1 - x0);\n",
       "    var height = Math.abs(y1 - y0);\n",
       "\n",
       "    fig.rubberband_context.clearRect(\n",
       "        0, 0, fig.canvas.width, fig.canvas.height);\n",
       "\n",
       "    fig.rubberband_context.strokeRect(min_x, min_y, width, height);\n",
       "}\n",
       "\n",
       "mpl.figure.prototype.handle_figure_label = function(fig, msg) {\n",
       "    // Updates the figure title.\n",
       "    fig.header.textContent = msg['label'];\n",
       "}\n",
       "\n",
       "mpl.figure.prototype.handle_cursor = function(fig, msg) {\n",
       "    var cursor = msg['cursor'];\n",
       "    switch(cursor)\n",
       "    {\n",
       "    case 0:\n",
       "        cursor = 'pointer';\n",
       "        break;\n",
       "    case 1:\n",
       "        cursor = 'default';\n",
       "        break;\n",
       "    case 2:\n",
       "        cursor = 'crosshair';\n",
       "        break;\n",
       "    case 3:\n",
       "        cursor = 'move';\n",
       "        break;\n",
       "    }\n",
       "    fig.rubberband_canvas.style.cursor = cursor;\n",
       "}\n",
       "\n",
       "mpl.figure.prototype.handle_message = function(fig, msg) {\n",
       "    fig.message.textContent = msg['message'];\n",
       "}\n",
       "\n",
       "mpl.figure.prototype.handle_draw = function(fig, msg) {\n",
       "    // Request the server to send over a new figure.\n",
       "    fig.send_draw_message();\n",
       "}\n",
       "\n",
       "mpl.figure.prototype.handle_image_mode = function(fig, msg) {\n",
       "    fig.image_mode = msg['mode'];\n",
       "}\n",
       "\n",
       "mpl.figure.prototype.updated_canvas_event = function() {\n",
       "    // Called whenever the canvas gets updated.\n",
       "    this.send_message(\"ack\", {});\n",
       "}\n",
       "\n",
       "// A function to construct a web socket function for onmessage handling.\n",
       "// Called in the figure constructor.\n",
       "mpl.figure.prototype._make_on_message_function = function(fig) {\n",
       "    return function socket_on_message(evt) {\n",
       "        if (evt.data instanceof Blob) {\n",
       "            /* FIXME: We get \"Resource interpreted as Image but\n",
       "             * transferred with MIME type text/plain:\" errors on\n",
       "             * Chrome.  But how to set the MIME type?  It doesn't seem\n",
       "             * to be part of the websocket stream */\n",
       "            evt.data.type = \"image/png\";\n",
       "\n",
       "            /* Free the memory for the previous frames */\n",
       "            if (fig.imageObj.src) {\n",
       "                (window.URL || window.webkitURL).revokeObjectURL(\n",
       "                    fig.imageObj.src);\n",
       "            }\n",
       "\n",
       "            fig.imageObj.src = (window.URL || window.webkitURL).createObjectURL(\n",
       "                evt.data);\n",
       "            fig.updated_canvas_event();\n",
       "            fig.waiting = false;\n",
       "            return;\n",
       "        }\n",
       "        else if (typeof evt.data === 'string' && evt.data.slice(0, 21) == \"data:image/png;base64\") {\n",
       "            fig.imageObj.src = evt.data;\n",
       "            fig.updated_canvas_event();\n",
       "            fig.waiting = false;\n",
       "            return;\n",
       "        }\n",
       "\n",
       "        var msg = JSON.parse(evt.data);\n",
       "        var msg_type = msg['type'];\n",
       "\n",
       "        // Call the  \"handle_{type}\" callback, which takes\n",
       "        // the figure and JSON message as its only arguments.\n",
       "        try {\n",
       "            var callback = fig[\"handle_\" + msg_type];\n",
       "        } catch (e) {\n",
       "            console.log(\"No handler for the '\" + msg_type + \"' message type: \", msg);\n",
       "            return;\n",
       "        }\n",
       "\n",
       "        if (callback) {\n",
       "            try {\n",
       "                // console.log(\"Handling '\" + msg_type + \"' message: \", msg);\n",
       "                callback(fig, msg);\n",
       "            } catch (e) {\n",
       "                console.log(\"Exception inside the 'handler_\" + msg_type + \"' callback:\", e, e.stack, msg);\n",
       "            }\n",
       "        }\n",
       "    };\n",
       "}\n",
       "\n",
       "// from http://stackoverflow.com/questions/1114465/getting-mouse-location-in-canvas\n",
       "mpl.findpos = function(e) {\n",
       "    //this section is from http://www.quirksmode.org/js/events_properties.html\n",
       "    var targ;\n",
       "    if (!e)\n",
       "        e = window.event;\n",
       "    if (e.target)\n",
       "        targ = e.target;\n",
       "    else if (e.srcElement)\n",
       "        targ = e.srcElement;\n",
       "    if (targ.nodeType == 3) // defeat Safari bug\n",
       "        targ = targ.parentNode;\n",
       "\n",
       "    // jQuery normalizes the pageX and pageY\n",
       "    // pageX,Y are the mouse positions relative to the document\n",
       "    // offset() returns the position of the element relative to the document\n",
       "    var x = e.pageX - $(targ).offset().left;\n",
       "    var y = e.pageY - $(targ).offset().top;\n",
       "\n",
       "    return {\"x\": x, \"y\": y};\n",
       "};\n",
       "\n",
       "/*\n",
       " * return a copy of an object with only non-object keys\n",
       " * we need this to avoid circular references\n",
       " * http://stackoverflow.com/a/24161582/3208463\n",
       " */\n",
       "function simpleKeys (original) {\n",
       "  return Object.keys(original).reduce(function (obj, key) {\n",
       "    if (typeof original[key] !== 'object')\n",
       "        obj[key] = original[key]\n",
       "    return obj;\n",
       "  }, {});\n",
       "}\n",
       "\n",
       "mpl.figure.prototype.mouse_event = function(event, name) {\n",
       "    var canvas_pos = mpl.findpos(event)\n",
       "\n",
       "    if (name === 'button_press')\n",
       "    {\n",
       "        this.canvas.focus();\n",
       "        this.canvas_div.focus();\n",
       "    }\n",
       "\n",
       "    var x = canvas_pos.x * mpl.ratio;\n",
       "    var y = canvas_pos.y * mpl.ratio;\n",
       "\n",
       "    this.send_message(name, {x: x, y: y, button: event.button,\n",
       "                             step: event.step,\n",
       "                             guiEvent: simpleKeys(event)});\n",
       "\n",
       "    /* This prevents the web browser from automatically changing to\n",
       "     * the text insertion cursor when the button is pressed.  We want\n",
       "     * to control all of the cursor setting manually through the\n",
       "     * 'cursor' event from matplotlib */\n",
       "    event.preventDefault();\n",
       "    return false;\n",
       "}\n",
       "\n",
       "mpl.figure.prototype._key_event_extra = function(event, name) {\n",
       "    // Handle any extra behaviour associated with a key event\n",
       "}\n",
       "\n",
       "mpl.figure.prototype.key_event = function(event, name) {\n",
       "\n",
       "    // Prevent repeat events\n",
       "    if (name == 'key_press')\n",
       "    {\n",
       "        if (event.which === this._key)\n",
       "            return;\n",
       "        else\n",
       "            this._key = event.which;\n",
       "    }\n",
       "    if (name == 'key_release')\n",
       "        this._key = null;\n",
       "\n",
       "    var value = '';\n",
       "    if (event.ctrlKey && event.which != 17)\n",
       "        value += \"ctrl+\";\n",
       "    if (event.altKey && event.which != 18)\n",
       "        value += \"alt+\";\n",
       "    if (event.shiftKey && event.which != 16)\n",
       "        value += \"shift+\";\n",
       "\n",
       "    value += 'k';\n",
       "    value += event.which.toString();\n",
       "\n",
       "    this._key_event_extra(event, name);\n",
       "\n",
       "    this.send_message(name, {key: value,\n",
       "                             guiEvent: simpleKeys(event)});\n",
       "    return false;\n",
       "}\n",
       "\n",
       "mpl.figure.prototype.toolbar_button_onclick = function(name) {\n",
       "    if (name == 'download') {\n",
       "        this.handle_save(this, null);\n",
       "    } else {\n",
       "        this.send_message(\"toolbar_button\", {name: name});\n",
       "    }\n",
       "};\n",
       "\n",
       "mpl.figure.prototype.toolbar_button_onmouseover = function(tooltip) {\n",
       "    this.message.textContent = tooltip;\n",
       "};\n",
       "mpl.toolbar_items = [[\"Home\", \"Reset original view\", \"fa fa-home icon-home\", \"home\"], [\"Back\", \"Back to  previous view\", \"fa fa-arrow-left icon-arrow-left\", \"back\"], [\"Forward\", \"Forward to next view\", \"fa fa-arrow-right icon-arrow-right\", \"forward\"], [\"\", \"\", \"\", \"\"], [\"Pan\", \"Pan axes with left mouse, zoom with right\", \"fa fa-arrows icon-move\", \"pan\"], [\"Zoom\", \"Zoom to rectangle\", \"fa fa-square-o icon-check-empty\", \"zoom\"], [\"\", \"\", \"\", \"\"], [\"Download\", \"Download plot\", \"fa fa-floppy-o icon-save\", \"download\"]];\n",
       "\n",
       "mpl.extensions = [\"eps\", \"jpeg\", \"pdf\", \"png\", \"ps\", \"raw\", \"svg\", \"tif\"];\n",
       "\n",
       "mpl.default_extension = \"png\";var comm_websocket_adapter = function(comm) {\n",
       "    // Create a \"websocket\"-like object which calls the given IPython comm\n",
       "    // object with the appropriate methods. Currently this is a non binary\n",
       "    // socket, so there is still some room for performance tuning.\n",
       "    var ws = {};\n",
       "\n",
       "    ws.close = function() {\n",
       "        comm.close()\n",
       "    };\n",
       "    ws.send = function(m) {\n",
       "        //console.log('sending', m);\n",
       "        comm.send(m);\n",
       "    };\n",
       "    // Register the callback with on_msg.\n",
       "    comm.on_msg(function(msg) {\n",
       "        //console.log('receiving', msg['content']['data'], msg);\n",
       "        // Pass the mpl event to the overriden (by mpl) onmessage function.\n",
       "        ws.onmessage(msg['content']['data'])\n",
       "    });\n",
       "    return ws;\n",
       "}\n",
       "\n",
       "mpl.mpl_figure_comm = function(comm, msg) {\n",
       "    // This is the function which gets called when the mpl process\n",
       "    // starts-up an IPython Comm through the \"matplotlib\" channel.\n",
       "\n",
       "    var id = msg.content.data.id;\n",
       "    // Get hold of the div created by the display call when the Comm\n",
       "    // socket was opened in Python.\n",
       "    var element = $(\"#\" + id);\n",
       "    var ws_proxy = comm_websocket_adapter(comm)\n",
       "\n",
       "    function ondownload(figure, format) {\n",
       "        window.open(figure.imageObj.src);\n",
       "    }\n",
       "\n",
       "    var fig = new mpl.figure(id, ws_proxy,\n",
       "                           ondownload,\n",
       "                           element.get(0));\n",
       "\n",
       "    // Call onopen now - mpl needs it, as it is assuming we've passed it a real\n",
       "    // web socket which is closed, not our websocket->open comm proxy.\n",
       "    ws_proxy.onopen();\n",
       "\n",
       "    fig.parent_element = element.get(0);\n",
       "    fig.cell_info = mpl.find_output_cell(\"<div id='\" + id + \"'></div>\");\n",
       "    if (!fig.cell_info) {\n",
       "        console.error(\"Failed to find cell for figure\", id, fig);\n",
       "        return;\n",
       "    }\n",
       "\n",
       "    var output_index = fig.cell_info[2]\n",
       "    var cell = fig.cell_info[0];\n",
       "\n",
       "};\n",
       "\n",
       "mpl.figure.prototype.handle_close = function(fig, msg) {\n",
       "    var width = fig.canvas.width/mpl.ratio\n",
       "    fig.root.unbind('remove')\n",
       "\n",
       "    // Update the output cell to use the data from the current canvas.\n",
       "    fig.push_to_output();\n",
       "    var dataURL = fig.canvas.toDataURL();\n",
       "    // Re-enable the keyboard manager in IPython - without this line, in FF,\n",
       "    // the notebook keyboard shortcuts fail.\n",
       "    IPython.keyboard_manager.enable()\n",
       "    $(fig.parent_element).html('<img src=\"' + dataURL + '\" width=\"' + width + '\">');\n",
       "    fig.close_ws(fig, msg);\n",
       "}\n",
       "\n",
       "mpl.figure.prototype.close_ws = function(fig, msg){\n",
       "    fig.send_message('closing', msg);\n",
       "    // fig.ws.close()\n",
       "}\n",
       "\n",
       "mpl.figure.prototype.push_to_output = function(remove_interactive) {\n",
       "    // Turn the data on the canvas into data in the output cell.\n",
       "    var width = this.canvas.width/mpl.ratio\n",
       "    var dataURL = this.canvas.toDataURL();\n",
       "    this.cell_info[1]['text/html'] = '<img src=\"' + dataURL + '\" width=\"' + width + '\">';\n",
       "}\n",
       "\n",
       "mpl.figure.prototype.updated_canvas_event = function() {\n",
       "    // Tell IPython that the notebook contents must change.\n",
       "    IPython.notebook.set_dirty(true);\n",
       "    this.send_message(\"ack\", {});\n",
       "    var fig = this;\n",
       "    // Wait a second, then push the new image to the DOM so\n",
       "    // that it is saved nicely (might be nice to debounce this).\n",
       "    setTimeout(function () { fig.push_to_output() }, 1000);\n",
       "}\n",
       "\n",
       "mpl.figure.prototype._init_toolbar = function() {\n",
       "    var fig = this;\n",
       "\n",
       "    var nav_element = $('<div/>')\n",
       "    nav_element.attr('style', 'width: 100%');\n",
       "    this.root.append(nav_element);\n",
       "\n",
       "    // Define a callback function for later on.\n",
       "    function toolbar_event(event) {\n",
       "        return fig.toolbar_button_onclick(event['data']);\n",
       "    }\n",
       "    function toolbar_mouse_event(event) {\n",
       "        return fig.toolbar_button_onmouseover(event['data']);\n",
       "    }\n",
       "\n",
       "    for(var toolbar_ind in mpl.toolbar_items){\n",
       "        var name = mpl.toolbar_items[toolbar_ind][0];\n",
       "        var tooltip = mpl.toolbar_items[toolbar_ind][1];\n",
       "        var image = mpl.toolbar_items[toolbar_ind][2];\n",
       "        var method_name = mpl.toolbar_items[toolbar_ind][3];\n",
       "\n",
       "        if (!name) { continue; };\n",
       "\n",
       "        var button = $('<button class=\"btn btn-default\" href=\"#\" title=\"' + name + '\"><i class=\"fa ' + image + ' fa-lg\"></i></button>');\n",
       "        button.click(method_name, toolbar_event);\n",
       "        button.mouseover(tooltip, toolbar_mouse_event);\n",
       "        nav_element.append(button);\n",
       "    }\n",
       "\n",
       "    // Add the status bar.\n",
       "    var status_bar = $('<span class=\"mpl-message\" style=\"text-align:right; float: right;\"/>');\n",
       "    nav_element.append(status_bar);\n",
       "    this.message = status_bar[0];\n",
       "\n",
       "    // Add the close button to the window.\n",
       "    var buttongrp = $('<div class=\"btn-group inline pull-right\"></div>');\n",
       "    var button = $('<button class=\"btn btn-mini btn-primary\" href=\"#\" title=\"Stop Interaction\"><i class=\"fa fa-power-off icon-remove icon-large\"></i></button>');\n",
       "    button.click(function (evt) { fig.handle_close(fig, {}); } );\n",
       "    button.mouseover('Stop Interaction', toolbar_mouse_event);\n",
       "    buttongrp.append(button);\n",
       "    var titlebar = this.root.find($('.ui-dialog-titlebar'));\n",
       "    titlebar.prepend(buttongrp);\n",
       "}\n",
       "\n",
       "mpl.figure.prototype._root_extra_style = function(el){\n",
       "    var fig = this\n",
       "    el.on(\"remove\", function(){\n",
       "\tfig.close_ws(fig, {});\n",
       "    });\n",
       "}\n",
       "\n",
       "mpl.figure.prototype._canvas_extra_style = function(el){\n",
       "    // this is important to make the div 'focusable\n",
       "    el.attr('tabindex', 0)\n",
       "    // reach out to IPython and tell the keyboard manager to turn it's self\n",
       "    // off when our div gets focus\n",
       "\n",
       "    // location in version 3\n",
       "    if (IPython.notebook.keyboard_manager) {\n",
       "        IPython.notebook.keyboard_manager.register_events(el);\n",
       "    }\n",
       "    else {\n",
       "        // location in version 2\n",
       "        IPython.keyboard_manager.register_events(el);\n",
       "    }\n",
       "\n",
       "}\n",
       "\n",
       "mpl.figure.prototype._key_event_extra = function(event, name) {\n",
       "    var manager = IPython.notebook.keyboard_manager;\n",
       "    if (!manager)\n",
       "        manager = IPython.keyboard_manager;\n",
       "\n",
       "    // Check for shift+enter\n",
       "    if (event.shiftKey && event.which == 13) {\n",
       "        this.canvas_div.blur();\n",
       "        // select the cell after this one\n",
       "        var index = IPython.notebook.find_cell_index(this.cell_info[0]);\n",
       "        IPython.notebook.select(index + 1);\n",
       "    }\n",
       "}\n",
       "\n",
       "mpl.figure.prototype.handle_save = function(fig, msg) {\n",
       "    fig.ondownload(fig, null);\n",
       "}\n",
       "\n",
       "\n",
       "mpl.find_output_cell = function(html_output) {\n",
       "    // Return the cell and output element which can be found *uniquely* in the notebook.\n",
       "    // Note - this is a bit hacky, but it is done because the \"notebook_saving.Notebook\"\n",
       "    // IPython event is triggered only after the cells have been serialised, which for\n",
       "    // our purposes (turning an active figure into a static one), is too late.\n",
       "    var cells = IPython.notebook.get_cells();\n",
       "    var ncells = cells.length;\n",
       "    for (var i=0; i<ncells; i++) {\n",
       "        var cell = cells[i];\n",
       "        if (cell.cell_type === 'code'){\n",
       "            for (var j=0; j<cell.output_area.outputs.length; j++) {\n",
       "                var data = cell.output_area.outputs[j];\n",
       "                if (data.data) {\n",
       "                    // IPython >= 3 moved mimebundle to data attribute of output\n",
       "                    data = data.data;\n",
       "                }\n",
       "                if (data['text/html'] == html_output) {\n",
       "                    return [cell, data, j];\n",
       "                }\n",
       "            }\n",
       "        }\n",
       "    }\n",
       "}\n",
       "\n",
       "// Register the function which deals with the matplotlib target/channel.\n",
       "// The kernel may be null if the page has been refreshed.\n",
       "if (IPython.notebook.kernel != null) {\n",
       "    IPython.notebook.kernel.comm_manager.register_target('matplotlib', mpl.mpl_figure_comm);\n",
       "}\n"
      ],
      "text/plain": [
       "<IPython.core.display.Javascript object>"
      ]
     },
     "metadata": {},
     "output_type": "display_data"
    },
    {
     "data": {
      "text/html": [
       "<img src=\"data:image/png;base64,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\" width=\"640\">"
      ],
      "text/plain": [
       "<IPython.core.display.HTML object>"
      ]
     },
     "metadata": {},
     "output_type": "display_data"
    },
    {
     "data": {
      "text/plain": [
       "[<matplotlib.lines.Line2D at 0xb369a79860>,\n",
       " <matplotlib.lines.Line2D at 0xb369a79a58>]"
      ]
     },
     "execution_count": 22,
     "metadata": {},
     "output_type": "execute_result"
    }
   ],
   "source": [
    "%matplotlib notebook\n",
    "from pylab import plot, grid, xlim, ylim, sin, linspace\n",
    "\n",
    "x = linspace(0.1,40,1000) # choose some appropriate values here\n",
    "y_series = sine_sum(x)\n",
    "y_library = sin(x)\n",
    "\n",
    "plot(x, y_series,'k-', x, y_library,'r-') # The plot command can take as many x, y pairs as you like.\n",
    "                                # Note that we do need to repeat x here since this array represents\n",
    "                                # the x values of two different lines on the plot.\n",
    "#xlim(-9*pi,9*pi)\n",
    "#ylim(-1,1)\n",
    "# you might like to set the x and y limits using the xlim and ylim functions, or to apply a grid.\n",
    "# e.g., ylim(-2, 2) will set the y range to run from -2 to 2."
   ]
  },
  {
   "cell_type": "markdown",
   "metadata": {},
   "source": [
    "When does your function start to diverge noticeably from the library one? Can you explain why it eventually stops behaving as well as the library function? Can you think of a way to fix this problem? (*Hint*: consider the periodicity of the $\\sin$ function.)"
   ]
  },
  {
   "cell_type": "raw",
   "metadata": {
    "collapsed": true
   },
   "source": [
    "# sin function most accurate around zero, -pi<x<-pi\n",
    "# whilst x>2*pi, x-2*pi"
   ]
  },
  {
   "cell_type": "markdown",
   "metadata": {},
   "source": [
    "▶ **CHECKPOINT 3**"
   ]
  }
 ],
 "metadata": {
  "kernelspec": {
   "display_name": "Python 3",
   "language": "python",
   "name": "python3"
  },
  "language_info": {
   "codemirror_mode": {
    "name": "ipython",
    "version": 3
   },
   "file_extension": ".py",
   "mimetype": "text/x-python",
   "name": "python",
   "nbconvert_exporter": "python",
   "pygments_lexer": "ipython3",
   "version": "3.6.0"
  }
 },
 "nbformat": 4,
 "nbformat_minor": 2
}
