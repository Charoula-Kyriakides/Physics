{
 "cells": [
  {
   "cell_type": "markdown",
   "metadata": {},
   "source": [
    "# Lab 3: Numerical errors\n",
    "\n",
    "In this lab we will investigate some of the practical implications of the way numbers are stored in computers. In particular, we will look at problems that can arise for the unwary when using floating-point numbers.\n",
    "\n",
    "We will check our answers against the \"official results\" from `sys.float_info` – so before getting any further, let's import this:"
   ]
  },
  {
   "cell_type": "code",
   "execution_count": 1,
   "metadata": {
    "collapsed": true
   },
   "outputs": [],
   "source": [
    "from sys import float_info"
   ]
  },
  {
   "cell_type": "markdown",
   "metadata": {},
   "source": [
    "## Machine precision\n",
    "\n",
    "**Write a program to find the approximate machine precision** – that is, the largest number $\\epsilon$ such that $1 + \\epsilon = 1$ within the precision of the calculation.\n",
    "\n",
    "An appropriate algorithm would be\n",
    "\n",
    "    Set epsilon to 0.1\n",
    "    Loop until 1 + epsilon is equal to 1:\n",
    "        Set epsilon to half its current value"
   ]
  },
  {
   "cell_type": "code",
   "execution_count": 3,
   "metadata": {
    "collapsed": false
   },
   "outputs": [
    {
     "data": {
      "text/plain": [
       "8.881784197001253e-17"
      ]
     },
     "execution_count": 3,
     "metadata": {},
     "output_type": "execute_result"
    }
   ],
   "source": [
    "e=0.1\n",
    "while 1+e!=1:\n",
    "    e=e/2\n",
    "e"
   ]
  },
  {
   "cell_type": "markdown",
   "metadata": {},
   "source": [
    "Let's check this against what we know about how numbers are stored in computers. `float_info.mant_dig` will tell you how many bits (i.e., binary digits) are available to store the significand:"
   ]
  },
  {
   "cell_type": "code",
   "execution_count": 4,
   "metadata": {
    "collapsed": false
   },
   "outputs": [
    {
     "data": {
      "text/plain": [
       "53"
      ]
     },
     "execution_count": 4,
     "metadata": {},
     "output_type": "execute_result"
    }
   ],
   "source": [
    "float_info.mant_dig"
   ]
  },
  {
   "cell_type": "markdown",
   "metadata": {},
   "source": [
    "Can you use this information to calculate the theoretical epsilon? You shouldn't expect to match exactly with the results of your test program (can you see why?) but you should have the correct order of magnitude."
   ]
  },
  {
   "cell_type": "code",
   "execution_count": 10,
   "metadata": {
    "collapsed": false
   },
   "outputs": [
    {
     "data": {
      "text/plain": [
       "2.220446049250313e-16"
      ]
     },
     "execution_count": 10,
     "metadata": {},
     "output_type": "execute_result"
    }
   ],
   "source": [
    "2**(1-float_info.mant_dig)"
   ]
  },
  {
   "cell_type": "markdown",
   "metadata": {},
   "source": [
    "Check your answer against `float_info.epsilon`. This should match your theoretical value exactly."
   ]
  },
  {
   "cell_type": "code",
   "execution_count": 6,
   "metadata": {
    "collapsed": false
   },
   "outputs": [
    {
     "data": {
      "text/plain": [
       "2.220446049250313e-16"
      ]
     },
     "execution_count": 6,
     "metadata": {},
     "output_type": "execute_result"
    }
   ],
   "source": [
    "float_info.epsilon"
   ]
  },
  {
   "cell_type": "markdown",
   "metadata": {},
   "source": [
    "## Overflow and underflow\n",
    "\n",
    "**Write a program to find the maximum and minimum positive numbers representable as a Python `float`.**\n",
    "\n",
    "You can use a very similar algorithm, but this time you will need to test whether the number is equal to $\\infty$, which you can represent as `float('inf')`, or zero."
   ]
  },
  {
   "cell_type": "code",
   "execution_count": 76,
   "metadata": {
    "collapsed": false
   },
   "outputs": [
    {
     "data": {
      "text/plain": [
       "8.98846567431158e+307"
      ]
     },
     "execution_count": 76,
     "metadata": {},
     "output_type": "execute_result"
    }
   ],
   "source": [
    "maxN=1.\n",
    "while maxN < float('inf'):\n",
    "    y=maxN\n",
    "    maxN *=2\n",
    "y"
   ]
  },
  {
   "cell_type": "code",
   "execution_count": 51,
   "metadata": {
    "collapsed": false
   },
   "outputs": [
    {
     "data": {
      "text/plain": [
       "5e-324"
      ]
     },
     "execution_count": 51,
     "metadata": {},
     "output_type": "execute_result"
    }
   ],
   "source": [
    "minN=0.01\n",
    "while minN>0:\n",
    "    x=minN\n",
    "    minN/=2\n",
    "x"
   ]
  },
  {
   "cell_type": "markdown",
   "metadata": {},
   "source": [
    "**Check your answers** against the \"official\" numbers from the following code:"
   ]
  },
  {
   "cell_type": "code",
   "execution_count": 49,
   "metadata": {
    "collapsed": false
   },
   "outputs": [
    {
     "data": {
      "text/plain": [
       "(2.2250738585072014e-308, 1.7976931348623157e+308)"
      ]
     },
     "execution_count": 49,
     "metadata": {},
     "output_type": "execute_result"
    }
   ],
   "source": [
    "float_info.min, float_info.max"
   ]
  },
  {
   "cell_type": "markdown",
   "metadata": {},
   "source": [
    "You will notice something odd: while the greatest possible number should match your results fairly well, the smallest possible number from your results should be several orders of magnitude than is theoretically possible! This is because of a clever process known as *gradual underflow*. \n",
    "\n",
    "To investigate, **start with a number near the smallest possible, say $10^{-300}$, and divide repeatedly by 300, printing out the result at each step.** What do you notice about the precision of each result? Can you explain what is going on?"
   ]
  },
  {
   "cell_type": "code",
   "execution_count": 71,
   "metadata": {
    "collapsed": false
   },
   "outputs": [
    {
     "data": {
      "text/plain": [
       "[3.333333333333333e-303,\n",
       " 1.1111111111111111e-305,\n",
       " 3.7037037037037035e-308,\n",
       " 1.23456790123455e-310,\n",
       " 4.11522633745e-313,\n",
       " 1.371742115e-315,\n",
       " 4.572474e-318,\n",
       " 1.524e-320,\n",
       " 5e-323,\n",
       " 0.0]"
      ]
     },
     "execution_count": 71,
     "metadata": {},
     "output_type": "execute_result"
    }
   ],
   "source": [
    "z=10**-300\n",
    "li=[]\n",
    "for i in range(10):\n",
    "    z/=300\n",
    "    li.append(z)\n",
    "li"
   ]
  },
  {
   "cell_type": "markdown",
   "metadata": {},
   "source": [
    "rounding errors are carried forward"
   ]
  },
  {
   "cell_type": "markdown",
   "metadata": {},
   "source": [
    "## Integer overflow\n",
    "\n",
    "As we noted in class, it's a little tricky to demonstrate integer overflow using the base Python library, because it cleverly increases the amount of memory allocated in order to be able to store arbitrarily large integers. The `array` type from the `numpy` library, however, doesn't do this. (This is on balance a good thing: it is designed to deal fast with very large amounts of data, and being able to specify exactly how much memory should be reserved for each array entry makes sense if there are millions of entries.)\n",
    "\n",
    "We will create an `array` with only one component, which we specify as an integer occupying sixteen bits of memory:"
   ]
  },
  {
   "cell_type": "code",
   "execution_count": 77,
   "metadata": {
    "collapsed": false
   },
   "outputs": [
    {
     "name": "stdout",
     "output_type": "stream",
     "text": [
      "[0]\n"
     ]
    }
   ],
   "source": [
    "from numpy import array\n",
    "my_integer = array([0], dtype='int16')\n",
    "print(my_integer)"
   ]
  },
  {
   "cell_type": "markdown",
   "metadata": {},
   "source": [
    "Remembering that one of those sixteen bits is reserved to indicate the sign, **what is the largest number that can be represented in this array?**"
   ]
  },
  {
   "cell_type": "code",
   "execution_count": 79,
   "metadata": {
    "collapsed": false
   },
   "outputs": [
    {
     "data": {
      "text/plain": [
       "65535"
      ]
     },
     "execution_count": 79,
     "metadata": {},
     "output_type": "execute_result"
    }
   ],
   "source": [
    "num=0\n",
    "for i in range(16):\n",
    "    num+=2**i\n",
    "num"
   ]
  },
  {
   "cell_type": "markdown",
   "metadata": {},
   "source": [
    "**Check your answer by setting `my_integer[0]` to this number, then adding one.** Is the result what you expect?"
   ]
  },
  {
   "cell_type": "code",
   "execution_count": 84,
   "metadata": {
    "collapsed": false
   },
   "outputs": [
    {
     "data": {
      "text/plain": [
       "0"
      ]
     },
     "execution_count": 84,
     "metadata": {},
     "output_type": "execute_result"
    }
   ],
   "source": [
    "my_integer[0] = num # insert your number here\n",
    "# now add 1 and print the result\n",
    "my_integer[0]+1"
   ]
  },
  {
   "cell_type": "markdown",
   "metadata": {},
   "source": [
    "▶ **CHECKPOINT 1**"
   ]
  },
  {
   "cell_type": "markdown",
   "metadata": {},
   "source": [
    "## Subtractive cancellation\n",
    "\n",
    "The well-known *quadratic formula* says that the equation $ax^2 + bx + c = 0$ has solutions\n",
    "\n",
    "$$ x_{1, 2} = \\frac{-b \\pm \\sqrt{b^2 - 4ac}}{2a}.$$ \n",
    "\n",
    "However, multiplying numerator and denominator by $-b \\mp \\sqrt{b^2 - 4ac}$, we find that these can alternatively be expressed as\n",
    "\n",
    "$$ x'_{1,2} = \\frac{-2c}{b\\pm\\sqrt{b^2 - 4ac}}.$$\n",
    "\n",
    "**Write a program to calculate all four answers for given $a$, $b$, $c$. Your program should calculate the fractional differences $(x_1 - x_1')/x_1$ and $(x_2 - x_2')/x_2$.** \n",
    "\n",
    "(Remember that you can get a square root function from the `numpy` module: `from numpy import sqrt`.)"
   ]
  },
  {
   "cell_type": "code",
   "execution_count": 8,
   "metadata": {
    "collapsed": false
   },
   "outputs": [],
   "source": [
    "def quadratic(a,b,c):\n",
    "    \"finds root of quadratic equation:  ax2+bx+c=0ax2+bx+c=0\"\n",
    "    from math import sqrt\n",
    "    x1=(-b+sqrt(b**2-4*a*c))/(2*a)\n",
    "    x2=(-b-sqrt(b**2-4*a*c))/(2*a)\n",
    "    x1prime=-2*c/(b+sqrt(b**2-4*a*c))\n",
    "    x2prime=-2*c/(b-sqrt(b**2-4*a*c))\n",
    "    x1Difference=(x1-x1prime)/x1 # fractional difference\n",
    "    x2Difference=(x2-x2prime)/x2\n",
    "    answers=(x1, x2, x1prime,x2prime, x1Difference, x2Difference)\n",
    "    return answers"
   ]
  },
  {
   "cell_type": "code",
   "execution_count": 10,
   "metadata": {
    "collapsed": false
   },
   "outputs": [
    {
     "data": {
      "text/plain": [
       "(-0.2, -1.0, -0.2, -1.0, -0.0, -0.0)"
      ]
     },
     "execution_count": 10,
     "metadata": {},
     "output_type": "execute_result"
    }
   ],
   "source": [
    "quadratic(5,6,1) # check -1,-0.2 "
   ]
  },
  {
   "cell_type": "markdown",
   "metadata": {},
   "source": [
    "We will test your program on the equation with $a = b = 1$, $c = 10^{-n}$, $n = 1, 2, 3, \\dots$, or in other words\n",
    "\n",
    "$$ x^2 + x = -10^{-n}.$$\n",
    "\n",
    "In the limit where the right-hand side tends to zero, of course the solutions are $x_1 = 0$ and $x_2 = -1$. For small but non-zero $c$, we can make a good approximation by noting that, since $x_1$ will be very small, $x_1^2$ will be negligible; thus $x_1\\approx -10^{-n}$. Similarly, $x_2\\approx 1 - 10^{-n}$.\n",
    "\n",
    "**Test your program for $a = b = 1$, $c = 10^{-n}$, $n = 1, 2, 3, \\dots$.** Can you explain your results? Where the two formulae differ, which is the most accurate and why?"
   ]
  },
  {
   "cell_type": "code",
   "execution_count": 11,
   "metadata": {
    "collapsed": false
   },
   "outputs": [],
   "source": [
    "table=[]\n",
    "for n in range(1,17):\n",
    "    table.append(quadratic(1,1,10**-n))\n",
    "    n+=1"
   ]
  },
  {
   "cell_type": "code",
   "execution_count": 12,
   "metadata": {
    "collapsed": false
   },
   "outputs": [
    {
     "name": "stdout",
     "output_type": "stream",
     "text": [
      "x1       x2       x1'      x2'      x1 Diff    x2 Diff   \n",
      "-0.113  -0.887   -0.113   -0.887   -0.000     -0.000\n",
      "-0.010  -0.990   -0.010   -0.990    0.000      0.000\n",
      "-0.001  -0.999   -0.001   -0.999   -0.000     -0.000\n",
      "-0.000  -1.000   -0.000   -1.000   -0.000     -0.000\n",
      "-0.000  -1.000   -0.000   -1.000    0.000      0.000\n",
      "-0.000  -1.000   -0.000   -1.000    0.000      0.000\n",
      "-0.000  -1.000   -0.000   -1.000   -0.000     -0.000\n",
      "-0.000  -1.000   -0.000   -1.000    0.000      0.000\n",
      "-0.000  -1.000   -0.000   -1.000    0.000      0.000\n",
      "-0.000  -1.000   -0.000   -1.000    0.000      0.000\n",
      "-0.000  -1.000   -0.000   -1.000    0.000      0.000\n",
      "-0.000  -1.000   -0.000   -1.000    0.000      0.000\n",
      "-0.000  -1.000   -0.000   -1.000    0.000      0.000\n",
      "-0.000  -1.000   -0.000   -1.001   -0.001     -0.001\n",
      "-0.000  -1.000   -0.000   -1.001   -0.001     -0.001\n",
      "-0.000  -1.000   -0.000   -0.901    0.099      0.099\n"
     ]
    }
   ],
   "source": [
    "print(\"{:8.10s} {:8.10s} {:8.10s} {:8.10s} {:10.13s} {:10.13s}\".format(\"x1\", \"x2\",\"x1'\",\"x2'\",'x1 Diff','x2 Diff'))\n",
    "for element in table:\n",
    "    print(\"{:.3f} {:7.3f} {:8.3f} {:8.3f} {:8.3f} {:10.3f}\".format(element[0], element[1],element[2],element[3],element[4],element[5] ))\n"
   ]
  },
  {
   "cell_type": "markdown",
   "metadata": {},
   "source": [
    "**What would you expect to happen for the case $a = 1$, $b = -1$, $c = 10^{-n}$, $n = 1, 2, 3, \\dots$?** Make a prediction then use your program to test it."
   ]
  },
  {
   "cell_type": "code",
   "execution_count": 13,
   "metadata": {
    "collapsed": false
   },
   "outputs": [
    {
     "name": "stdout",
     "output_type": "stream",
     "text": [
      "x1       x2       x1'      x2'      x1 Diff    x2 Diff   \n",
      "0.887   0.113    0.887    0.113   -0.000     -0.000\n",
      "0.990   0.010    0.990    0.010    0.000      0.000\n",
      "0.999   0.001    0.999    0.001   -0.000     -0.000\n",
      "1.000   0.000    1.000    0.000   -0.000     -0.000\n",
      "1.000   0.000    1.000    0.000    0.000      0.000\n",
      "1.000   0.000    1.000    0.000    0.000      0.000\n",
      "1.000   0.000    1.000    0.000   -0.000     -0.000\n",
      "1.000   0.000    1.000    0.000    0.000      0.000\n",
      "1.000   0.000    1.000    0.000    0.000      0.000\n",
      "1.000   0.000    1.000    0.000    0.000      0.000\n",
      "1.000   0.000    1.000    0.000    0.000      0.000\n",
      "1.000   0.000    1.000    0.000    0.000      0.000\n",
      "1.000   0.000    1.000    0.000    0.000      0.000\n",
      "1.000   0.000    1.001    0.000   -0.001     -0.001\n",
      "1.000   0.000    1.001    0.000   -0.001     -0.001\n",
      "1.000   0.000    0.901    0.000    0.099      0.099\n"
     ]
    }
   ],
   "source": [
    "table2=[]\n",
    "for n in range(1,17):\n",
    "    table2.append(quadratic(1,-1,10**-n))\n",
    "    n+=1\n",
    "print(\"{:8.10s} {:8.10s} {:8.10s} {:8.10s} {:10.13s} {:10.13s}\".format(\"x1\", \"x2\",\"x1'\",\"x2'\",'x1 Diff','x2 Diff'))\n",
    "for element in table2:\n",
    "    print(\"{:.3f} {:7.3f} {:8.3f} {:8.3f} {:8.3f} {:10.3f}\".format(element[0], element[1],element[2],element[3],element[4],element[5] ))\n"
   ]
  },
  {
   "cell_type": "markdown",
   "metadata": {},
   "source": [
    "▶ **CHECKPOINT 2**"
   ]
  },
  {
   "cell_type": "markdown",
   "metadata": {},
   "source": [
    "## Series summation\n",
    "\n",
    "We will write our own (Python) function to calculate the (mathematical) sine function. One obvious way is to evaluate the Taylor series:\n",
    "\n",
    "$$\n",
    "\\sin x = x - \\frac{x^3}{3!} + \\frac{x^5}{5!} - \\frac{x^7}{7!} + \\dots = \\sum_{n=1}^\\infty\\frac{(-1)^{n-1}x^{2n-1}}{(2n-1)!}\n",
    "$$\n",
    "\n",
    "A small trick will come in useful here. As $n$ gets larger (and we will certainly need to add lots of terms to get an accurate result!) it will take longer and longer to calculate both $x^{2n-1}$ and $(2n-1)!$. However, both of these are easy to calculate *given the previous term*. So the smart way to evaluate this series is to keep track of the previous term added, and then use a recursive relationship\n",
    "\n",
    "$$\n",
    "t_{n} = t_{n-1} \\times \\frac{-x^2}{(2n - 1)(2n - 2)}.\n",
    "$$\n",
    "\n",
    "**Check that you understand** how this works, then **write a function `sine_sum(x)`** to calculate $\\sin(x)$ by this method. You will need to make a sensible choice for when to stop adding terms: discuss this with your demonstrator if you're not sure."
   ]
  },
  {
   "cell_type": "code",
   "execution_count": 6,
   "metadata": {
    "collapsed": false
   },
   "outputs": [],
   "source": [
    "def sine_sum(x):\n",
    "    sine_x=x\n",
    "    tn=x\n",
    "    n=2\n",
    "    while abs(tn)>1e-5:\n",
    "        tn = -tn * (x**2) / ((2*n-1)*(2*n-2))\n",
    "        #tn = -tn*(x**2)*(2*n+1)*(2*n+2) / ((4*n**2-1)*(4*n**2-4))\n",
    "        sine_x += tn\n",
    "        n+=1\n",
    "    return sine_x"
   ]
  },
  {
   "cell_type": "code",
   "execution_count": 7,
   "metadata": {
    "collapsed": false
   },
   "outputs": [
    {
     "data": {
      "text/plain": [
       "0.999999943741051"
      ]
     },
     "execution_count": 7,
     "metadata": {},
     "output_type": "execute_result"
    }
   ],
   "source": [
    "from math import pi\n",
    "sine_sum(pi/2) #check answer=1"
   ]
  },
  {
   "cell_type": "markdown",
   "metadata": {},
   "source": [
    "With care, it is not difficult to write functions that can cope with `array` arguments. However, there is a \"cheat\" way to do this automatically, using the `vectorize` function from `numpy`:"
   ]
  },
  {
   "cell_type": "code",
   "execution_count": 8,
   "metadata": {
    "collapsed": true
   },
   "outputs": [],
   "source": [
    "from numpy import vectorize\n",
    "sine_sum = vectorize(sine_sum)"
   ]
  },
  {
   "cell_type": "markdown",
   "metadata": {},
   "source": [
    "Now you can call `sine_sum()` on an array in the same way as you can on the library `sin()` function. This lets us plot this function very easily. \n",
    "\n",
    "(Advanced Python note: if you know in advance you are going to do this, you can use the *decorator* syntax:\n",
    "\n",
    "    from numpy import vectorize\n",
    "    \n",
    "    @vectorize\n",
    "    def sine_sum(x):\n",
    "        #... function definition goes here\n",
    "\n",
    "This does the same thing as calling `sine_sum = vectorize(sine_sum)` after the event as we’ve done here.)\n",
    "\n",
    "**Complete the following code** to plot both your function and the library one. "
   ]
  },
  {
   "cell_type": "code",
   "execution_count": 9,
   "metadata": {
    "collapsed": false
   },
   "outputs": [
    {
     "data": {
      "application/javascript": [
       "/* Put everything inside the global mpl namespace */\n",
       "window.mpl = {};\n",
       "\n",
       "\n",
       "mpl.get_websocket_type = function() {\n",
       "    if (typeof(WebSocket) !== 'undefined') {\n",
       "        return WebSocket;\n",
       "    } else if (typeof(MozWebSocket) !== 'undefined') {\n",
       "        return MozWebSocket;\n",
       "    } else {\n",
       "        alert('Your browser does not have WebSocket support.' +\n",
       "              'Please try Chrome, Safari or Firefox ≥ 6. ' +\n",
       "              'Firefox 4 and 5 are also supported but you ' +\n",
       "              'have to enable WebSockets in about:config.');\n",
       "    };\n",
       "}\n",
       "\n",
       "mpl.figure = function(figure_id, websocket, ondownload, parent_element) {\n",
       "    this.id = figure_id;\n",
       "\n",
       "    this.ws = websocket;\n",
       "\n",
       "    this.supports_binary = (this.ws.binaryType != undefined);\n",
       "\n",
       "    if (!this.supports_binary) {\n",
       "        var warnings = document.getElementById(\"mpl-warnings\");\n",
       "        if (warnings) {\n",
       "            warnings.style.display = 'block';\n",
       "            warnings.textContent = (\n",
       "                \"This browser does not support binary websocket messages. \" +\n",
       "                    \"Performance may be slow.\");\n",
       "        }\n",
       "    }\n",
       "\n",
       "    this.imageObj = new Image();\n",
       "\n",
       "    this.context = undefined;\n",
       "    this.message = undefined;\n",
       "    this.canvas = undefined;\n",
       "    this.rubberband_canvas = undefined;\n",
       "    this.rubberband_context = undefined;\n",
       "    this.format_dropdown = undefined;\n",
       "\n",
       "    this.image_mode = 'full';\n",
       "\n",
       "    this.root = $('<div/>');\n",
       "    this._root_extra_style(this.root)\n",
       "    this.root.attr('style', 'display: inline-block');\n",
       "\n",
       "    $(parent_element).append(this.root);\n",
       "\n",
       "    this._init_header(this);\n",
       "    this._init_canvas(this);\n",
       "    this._init_toolbar(this);\n",
       "\n",
       "    var fig = this;\n",
       "\n",
       "    this.waiting = false;\n",
       "\n",
       "    this.ws.onopen =  function () {\n",
       "            fig.send_message(\"supports_binary\", {value: fig.supports_binary});\n",
       "            fig.send_message(\"send_image_mode\", {});\n",
       "            if (mpl.ratio != 1) {\n",
       "                fig.send_message(\"set_dpi_ratio\", {'dpi_ratio': mpl.ratio});\n",
       "            }\n",
       "            fig.send_message(\"refresh\", {});\n",
       "        }\n",
       "\n",
       "    this.imageObj.onload = function() {\n",
       "            if (fig.image_mode == 'full') {\n",
       "                // Full images could contain transparency (where diff images\n",
       "                // almost always do), so we need to clear the canvas so that\n",
       "                // there is no ghosting.\n",
       "                fig.context.clearRect(0, 0, fig.canvas.width, fig.canvas.height);\n",
       "            }\n",
       "            fig.context.drawImage(fig.imageObj, 0, 0);\n",
       "        };\n",
       "\n",
       "    this.imageObj.onunload = function() {\n",
       "        this.ws.close();\n",
       "    }\n",
       "\n",
       "    this.ws.onmessage = this._make_on_message_function(this);\n",
       "\n",
       "    this.ondownload = ondownload;\n",
       "}\n",
       "\n",
       "mpl.figure.prototype._init_header = function() {\n",
       "    var titlebar = $(\n",
       "        '<div class=\"ui-dialog-titlebar ui-widget-header ui-corner-all ' +\n",
       "        'ui-helper-clearfix\"/>');\n",
       "    var titletext = $(\n",
       "        '<div class=\"ui-dialog-title\" style=\"width: 100%; ' +\n",
       "        'text-align: center; padding: 3px;\"/>');\n",
       "    titlebar.append(titletext)\n",
       "    this.root.append(titlebar);\n",
       "    this.header = titletext[0];\n",
       "}\n",
       "\n",
       "\n",
       "\n",
       "mpl.figure.prototype._canvas_extra_style = function(canvas_div) {\n",
       "\n",
       "}\n",
       "\n",
       "\n",
       "mpl.figure.prototype._root_extra_style = function(canvas_div) {\n",
       "\n",
       "}\n",
       "\n",
       "mpl.figure.prototype._init_canvas = function() {\n",
       "    var fig = this;\n",
       "\n",
       "    var canvas_div = $('<div/>');\n",
       "\n",
       "    canvas_div.attr('style', 'position: relative; clear: both; outline: 0');\n",
       "\n",
       "    function canvas_keyboard_event(event) {\n",
       "        return fig.key_event(event, event['data']);\n",
       "    }\n",
       "\n",
       "    canvas_div.keydown('key_press', canvas_keyboard_event);\n",
       "    canvas_div.keyup('key_release', canvas_keyboard_event);\n",
       "    this.canvas_div = canvas_div\n",
       "    this._canvas_extra_style(canvas_div)\n",
       "    this.root.append(canvas_div);\n",
       "\n",
       "    var canvas = $('<canvas/>');\n",
       "    canvas.addClass('mpl-canvas');\n",
       "    canvas.attr('style', \"left: 0; top: 0; z-index: 0; outline: 0\")\n",
       "\n",
       "    this.canvas = canvas[0];\n",
       "    this.context = canvas[0].getContext(\"2d\");\n",
       "\n",
       "    var backingStore = this.context.backingStorePixelRatio ||\n",
       "\tthis.context.webkitBackingStorePixelRatio ||\n",
       "\tthis.context.mozBackingStorePixelRatio ||\n",
       "\tthis.context.msBackingStorePixelRatio ||\n",
       "\tthis.context.oBackingStorePixelRatio ||\n",
       "\tthis.context.backingStorePixelRatio || 1;\n",
       "\n",
       "    mpl.ratio = (window.devicePixelRatio || 1) / backingStore;\n",
       "\n",
       "    var rubberband = $('<canvas/>');\n",
       "    rubberband.attr('style', \"position: absolute; left: 0; top: 0; z-index: 1;\")\n",
       "\n",
       "    var pass_mouse_events = true;\n",
       "\n",
       "    canvas_div.resizable({\n",
       "        start: function(event, ui) {\n",
       "            pass_mouse_events = false;\n",
       "        },\n",
       "        resize: function(event, ui) {\n",
       "            fig.request_resize(ui.size.width, ui.size.height);\n",
       "        },\n",
       "        stop: function(event, ui) {\n",
       "            pass_mouse_events = true;\n",
       "            fig.request_resize(ui.size.width, ui.size.height);\n",
       "        },\n",
       "    });\n",
       "\n",
       "    function mouse_event_fn(event) {\n",
       "        if (pass_mouse_events)\n",
       "            return fig.mouse_event(event, event['data']);\n",
       "    }\n",
       "\n",
       "    rubberband.mousedown('button_press', mouse_event_fn);\n",
       "    rubberband.mouseup('button_release', mouse_event_fn);\n",
       "    // Throttle sequential mouse events to 1 every 20ms.\n",
       "    rubberband.mousemove('motion_notify', mouse_event_fn);\n",
       "\n",
       "    rubberband.mouseenter('figure_enter', mouse_event_fn);\n",
       "    rubberband.mouseleave('figure_leave', mouse_event_fn);\n",
       "\n",
       "    canvas_div.on(\"wheel\", function (event) {\n",
       "        event = event.originalEvent;\n",
       "        event['data'] = 'scroll'\n",
       "        if (event.deltaY < 0) {\n",
       "            event.step = 1;\n",
       "        } else {\n",
       "            event.step = -1;\n",
       "        }\n",
       "        mouse_event_fn(event);\n",
       "    });\n",
       "\n",
       "    canvas_div.append(canvas);\n",
       "    canvas_div.append(rubberband);\n",
       "\n",
       "    this.rubberband = rubberband;\n",
       "    this.rubberband_canvas = rubberband[0];\n",
       "    this.rubberband_context = rubberband[0].getContext(\"2d\");\n",
       "    this.rubberband_context.strokeStyle = \"#000000\";\n",
       "\n",
       "    this._resize_canvas = function(width, height) {\n",
       "        // Keep the size of the canvas, canvas container, and rubber band\n",
       "        // canvas in synch.\n",
       "        canvas_div.css('width', width)\n",
       "        canvas_div.css('height', height)\n",
       "\n",
       "        canvas.attr('width', width * mpl.ratio);\n",
       "        canvas.attr('height', height * mpl.ratio);\n",
       "        canvas.attr('style', 'width: ' + width + 'px; height: ' + height + 'px;');\n",
       "\n",
       "        rubberband.attr('width', width);\n",
       "        rubberband.attr('height', height);\n",
       "    }\n",
       "\n",
       "    // Set the figure to an initial 600x600px, this will subsequently be updated\n",
       "    // upon first draw.\n",
       "    this._resize_canvas(600, 600);\n",
       "\n",
       "    // Disable right mouse context menu.\n",
       "    $(this.rubberband_canvas).bind(\"contextmenu\",function(e){\n",
       "        return false;\n",
       "    });\n",
       "\n",
       "    function set_focus () {\n",
       "        canvas.focus();\n",
       "        canvas_div.focus();\n",
       "    }\n",
       "\n",
       "    window.setTimeout(set_focus, 100);\n",
       "}\n",
       "\n",
       "mpl.figure.prototype._init_toolbar = function() {\n",
       "    var fig = this;\n",
       "\n",
       "    var nav_element = $('<div/>')\n",
       "    nav_element.attr('style', 'width: 100%');\n",
       "    this.root.append(nav_element);\n",
       "\n",
       "    // Define a callback function for later on.\n",
       "    function toolbar_event(event) {\n",
       "        return fig.toolbar_button_onclick(event['data']);\n",
       "    }\n",
       "    function toolbar_mouse_event(event) {\n",
       "        return fig.toolbar_button_onmouseover(event['data']);\n",
       "    }\n",
       "\n",
       "    for(var toolbar_ind in mpl.toolbar_items) {\n",
       "        var name = mpl.toolbar_items[toolbar_ind][0];\n",
       "        var tooltip = mpl.toolbar_items[toolbar_ind][1];\n",
       "        var image = mpl.toolbar_items[toolbar_ind][2];\n",
       "        var method_name = mpl.toolbar_items[toolbar_ind][3];\n",
       "\n",
       "        if (!name) {\n",
       "            // put a spacer in here.\n",
       "            continue;\n",
       "        }\n",
       "        var button = $('<button/>');\n",
       "        button.addClass('ui-button ui-widget ui-state-default ui-corner-all ' +\n",
       "                        'ui-button-icon-only');\n",
       "        button.attr('role', 'button');\n",
       "        button.attr('aria-disabled', 'false');\n",
       "        button.click(method_name, toolbar_event);\n",
       "        button.mouseover(tooltip, toolbar_mouse_event);\n",
       "\n",
       "        var icon_img = $('<span/>');\n",
       "        icon_img.addClass('ui-button-icon-primary ui-icon');\n",
       "        icon_img.addClass(image);\n",
       "        icon_img.addClass('ui-corner-all');\n",
       "\n",
       "        var tooltip_span = $('<span/>');\n",
       "        tooltip_span.addClass('ui-button-text');\n",
       "        tooltip_span.html(tooltip);\n",
       "\n",
       "        button.append(icon_img);\n",
       "        button.append(tooltip_span);\n",
       "\n",
       "        nav_element.append(button);\n",
       "    }\n",
       "\n",
       "    var fmt_picker_span = $('<span/>');\n",
       "\n",
       "    var fmt_picker = $('<select/>');\n",
       "    fmt_picker.addClass('mpl-toolbar-option ui-widget ui-widget-content');\n",
       "    fmt_picker_span.append(fmt_picker);\n",
       "    nav_element.append(fmt_picker_span);\n",
       "    this.format_dropdown = fmt_picker[0];\n",
       "\n",
       "    for (var ind in mpl.extensions) {\n",
       "        var fmt = mpl.extensions[ind];\n",
       "        var option = $(\n",
       "            '<option/>', {selected: fmt === mpl.default_extension}).html(fmt);\n",
       "        fmt_picker.append(option)\n",
       "    }\n",
       "\n",
       "    // Add hover states to the ui-buttons\n",
       "    $( \".ui-button\" ).hover(\n",
       "        function() { $(this).addClass(\"ui-state-hover\");},\n",
       "        function() { $(this).removeClass(\"ui-state-hover\");}\n",
       "    );\n",
       "\n",
       "    var status_bar = $('<span class=\"mpl-message\"/>');\n",
       "    nav_element.append(status_bar);\n",
       "    this.message = status_bar[0];\n",
       "}\n",
       "\n",
       "mpl.figure.prototype.request_resize = function(x_pixels, y_pixels) {\n",
       "    // Request matplotlib to resize the figure. Matplotlib will then trigger a resize in the client,\n",
       "    // which will in turn request a refresh of the image.\n",
       "    this.send_message('resize', {'width': x_pixels, 'height': y_pixels});\n",
       "}\n",
       "\n",
       "mpl.figure.prototype.send_message = function(type, properties) {\n",
       "    properties['type'] = type;\n",
       "    properties['figure_id'] = this.id;\n",
       "    this.ws.send(JSON.stringify(properties));\n",
       "}\n",
       "\n",
       "mpl.figure.prototype.send_draw_message = function() {\n",
       "    if (!this.waiting) {\n",
       "        this.waiting = true;\n",
       "        this.ws.send(JSON.stringify({type: \"draw\", figure_id: this.id}));\n",
       "    }\n",
       "}\n",
       "\n",
       "\n",
       "mpl.figure.prototype.handle_save = function(fig, msg) {\n",
       "    var format_dropdown = fig.format_dropdown;\n",
       "    var format = format_dropdown.options[format_dropdown.selectedIndex].value;\n",
       "    fig.ondownload(fig, format);\n",
       "}\n",
       "\n",
       "\n",
       "mpl.figure.prototype.handle_resize = function(fig, msg) {\n",
       "    var size = msg['size'];\n",
       "    if (size[0] != fig.canvas.width || size[1] != fig.canvas.height) {\n",
       "        fig._resize_canvas(size[0], size[1]);\n",
       "        fig.send_message(\"refresh\", {});\n",
       "    };\n",
       "}\n",
       "\n",
       "mpl.figure.prototype.handle_rubberband = function(fig, msg) {\n",
       "    var x0 = msg['x0'] / mpl.ratio;\n",
       "    var y0 = (fig.canvas.height - msg['y0']) / mpl.ratio;\n",
       "    var x1 = msg['x1'] / mpl.ratio;\n",
       "    var y1 = (fig.canvas.height - msg['y1']) / mpl.ratio;\n",
       "    x0 = Math.floor(x0) + 0.5;\n",
       "    y0 = Math.floor(y0) + 0.5;\n",
       "    x1 = Math.floor(x1) + 0.5;\n",
       "    y1 = Math.floor(y1) + 0.5;\n",
       "    var min_x = Math.min(x0, x1);\n",
       "    var min_y = Math.min(y0, y1);\n",
       "    var width = Math.abs(x1 - x0);\n",
       "    var height = Math.abs(y1 - y0);\n",
       "\n",
       "    fig.rubberband_context.clearRect(\n",
       "        0, 0, fig.canvas.width, fig.canvas.height);\n",
       "\n",
       "    fig.rubberband_context.strokeRect(min_x, min_y, width, height);\n",
       "}\n",
       "\n",
       "mpl.figure.prototype.handle_figure_label = function(fig, msg) {\n",
       "    // Updates the figure title.\n",
       "    fig.header.textContent = msg['label'];\n",
       "}\n",
       "\n",
       "mpl.figure.prototype.handle_cursor = function(fig, msg) {\n",
       "    var cursor = msg['cursor'];\n",
       "    switch(cursor)\n",
       "    {\n",
       "    case 0:\n",
       "        cursor = 'pointer';\n",
       "        break;\n",
       "    case 1:\n",
       "        cursor = 'default';\n",
       "        break;\n",
       "    case 2:\n",
       "        cursor = 'crosshair';\n",
       "        break;\n",
       "    case 3:\n",
       "        cursor = 'move';\n",
       "        break;\n",
       "    }\n",
       "    fig.rubberband_canvas.style.cursor = cursor;\n",
       "}\n",
       "\n",
       "mpl.figure.prototype.handle_message = function(fig, msg) {\n",
       "    fig.message.textContent = msg['message'];\n",
       "}\n",
       "\n",
       "mpl.figure.prototype.handle_draw = function(fig, msg) {\n",
       "    // Request the server to send over a new figure.\n",
       "    fig.send_draw_message();\n",
       "}\n",
       "\n",
       "mpl.figure.prototype.handle_image_mode = function(fig, msg) {\n",
       "    fig.image_mode = msg['mode'];\n",
       "}\n",
       "\n",
       "mpl.figure.prototype.updated_canvas_event = function() {\n",
       "    // Called whenever the canvas gets updated.\n",
       "    this.send_message(\"ack\", {});\n",
       "}\n",
       "\n",
       "// A function to construct a web socket function for onmessage handling.\n",
       "// Called in the figure constructor.\n",
       "mpl.figure.prototype._make_on_message_function = function(fig) {\n",
       "    return function socket_on_message(evt) {\n",
       "        if (evt.data instanceof Blob) {\n",
       "            /* FIXME: We get \"Resource interpreted as Image but\n",
       "             * transferred with MIME type text/plain:\" errors on\n",
       "             * Chrome.  But how to set the MIME type?  It doesn't seem\n",
       "             * to be part of the websocket stream */\n",
       "            evt.data.type = \"image/png\";\n",
       "\n",
       "            /* Free the memory for the previous frames */\n",
       "            if (fig.imageObj.src) {\n",
       "                (window.URL || window.webkitURL).revokeObjectURL(\n",
       "                    fig.imageObj.src);\n",
       "            }\n",
       "\n",
       "            fig.imageObj.src = (window.URL || window.webkitURL).createObjectURL(\n",
       "                evt.data);\n",
       "            fig.updated_canvas_event();\n",
       "            fig.waiting = false;\n",
       "            return;\n",
       "        }\n",
       "        else if (typeof evt.data === 'string' && evt.data.slice(0, 21) == \"data:image/png;base64\") {\n",
       "            fig.imageObj.src = evt.data;\n",
       "            fig.updated_canvas_event();\n",
       "            fig.waiting = false;\n",
       "            return;\n",
       "        }\n",
       "\n",
       "        var msg = JSON.parse(evt.data);\n",
       "        var msg_type = msg['type'];\n",
       "\n",
       "        // Call the  \"handle_{type}\" callback, which takes\n",
       "        // the figure and JSON message as its only arguments.\n",
       "        try {\n",
       "            var callback = fig[\"handle_\" + msg_type];\n",
       "        } catch (e) {\n",
       "            console.log(\"No handler for the '\" + msg_type + \"' message type: \", msg);\n",
       "            return;\n",
       "        }\n",
       "\n",
       "        if (callback) {\n",
       "            try {\n",
       "                // console.log(\"Handling '\" + msg_type + \"' message: \", msg);\n",
       "                callback(fig, msg);\n",
       "            } catch (e) {\n",
       "                console.log(\"Exception inside the 'handler_\" + msg_type + \"' callback:\", e, e.stack, msg);\n",
       "            }\n",
       "        }\n",
       "    };\n",
       "}\n",
       "\n",
       "// from http://stackoverflow.com/questions/1114465/getting-mouse-location-in-canvas\n",
       "mpl.findpos = function(e) {\n",
       "    //this section is from http://www.quirksmode.org/js/events_properties.html\n",
       "    var targ;\n",
       "    if (!e)\n",
       "        e = window.event;\n",
       "    if (e.target)\n",
       "        targ = e.target;\n",
       "    else if (e.srcElement)\n",
       "        targ = e.srcElement;\n",
       "    if (targ.nodeType == 3) // defeat Safari bug\n",
       "        targ = targ.parentNode;\n",
       "\n",
       "    // jQuery normalizes the pageX and pageY\n",
       "    // pageX,Y are the mouse positions relative to the document\n",
       "    // offset() returns the position of the element relative to the document\n",
       "    var x = e.pageX - $(targ).offset().left;\n",
       "    var y = e.pageY - $(targ).offset().top;\n",
       "\n",
       "    return {\"x\": x, \"y\": y};\n",
       "};\n",
       "\n",
       "/*\n",
       " * return a copy of an object with only non-object keys\n",
       " * we need this to avoid circular references\n",
       " * http://stackoverflow.com/a/24161582/3208463\n",
       " */\n",
       "function simpleKeys (original) {\n",
       "  return Object.keys(original).reduce(function (obj, key) {\n",
       "    if (typeof original[key] !== 'object')\n",
       "        obj[key] = original[key]\n",
       "    return obj;\n",
       "  }, {});\n",
       "}\n",
       "\n",
       "mpl.figure.prototype.mouse_event = function(event, name) {\n",
       "    var canvas_pos = mpl.findpos(event)\n",
       "\n",
       "    if (name === 'button_press')\n",
       "    {\n",
       "        this.canvas.focus();\n",
       "        this.canvas_div.focus();\n",
       "    }\n",
       "\n",
       "    var x = canvas_pos.x * mpl.ratio;\n",
       "    var y = canvas_pos.y * mpl.ratio;\n",
       "\n",
       "    this.send_message(name, {x: x, y: y, button: event.button,\n",
       "                             step: event.step,\n",
       "                             guiEvent: simpleKeys(event)});\n",
       "\n",
       "    /* This prevents the web browser from automatically changing to\n",
       "     * the text insertion cursor when the button is pressed.  We want\n",
       "     * to control all of the cursor setting manually through the\n",
       "     * 'cursor' event from matplotlib */\n",
       "    event.preventDefault();\n",
       "    return false;\n",
       "}\n",
       "\n",
       "mpl.figure.prototype._key_event_extra = function(event, name) {\n",
       "    // Handle any extra behaviour associated with a key event\n",
       "}\n",
       "\n",
       "mpl.figure.prototype.key_event = function(event, name) {\n",
       "\n",
       "    // Prevent repeat events\n",
       "    if (name == 'key_press')\n",
       "    {\n",
       "        if (event.which === this._key)\n",
       "            return;\n",
       "        else\n",
       "            this._key = event.which;\n",
       "    }\n",
       "    if (name == 'key_release')\n",
       "        this._key = null;\n",
       "\n",
       "    var value = '';\n",
       "    if (event.ctrlKey && event.which != 17)\n",
       "        value += \"ctrl+\";\n",
       "    if (event.altKey && event.which != 18)\n",
       "        value += \"alt+\";\n",
       "    if (event.shiftKey && event.which != 16)\n",
       "        value += \"shift+\";\n",
       "\n",
       "    value += 'k';\n",
       "    value += event.which.toString();\n",
       "\n",
       "    this._key_event_extra(event, name);\n",
       "\n",
       "    this.send_message(name, {key: value,\n",
       "                             guiEvent: simpleKeys(event)});\n",
       "    return false;\n",
       "}\n",
       "\n",
       "mpl.figure.prototype.toolbar_button_onclick = function(name) {\n",
       "    if (name == 'download') {\n",
       "        this.handle_save(this, null);\n",
       "    } else {\n",
       "        this.send_message(\"toolbar_button\", {name: name});\n",
       "    }\n",
       "};\n",
       "\n",
       "mpl.figure.prototype.toolbar_button_onmouseover = function(tooltip) {\n",
       "    this.message.textContent = tooltip;\n",
       "};\n",
       "mpl.toolbar_items = [[\"Home\", \"Reset original view\", \"fa fa-home icon-home\", \"home\"], [\"Back\", \"Back to  previous view\", \"fa fa-arrow-left icon-arrow-left\", \"back\"], [\"Forward\", \"Forward to next view\", \"fa fa-arrow-right icon-arrow-right\", \"forward\"], [\"\", \"\", \"\", \"\"], [\"Pan\", \"Pan axes with left mouse, zoom with right\", \"fa fa-arrows icon-move\", \"pan\"], [\"Zoom\", \"Zoom to rectangle\", \"fa fa-square-o icon-check-empty\", \"zoom\"], [\"\", \"\", \"\", \"\"], [\"Download\", \"Download plot\", \"fa fa-floppy-o icon-save\", \"download\"]];\n",
       "\n",
       "mpl.extensions = [\"eps\", \"jpeg\", \"pdf\", \"png\", \"ps\", \"raw\", \"svg\", \"tif\"];\n",
       "\n",
       "mpl.default_extension = \"png\";var comm_websocket_adapter = function(comm) {\n",
       "    // Create a \"websocket\"-like object which calls the given IPython comm\n",
       "    // object with the appropriate methods. Currently this is a non binary\n",
       "    // socket, so there is still some room for performance tuning.\n",
       "    var ws = {};\n",
       "\n",
       "    ws.close = function() {\n",
       "        comm.close()\n",
       "    };\n",
       "    ws.send = function(m) {\n",
       "        //console.log('sending', m);\n",
       "        comm.send(m);\n",
       "    };\n",
       "    // Register the callback with on_msg.\n",
       "    comm.on_msg(function(msg) {\n",
       "        //console.log('receiving', msg['content']['data'], msg);\n",
       "        // Pass the mpl event to the overriden (by mpl) onmessage function.\n",
       "        ws.onmessage(msg['content']['data'])\n",
       "    });\n",
       "    return ws;\n",
       "}\n",
       "\n",
       "mpl.mpl_figure_comm = function(comm, msg) {\n",
       "    // This is the function which gets called when the mpl process\n",
       "    // starts-up an IPython Comm through the \"matplotlib\" channel.\n",
       "\n",
       "    var id = msg.content.data.id;\n",
       "    // Get hold of the div created by the display call when the Comm\n",
       "    // socket was opened in Python.\n",
       "    var element = $(\"#\" + id);\n",
       "    var ws_proxy = comm_websocket_adapter(comm)\n",
       "\n",
       "    function ondownload(figure, format) {\n",
       "        window.open(figure.imageObj.src);\n",
       "    }\n",
       "\n",
       "    var fig = new mpl.figure(id, ws_proxy,\n",
       "                           ondownload,\n",
       "                           element.get(0));\n",
       "\n",
       "    // Call onopen now - mpl needs it, as it is assuming we've passed it a real\n",
       "    // web socket which is closed, not our websocket->open comm proxy.\n",
       "    ws_proxy.onopen();\n",
       "\n",
       "    fig.parent_element = element.get(0);\n",
       "    fig.cell_info = mpl.find_output_cell(\"<div id='\" + id + \"'></div>\");\n",
       "    if (!fig.cell_info) {\n",
       "        console.error(\"Failed to find cell for figure\", id, fig);\n",
       "        return;\n",
       "    }\n",
       "\n",
       "    var output_index = fig.cell_info[2]\n",
       "    var cell = fig.cell_info[0];\n",
       "\n",
       "};\n",
       "\n",
       "mpl.figure.prototype.handle_close = function(fig, msg) {\n",
       "    var width = fig.canvas.width/mpl.ratio\n",
       "    fig.root.unbind('remove')\n",
       "\n",
       "    // Update the output cell to use the data from the current canvas.\n",
       "    fig.push_to_output();\n",
       "    var dataURL = fig.canvas.toDataURL();\n",
       "    // Re-enable the keyboard manager in IPython - without this line, in FF,\n",
       "    // the notebook keyboard shortcuts fail.\n",
       "    IPython.keyboard_manager.enable()\n",
       "    $(fig.parent_element).html('<img src=\"' + dataURL + '\" width=\"' + width + '\">');\n",
       "    fig.close_ws(fig, msg);\n",
       "}\n",
       "\n",
       "mpl.figure.prototype.close_ws = function(fig, msg){\n",
       "    fig.send_message('closing', msg);\n",
       "    // fig.ws.close()\n",
       "}\n",
       "\n",
       "mpl.figure.prototype.push_to_output = function(remove_interactive) {\n",
       "    // Turn the data on the canvas into data in the output cell.\n",
       "    var width = this.canvas.width/mpl.ratio\n",
       "    var dataURL = this.canvas.toDataURL();\n",
       "    this.cell_info[1]['text/html'] = '<img src=\"' + dataURL + '\" width=\"' + width + '\">';\n",
       "}\n",
       "\n",
       "mpl.figure.prototype.updated_canvas_event = function() {\n",
       "    // Tell IPython that the notebook contents must change.\n",
       "    IPython.notebook.set_dirty(true);\n",
       "    this.send_message(\"ack\", {});\n",
       "    var fig = this;\n",
       "    // Wait a second, then push the new image to the DOM so\n",
       "    // that it is saved nicely (might be nice to debounce this).\n",
       "    setTimeout(function () { fig.push_to_output() }, 1000);\n",
       "}\n",
       "\n",
       "mpl.figure.prototype._init_toolbar = function() {\n",
       "    var fig = this;\n",
       "\n",
       "    var nav_element = $('<div/>')\n",
       "    nav_element.attr('style', 'width: 100%');\n",
       "    this.root.append(nav_element);\n",
       "\n",
       "    // Define a callback function for later on.\n",
       "    function toolbar_event(event) {\n",
       "        return fig.toolbar_button_onclick(event['data']);\n",
       "    }\n",
       "    function toolbar_mouse_event(event) {\n",
       "        return fig.toolbar_button_onmouseover(event['data']);\n",
       "    }\n",
       "\n",
       "    for(var toolbar_ind in mpl.toolbar_items){\n",
       "        var name = mpl.toolbar_items[toolbar_ind][0];\n",
       "        var tooltip = mpl.toolbar_items[toolbar_ind][1];\n",
       "        var image = mpl.toolbar_items[toolbar_ind][2];\n",
       "        var method_name = mpl.toolbar_items[toolbar_ind][3];\n",
       "\n",
       "        if (!name) { continue; };\n",
       "\n",
       "        var button = $('<button class=\"btn btn-default\" href=\"#\" title=\"' + name + '\"><i class=\"fa ' + image + ' fa-lg\"></i></button>');\n",
       "        button.click(method_name, toolbar_event);\n",
       "        button.mouseover(tooltip, toolbar_mouse_event);\n",
       "        nav_element.append(button);\n",
       "    }\n",
       "\n",
       "    // Add the status bar.\n",
       "    var status_bar = $('<span class=\"mpl-message\" style=\"text-align:right; float: right;\"/>');\n",
       "    nav_element.append(status_bar);\n",
       "    this.message = status_bar[0];\n",
       "\n",
       "    // Add the close button to the window.\n",
       "    var buttongrp = $('<div class=\"btn-group inline pull-right\"></div>');\n",
       "    var button = $('<button class=\"btn btn-mini btn-primary\" href=\"#\" title=\"Stop Interaction\"><i class=\"fa fa-power-off icon-remove icon-large\"></i></button>');\n",
       "    button.click(function (evt) { fig.handle_close(fig, {}); } );\n",
       "    button.mouseover('Stop Interaction', toolbar_mouse_event);\n",
       "    buttongrp.append(button);\n",
       "    var titlebar = this.root.find($('.ui-dialog-titlebar'));\n",
       "    titlebar.prepend(buttongrp);\n",
       "}\n",
       "\n",
       "mpl.figure.prototype._root_extra_style = function(el){\n",
       "    var fig = this\n",
       "    el.on(\"remove\", function(){\n",
       "\tfig.close_ws(fig, {});\n",
       "    });\n",
       "}\n",
       "\n",
       "mpl.figure.prototype._canvas_extra_style = function(el){\n",
       "    // this is important to make the div 'focusable\n",
       "    el.attr('tabindex', 0)\n",
       "    // reach out to IPython and tell the keyboard manager to turn it's self\n",
       "    // off when our div gets focus\n",
       "\n",
       "    // location in version 3\n",
       "    if (IPython.notebook.keyboard_manager) {\n",
       "        IPython.notebook.keyboard_manager.register_events(el);\n",
       "    }\n",
       "    else {\n",
       "        // location in version 2\n",
       "        IPython.keyboard_manager.register_events(el);\n",
       "    }\n",
       "\n",
       "}\n",
       "\n",
       "mpl.figure.prototype._key_event_extra = function(event, name) {\n",
       "    var manager = IPython.notebook.keyboard_manager;\n",
       "    if (!manager)\n",
       "        manager = IPython.keyboard_manager;\n",
       "\n",
       "    // Check for shift+enter\n",
       "    if (event.shiftKey && event.which == 13) {\n",
       "        this.canvas_div.blur();\n",
       "        // select the cell after this one\n",
       "        var index = IPython.notebook.find_cell_index(this.cell_info[0]);\n",
       "        IPython.notebook.select(index + 1);\n",
       "    }\n",
       "}\n",
       "\n",
       "mpl.figure.prototype.handle_save = function(fig, msg) {\n",
       "    fig.ondownload(fig, null);\n",
       "}\n",
       "\n",
       "\n",
       "mpl.find_output_cell = function(html_output) {\n",
       "    // Return the cell and output element which can be found *uniquely* in the notebook.\n",
       "    // Note - this is a bit hacky, but it is done because the \"notebook_saving.Notebook\"\n",
       "    // IPython event is triggered only after the cells have been serialised, which for\n",
       "    // our purposes (turning an active figure into a static one), is too late.\n",
       "    var cells = IPython.notebook.get_cells();\n",
       "    var ncells = cells.length;\n",
       "    for (var i=0; i<ncells; i++) {\n",
       "        var cell = cells[i];\n",
       "        if (cell.cell_type === 'code'){\n",
       "            for (var j=0; j<cell.output_area.outputs.length; j++) {\n",
       "                var data = cell.output_area.outputs[j];\n",
       "                if (data.data) {\n",
       "                    // IPython >= 3 moved mimebundle to data attribute of output\n",
       "                    data = data.data;\n",
       "                }\n",
       "                if (data['text/html'] == html_output) {\n",
       "                    return [cell, data, j];\n",
       "                }\n",
       "            }\n",
       "        }\n",
       "    }\n",
       "}\n",
       "\n",
       "// Register the function which deals with the matplotlib target/channel.\n",
       "// The kernel may be null if the page has been refreshed.\n",
       "if (IPython.notebook.kernel != null) {\n",
       "    IPython.notebook.kernel.comm_manager.register_target('matplotlib', mpl.mpl_figure_comm);\n",
       "}\n"
      ],
      "text/plain": [
       "<IPython.core.display.Javascript object>"
      ]
     },
     "metadata": {},
     "output_type": "display_data"
    },
    {
     "data": {
      "text/html": [
       "<img src=\"data:image/png;base64,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\" width=\"640\">"
      ],
      "text/plain": [
       "<IPython.core.display.HTML object>"
      ]
     },
     "metadata": {},
     "output_type": "display_data"
    },
    {
     "data": {
      "text/plain": [
       "(-1, 1)"
      ]
     },
     "execution_count": 9,
     "metadata": {},
     "output_type": "execute_result"
    }
   ],
   "source": [
    "%matplotlib notebook\n",
    "from pylab import plot, grid, xlim, ylim, sin, linspace\n",
    "\n",
    "x = linspace(-9*pi,9*pi) # choose some appropriate values here\n",
    "y_series = sine_sum(x)\n",
    "y_library = sin(x)\n",
    "\n",
    "plot(x, y_series, x, y_library) # The plot command can take as many x, y pairs as you like.\n",
    "                                # Note that we do need to repeat x here since this array represents\n",
    "                                # the x values of two different lines on the plot.\n",
    "xlim(-9*pi,9*pi)\n",
    "ylim(-1,1)\n",
    "# you might like to set the x and y limits using the xlim and ylim functions, or to apply a grid.\n",
    "# e.g., ylim(-2, 2) will set the y range to run from -2 to 2."
   ]
  },
  {
   "cell_type": "markdown",
   "metadata": {},
   "source": [
    "When does your function start to diverge noticeably from the library one? Can you explain why it eventually stops behaving as well as the library function? Can you think of a way to fix this problem? (*Hint*: consider the periodicity of the $\\sin$ function.)"
   ]
  },
  {
   "cell_type": "raw",
   "metadata": {
    "collapsed": true
   },
   "source": [
    "# sin function most accurate around zero, -pi<x<-pi\n",
    "# whilst x>2*pi, x-2*pi"
   ]
  },
  {
   "cell_type": "markdown",
   "metadata": {},
   "source": [
    "▶ **CHECKPOINT 3**"
   ]
  }
 ],
 "metadata": {
  "kernelspec": {
   "display_name": "Python 3",
   "language": "python",
   "name": "python3"
  },
  "language_info": {
   "codemirror_mode": {
    "name": "ipython",
    "version": 3
   },
   "file_extension": ".py",
   "mimetype": "text/x-python",
   "name": "python",
   "nbconvert_exporter": "python",
   "pygments_lexer": "ipython3",
   "version": "3.6.0"
  }
 },
 "nbformat": 4,
 "nbformat_minor": 2
}
