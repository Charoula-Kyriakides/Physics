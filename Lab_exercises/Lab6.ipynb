{
 "cells": [
  {
   "cell_type": "markdown",
   "metadata": {},
   "source": [
    "# Lab 6: Root finding (2)\n",
    "\n",
    "In this lab we will continue our study of root-finding methods, now considering the famous Newton-Raphson algorithm. This requires that we know the function's derivative; we can either specify this by hand or use the differentiation algorithms from Lab 5.\n",
    "\n",
    "## The Newton-Raphson method: basics\n",
    "\n",
    "Recall that the Newton-Raphson algorithm involves linearising the function at some guess $x_0$ – that is, we follow the *derivative* down to the $x$-axis rather than the function itself:\n",
    "\n",
    "![newton.png](attachment:newton.png)\n",
    "\n",
    "Mathematically, \n",
    "$$\n",
    "x_{n+1} = x_n - \\frac{f(x_n)}{f'(x_n)}.\n",
    "$$\n",
    "\n",
    "**Write a function `newton_step(f, fp, x0)` to calculate the next step** (*i.e.*, $x_1$) **from the Newton-Raphson algorithm**, given function `f` and its derivative `fp` (“f prime”) and starting value `x0`."
   ]
  },
  {
   "cell_type": "code",
   "execution_count": 1,
   "metadata": {
    "collapsed": true
   },
   "outputs": [],
   "source": [
    "#def fp(f,x,1e-3):\n",
    "#    return (4*CD(f,x,h/2)-CD(f,x,h))/3\n",
    "\n",
    "def newton_step(f, fp, x0):\n",
    "    \"\"\"Perform one step of the Newton-Raphson algorithm.\"\"\"\n",
    "    \n",
    "    return x0 - f(x0)/fp(x0) # your code here"
   ]
  },
  {
   "cell_type": "markdown",
   "metadata": {},
   "source": [
    "As a test, let's use this to calculate $\\sqrt{2}$. **Define two (Python) functions** correponding to the mathematical functions $f(x) = x^2 - 2$ and $f'(x) = 2x$. Then **choose a suitable starting guess** and **write a loop to call your Newton-Raphson function until it has converged** – say, until $x_n$ and $x_{n+1}$ differ by less than $10^{-8}$. **Check your result** by squaring it and seeing whether you get 2. **How many iterations were necessary?**"
   ]
  },
  {
   "cell_type": "code",
   "execution_count": 2,
   "metadata": {
    "collapsed": false
   },
   "outputs": [],
   "source": [
    "def f(x):\n",
    "    return x**2 - 2\n",
    "\n",
    "def fp(x):\n",
    "    return 2*x\n",
    "\n",
    "n=1\n",
    "x=1\n",
    "#xn=newton_step(f,fp,1.3)\n",
    "xn = 1.3\n",
    "while abs(x-xn) > 1e-8:\n",
    "    n += 1\n",
    "    a=xn\n",
    "    xn=newton_step(f,fp,x)\n",
    "    x=a"
   ]
  },
  {
   "cell_type": "code",
   "execution_count": null,
   "metadata": {
    "collapsed": false
   },
   "outputs": [],
   "source": []
  },
  {
   "cell_type": "code",
   "execution_count": 3,
   "metadata": {
    "collapsed": false
   },
   "outputs": [
    {
     "data": {
      "text/plain": [
       "2.0000000000786464"
      ]
     },
     "execution_count": 3,
     "metadata": {},
     "output_type": "execute_result"
    }
   ],
   "source": [
    "x**2"
   ]
  },
  {
   "cell_type": "markdown",
   "metadata": {},
   "source": [
    "Let's investigate how convergence depends on the starting guess. What happens if you start with a guess that is further away? **Try some different starting guesses and come to a conclusion about how dependent the answer we get is on the starting point. Can you explain your results?** (Suggested guesses to try: $10^5$; $-1$; $0$.)"
   ]
  },
  {
   "cell_type": "code",
   "execution_count": 91,
   "metadata": {
    "collapsed": false
   },
   "outputs": [],
   "source": [
    "def newton_step(f, fp, x0):\n",
    "    \"\"\"Perform one step of the Newton-Raphson algorithm.\"\"\"\n",
    "    \n",
    "    return x0 - f(x0)/fp(x0) # your code here\n",
    "\n",
    "\n",
    "\n",
    "def newton_iteration(f,guess, step, fp=None):\n",
    "    n=1\n",
    "    x=1\n",
    "    if fp:\n",
    "        xn=newton_step(f,fp,guess)\n",
    "    else: \n",
    "        xn=newton_CD_step(f,guess)\n",
    "    while abs(x-xn) > 1e-9:\n",
    "        n +=1\n",
    "        a=xn\n",
    "        if fp:\n",
    "            xn=newton_step(f,fp,xn)\n",
    "        else:\n",
    "            xn=newton_CD_step(f,xn)\n",
    "        x=a\n",
    "    return print(xn,n)\n",
    "\n",
    "#newton_iteration(f,fp,10**5,newton_step) # takes greater number of step to converge to root\n",
    "#newton_iteration(f,fp,-1, newton_step) #negative starting point gives negative root\n",
    "#newton_iteration(f,fp,0) produces division by zero error"
   ]
  },
  {
   "cell_type": "code",
   "execution_count": 55,
   "metadata": {
    "collapsed": false
   },
   "outputs": [
    {
     "data": {
      "text/plain": [
       "(1.4142135623730951, 5)"
      ]
     },
     "execution_count": 55,
     "metadata": {},
     "output_type": "execute_result"
    }
   ],
   "source": [
    "newton_iteration(f,1,newton_CD_step)\n"
   ]
  },
  {
   "cell_type": "code",
   "execution_count": 64,
   "metadata": {
    "collapsed": false
   },
   "outputs": [
    {
     "data": {
      "text/plain": [
       "(1.4142135623730951, 21)"
      ]
     },
     "execution_count": 64,
     "metadata": {},
     "output_type": "execute_result"
    }
   ],
   "source": [
    "newton_iteration(f,10**5,newton_step,fp)"
   ]
  },
  {
   "cell_type": "code",
   "execution_count": 73,
   "metadata": {
    "collapsed": false
   },
   "outputs": [
    {
     "data": {
      "text/plain": [
       "0.69481969073078753"
      ]
     },
     "execution_count": 73,
     "metadata": {},
     "output_type": "execute_result"
    }
   ],
   "source": [
    "from numpy import sin, cos\n",
    "\n",
    "def sincos(x):\n",
    "    return sin(cos(x))-x\n",
    "    \n",
    "def sincosp(x):\n",
    "    return -sin(x)*cos(cos(x))-1\n",
    "\n",
    "A=newton_iteration(sincos,1,newton_step,sincosp)\n",
    "A[0]"
   ]
  },
  {
   "cell_type": "code",
   "execution_count": 72,
   "metadata": {
    "collapsed": false
   },
   "outputs": [
    {
     "data": {
      "text/plain": [
       "(0.69481969073078753, 5)"
      ]
     },
     "execution_count": 72,
     "metadata": {},
     "output_type": "execute_result"
    }
   ],
   "source": [
    "newton_iteration(sincos,1,newton_CD_step,sincosp)"
   ]
  },
  {
   "cell_type": "markdown",
   "metadata": {},
   "source": [
    "▶ **CHECKPOINT 1**\n",
    "\n",
    "## A trickier example\n",
    "\n",
    "Let's try a more interesting function. We saw in the very first lecture that, in quantum mechanics, the energies available to a particle trapped in a finite well are given by the solutions of equations similar to $\\tan(x) = x$. **Use the Newton-Raphson method to find all solutions to this equation in the range $0 \\leq x \\leq 10$.** \n",
    "\n",
    "*Hint*: You will need to rearrange the equation into the form $g(x) = 0$ for some $g(x)$. You may find it helpful to plot this function first.\n",
    "\n",
    "*Hint 2*: The derivative of $\\tan(x)$ is $\\sec^2(x)$. The `pylab` module does *not* contain a secant function, so you may want to define your own (recalling that $\\sec(x) = 1/\\cos(x)$)."
   ]
  },
  {
   "cell_type": "code",
   "execution_count": 93,
   "metadata": {
    "collapsed": false
   },
   "outputs": [
    {
     "data": {
      "application/javascript": [
       "/* Put everything inside the global mpl namespace */\n",
       "window.mpl = {};\n",
       "\n",
       "\n",
       "mpl.get_websocket_type = function() {\n",
       "    if (typeof(WebSocket) !== 'undefined') {\n",
       "        return WebSocket;\n",
       "    } else if (typeof(MozWebSocket) !== 'undefined') {\n",
       "        return MozWebSocket;\n",
       "    } else {\n",
       "        alert('Your browser does not have WebSocket support.' +\n",
       "              'Please try Chrome, Safari or Firefox ≥ 6. ' +\n",
       "              'Firefox 4 and 5 are also supported but you ' +\n",
       "              'have to enable WebSockets in about:config.');\n",
       "    };\n",
       "}\n",
       "\n",
       "mpl.figure = function(figure_id, websocket, ondownload, parent_element) {\n",
       "    this.id = figure_id;\n",
       "\n",
       "    this.ws = websocket;\n",
       "\n",
       "    this.supports_binary = (this.ws.binaryType != undefined);\n",
       "\n",
       "    if (!this.supports_binary) {\n",
       "        var warnings = document.getElementById(\"mpl-warnings\");\n",
       "        if (warnings) {\n",
       "            warnings.style.display = 'block';\n",
       "            warnings.textContent = (\n",
       "                \"This browser does not support binary websocket messages. \" +\n",
       "                    \"Performance may be slow.\");\n",
       "        }\n",
       "    }\n",
       "\n",
       "    this.imageObj = new Image();\n",
       "\n",
       "    this.context = undefined;\n",
       "    this.message = undefined;\n",
       "    this.canvas = undefined;\n",
       "    this.rubberband_canvas = undefined;\n",
       "    this.rubberband_context = undefined;\n",
       "    this.format_dropdown = undefined;\n",
       "\n",
       "    this.image_mode = 'full';\n",
       "\n",
       "    this.root = $('<div/>');\n",
       "    this._root_extra_style(this.root)\n",
       "    this.root.attr('style', 'display: inline-block');\n",
       "\n",
       "    $(parent_element).append(this.root);\n",
       "\n",
       "    this._init_header(this);\n",
       "    this._init_canvas(this);\n",
       "    this._init_toolbar(this);\n",
       "\n",
       "    var fig = this;\n",
       "\n",
       "    this.waiting = false;\n",
       "\n",
       "    this.ws.onopen =  function () {\n",
       "            fig.send_message(\"supports_binary\", {value: fig.supports_binary});\n",
       "            fig.send_message(\"send_image_mode\", {});\n",
       "            if (mpl.ratio != 1) {\n",
       "                fig.send_message(\"set_dpi_ratio\", {'dpi_ratio': mpl.ratio});\n",
       "            }\n",
       "            fig.send_message(\"refresh\", {});\n",
       "        }\n",
       "\n",
       "    this.imageObj.onload = function() {\n",
       "            if (fig.image_mode == 'full') {\n",
       "                // Full images could contain transparency (where diff images\n",
       "                // almost always do), so we need to clear the canvas so that\n",
       "                // there is no ghosting.\n",
       "                fig.context.clearRect(0, 0, fig.canvas.width, fig.canvas.height);\n",
       "            }\n",
       "            fig.context.drawImage(fig.imageObj, 0, 0);\n",
       "        };\n",
       "\n",
       "    this.imageObj.onunload = function() {\n",
       "        this.ws.close();\n",
       "    }\n",
       "\n",
       "    this.ws.onmessage = this._make_on_message_function(this);\n",
       "\n",
       "    this.ondownload = ondownload;\n",
       "}\n",
       "\n",
       "mpl.figure.prototype._init_header = function() {\n",
       "    var titlebar = $(\n",
       "        '<div class=\"ui-dialog-titlebar ui-widget-header ui-corner-all ' +\n",
       "        'ui-helper-clearfix\"/>');\n",
       "    var titletext = $(\n",
       "        '<div class=\"ui-dialog-title\" style=\"width: 100%; ' +\n",
       "        'text-align: center; padding: 3px;\"/>');\n",
       "    titlebar.append(titletext)\n",
       "    this.root.append(titlebar);\n",
       "    this.header = titletext[0];\n",
       "}\n",
       "\n",
       "\n",
       "\n",
       "mpl.figure.prototype._canvas_extra_style = function(canvas_div) {\n",
       "\n",
       "}\n",
       "\n",
       "\n",
       "mpl.figure.prototype._root_extra_style = function(canvas_div) {\n",
       "\n",
       "}\n",
       "\n",
       "mpl.figure.prototype._init_canvas = function() {\n",
       "    var fig = this;\n",
       "\n",
       "    var canvas_div = $('<div/>');\n",
       "\n",
       "    canvas_div.attr('style', 'position: relative; clear: both; outline: 0');\n",
       "\n",
       "    function canvas_keyboard_event(event) {\n",
       "        return fig.key_event(event, event['data']);\n",
       "    }\n",
       "\n",
       "    canvas_div.keydown('key_press', canvas_keyboard_event);\n",
       "    canvas_div.keyup('key_release', canvas_keyboard_event);\n",
       "    this.canvas_div = canvas_div\n",
       "    this._canvas_extra_style(canvas_div)\n",
       "    this.root.append(canvas_div);\n",
       "\n",
       "    var canvas = $('<canvas/>');\n",
       "    canvas.addClass('mpl-canvas');\n",
       "    canvas.attr('style', \"left: 0; top: 0; z-index: 0; outline: 0\")\n",
       "\n",
       "    this.canvas = canvas[0];\n",
       "    this.context = canvas[0].getContext(\"2d\");\n",
       "\n",
       "    var backingStore = this.context.backingStorePixelRatio ||\n",
       "\tthis.context.webkitBackingStorePixelRatio ||\n",
       "\tthis.context.mozBackingStorePixelRatio ||\n",
       "\tthis.context.msBackingStorePixelRatio ||\n",
       "\tthis.context.oBackingStorePixelRatio ||\n",
       "\tthis.context.backingStorePixelRatio || 1;\n",
       "\n",
       "    mpl.ratio = (window.devicePixelRatio || 1) / backingStore;\n",
       "\n",
       "    var rubberband = $('<canvas/>');\n",
       "    rubberband.attr('style', \"position: absolute; left: 0; top: 0; z-index: 1;\")\n",
       "\n",
       "    var pass_mouse_events = true;\n",
       "\n",
       "    canvas_div.resizable({\n",
       "        start: function(event, ui) {\n",
       "            pass_mouse_events = false;\n",
       "        },\n",
       "        resize: function(event, ui) {\n",
       "            fig.request_resize(ui.size.width, ui.size.height);\n",
       "        },\n",
       "        stop: function(event, ui) {\n",
       "            pass_mouse_events = true;\n",
       "            fig.request_resize(ui.size.width, ui.size.height);\n",
       "        },\n",
       "    });\n",
       "\n",
       "    function mouse_event_fn(event) {\n",
       "        if (pass_mouse_events)\n",
       "            return fig.mouse_event(event, event['data']);\n",
       "    }\n",
       "\n",
       "    rubberband.mousedown('button_press', mouse_event_fn);\n",
       "    rubberband.mouseup('button_release', mouse_event_fn);\n",
       "    // Throttle sequential mouse events to 1 every 20ms.\n",
       "    rubberband.mousemove('motion_notify', mouse_event_fn);\n",
       "\n",
       "    rubberband.mouseenter('figure_enter', mouse_event_fn);\n",
       "    rubberband.mouseleave('figure_leave', mouse_event_fn);\n",
       "\n",
       "    canvas_div.on(\"wheel\", function (event) {\n",
       "        event = event.originalEvent;\n",
       "        event['data'] = 'scroll'\n",
       "        if (event.deltaY < 0) {\n",
       "            event.step = 1;\n",
       "        } else {\n",
       "            event.step = -1;\n",
       "        }\n",
       "        mouse_event_fn(event);\n",
       "    });\n",
       "\n",
       "    canvas_div.append(canvas);\n",
       "    canvas_div.append(rubberband);\n",
       "\n",
       "    this.rubberband = rubberband;\n",
       "    this.rubberband_canvas = rubberband[0];\n",
       "    this.rubberband_context = rubberband[0].getContext(\"2d\");\n",
       "    this.rubberband_context.strokeStyle = \"#000000\";\n",
       "\n",
       "    this._resize_canvas = function(width, height) {\n",
       "        // Keep the size of the canvas, canvas container, and rubber band\n",
       "        // canvas in synch.\n",
       "        canvas_div.css('width', width)\n",
       "        canvas_div.css('height', height)\n",
       "\n",
       "        canvas.attr('width', width * mpl.ratio);\n",
       "        canvas.attr('height', height * mpl.ratio);\n",
       "        canvas.attr('style', 'width: ' + width + 'px; height: ' + height + 'px;');\n",
       "\n",
       "        rubberband.attr('width', width);\n",
       "        rubberband.attr('height', height);\n",
       "    }\n",
       "\n",
       "    // Set the figure to an initial 600x600px, this will subsequently be updated\n",
       "    // upon first draw.\n",
       "    this._resize_canvas(600, 600);\n",
       "\n",
       "    // Disable right mouse context menu.\n",
       "    $(this.rubberband_canvas).bind(\"contextmenu\",function(e){\n",
       "        return false;\n",
       "    });\n",
       "\n",
       "    function set_focus () {\n",
       "        canvas.focus();\n",
       "        canvas_div.focus();\n",
       "    }\n",
       "\n",
       "    window.setTimeout(set_focus, 100);\n",
       "}\n",
       "\n",
       "mpl.figure.prototype._init_toolbar = function() {\n",
       "    var fig = this;\n",
       "\n",
       "    var nav_element = $('<div/>')\n",
       "    nav_element.attr('style', 'width: 100%');\n",
       "    this.root.append(nav_element);\n",
       "\n",
       "    // Define a callback function for later on.\n",
       "    function toolbar_event(event) {\n",
       "        return fig.toolbar_button_onclick(event['data']);\n",
       "    }\n",
       "    function toolbar_mouse_event(event) {\n",
       "        return fig.toolbar_button_onmouseover(event['data']);\n",
       "    }\n",
       "\n",
       "    for(var toolbar_ind in mpl.toolbar_items) {\n",
       "        var name = mpl.toolbar_items[toolbar_ind][0];\n",
       "        var tooltip = mpl.toolbar_items[toolbar_ind][1];\n",
       "        var image = mpl.toolbar_items[toolbar_ind][2];\n",
       "        var method_name = mpl.toolbar_items[toolbar_ind][3];\n",
       "\n",
       "        if (!name) {\n",
       "            // put a spacer in here.\n",
       "            continue;\n",
       "        }\n",
       "        var button = $('<button/>');\n",
       "        button.addClass('ui-button ui-widget ui-state-default ui-corner-all ' +\n",
       "                        'ui-button-icon-only');\n",
       "        button.attr('role', 'button');\n",
       "        button.attr('aria-disabled', 'false');\n",
       "        button.click(method_name, toolbar_event);\n",
       "        button.mouseover(tooltip, toolbar_mouse_event);\n",
       "\n",
       "        var icon_img = $('<span/>');\n",
       "        icon_img.addClass('ui-button-icon-primary ui-icon');\n",
       "        icon_img.addClass(image);\n",
       "        icon_img.addClass('ui-corner-all');\n",
       "\n",
       "        var tooltip_span = $('<span/>');\n",
       "        tooltip_span.addClass('ui-button-text');\n",
       "        tooltip_span.html(tooltip);\n",
       "\n",
       "        button.append(icon_img);\n",
       "        button.append(tooltip_span);\n",
       "\n",
       "        nav_element.append(button);\n",
       "    }\n",
       "\n",
       "    var fmt_picker_span = $('<span/>');\n",
       "\n",
       "    var fmt_picker = $('<select/>');\n",
       "    fmt_picker.addClass('mpl-toolbar-option ui-widget ui-widget-content');\n",
       "    fmt_picker_span.append(fmt_picker);\n",
       "    nav_element.append(fmt_picker_span);\n",
       "    this.format_dropdown = fmt_picker[0];\n",
       "\n",
       "    for (var ind in mpl.extensions) {\n",
       "        var fmt = mpl.extensions[ind];\n",
       "        var option = $(\n",
       "            '<option/>', {selected: fmt === mpl.default_extension}).html(fmt);\n",
       "        fmt_picker.append(option)\n",
       "    }\n",
       "\n",
       "    // Add hover states to the ui-buttons\n",
       "    $( \".ui-button\" ).hover(\n",
       "        function() { $(this).addClass(\"ui-state-hover\");},\n",
       "        function() { $(this).removeClass(\"ui-state-hover\");}\n",
       "    );\n",
       "\n",
       "    var status_bar = $('<span class=\"mpl-message\"/>');\n",
       "    nav_element.append(status_bar);\n",
       "    this.message = status_bar[0];\n",
       "}\n",
       "\n",
       "mpl.figure.prototype.request_resize = function(x_pixels, y_pixels) {\n",
       "    // Request matplotlib to resize the figure. Matplotlib will then trigger a resize in the client,\n",
       "    // which will in turn request a refresh of the image.\n",
       "    this.send_message('resize', {'width': x_pixels, 'height': y_pixels});\n",
       "}\n",
       "\n",
       "mpl.figure.prototype.send_message = function(type, properties) {\n",
       "    properties['type'] = type;\n",
       "    properties['figure_id'] = this.id;\n",
       "    this.ws.send(JSON.stringify(properties));\n",
       "}\n",
       "\n",
       "mpl.figure.prototype.send_draw_message = function() {\n",
       "    if (!this.waiting) {\n",
       "        this.waiting = true;\n",
       "        this.ws.send(JSON.stringify({type: \"draw\", figure_id: this.id}));\n",
       "    }\n",
       "}\n",
       "\n",
       "\n",
       "mpl.figure.prototype.handle_save = function(fig, msg) {\n",
       "    var format_dropdown = fig.format_dropdown;\n",
       "    var format = format_dropdown.options[format_dropdown.selectedIndex].value;\n",
       "    fig.ondownload(fig, format);\n",
       "}\n",
       "\n",
       "\n",
       "mpl.figure.prototype.handle_resize = function(fig, msg) {\n",
       "    var size = msg['size'];\n",
       "    if (size[0] != fig.canvas.width || size[1] != fig.canvas.height) {\n",
       "        fig._resize_canvas(size[0], size[1]);\n",
       "        fig.send_message(\"refresh\", {});\n",
       "    };\n",
       "}\n",
       "\n",
       "mpl.figure.prototype.handle_rubberband = function(fig, msg) {\n",
       "    var x0 = msg['x0'] / mpl.ratio;\n",
       "    var y0 = (fig.canvas.height - msg['y0']) / mpl.ratio;\n",
       "    var x1 = msg['x1'] / mpl.ratio;\n",
       "    var y1 = (fig.canvas.height - msg['y1']) / mpl.ratio;\n",
       "    x0 = Math.floor(x0) + 0.5;\n",
       "    y0 = Math.floor(y0) + 0.5;\n",
       "    x1 = Math.floor(x1) + 0.5;\n",
       "    y1 = Math.floor(y1) + 0.5;\n",
       "    var min_x = Math.min(x0, x1);\n",
       "    var min_y = Math.min(y0, y1);\n",
       "    var width = Math.abs(x1 - x0);\n",
       "    var height = Math.abs(y1 - y0);\n",
       "\n",
       "    fig.rubberband_context.clearRect(\n",
       "        0, 0, fig.canvas.width, fig.canvas.height);\n",
       "\n",
       "    fig.rubberband_context.strokeRect(min_x, min_y, width, height);\n",
       "}\n",
       "\n",
       "mpl.figure.prototype.handle_figure_label = function(fig, msg) {\n",
       "    // Updates the figure title.\n",
       "    fig.header.textContent = msg['label'];\n",
       "}\n",
       "\n",
       "mpl.figure.prototype.handle_cursor = function(fig, msg) {\n",
       "    var cursor = msg['cursor'];\n",
       "    switch(cursor)\n",
       "    {\n",
       "    case 0:\n",
       "        cursor = 'pointer';\n",
       "        break;\n",
       "    case 1:\n",
       "        cursor = 'default';\n",
       "        break;\n",
       "    case 2:\n",
       "        cursor = 'crosshair';\n",
       "        break;\n",
       "    case 3:\n",
       "        cursor = 'move';\n",
       "        break;\n",
       "    }\n",
       "    fig.rubberband_canvas.style.cursor = cursor;\n",
       "}\n",
       "\n",
       "mpl.figure.prototype.handle_message = function(fig, msg) {\n",
       "    fig.message.textContent = msg['message'];\n",
       "}\n",
       "\n",
       "mpl.figure.prototype.handle_draw = function(fig, msg) {\n",
       "    // Request the server to send over a new figure.\n",
       "    fig.send_draw_message();\n",
       "}\n",
       "\n",
       "mpl.figure.prototype.handle_image_mode = function(fig, msg) {\n",
       "    fig.image_mode = msg['mode'];\n",
       "}\n",
       "\n",
       "mpl.figure.prototype.updated_canvas_event = function() {\n",
       "    // Called whenever the canvas gets updated.\n",
       "    this.send_message(\"ack\", {});\n",
       "}\n",
       "\n",
       "// A function to construct a web socket function for onmessage handling.\n",
       "// Called in the figure constructor.\n",
       "mpl.figure.prototype._make_on_message_function = function(fig) {\n",
       "    return function socket_on_message(evt) {\n",
       "        if (evt.data instanceof Blob) {\n",
       "            /* FIXME: We get \"Resource interpreted as Image but\n",
       "             * transferred with MIME type text/plain:\" errors on\n",
       "             * Chrome.  But how to set the MIME type?  It doesn't seem\n",
       "             * to be part of the websocket stream */\n",
       "            evt.data.type = \"image/png\";\n",
       "\n",
       "            /* Free the memory for the previous frames */\n",
       "            if (fig.imageObj.src) {\n",
       "                (window.URL || window.webkitURL).revokeObjectURL(\n",
       "                    fig.imageObj.src);\n",
       "            }\n",
       "\n",
       "            fig.imageObj.src = (window.URL || window.webkitURL).createObjectURL(\n",
       "                evt.data);\n",
       "            fig.updated_canvas_event();\n",
       "            fig.waiting = false;\n",
       "            return;\n",
       "        }\n",
       "        else if (typeof evt.data === 'string' && evt.data.slice(0, 21) == \"data:image/png;base64\") {\n",
       "            fig.imageObj.src = evt.data;\n",
       "            fig.updated_canvas_event();\n",
       "            fig.waiting = false;\n",
       "            return;\n",
       "        }\n",
       "\n",
       "        var msg = JSON.parse(evt.data);\n",
       "        var msg_type = msg['type'];\n",
       "\n",
       "        // Call the  \"handle_{type}\" callback, which takes\n",
       "        // the figure and JSON message as its only arguments.\n",
       "        try {\n",
       "            var callback = fig[\"handle_\" + msg_type];\n",
       "        } catch (e) {\n",
       "            console.log(\"No handler for the '\" + msg_type + \"' message type: \", msg);\n",
       "            return;\n",
       "        }\n",
       "\n",
       "        if (callback) {\n",
       "            try {\n",
       "                // console.log(\"Handling '\" + msg_type + \"' message: \", msg);\n",
       "                callback(fig, msg);\n",
       "            } catch (e) {\n",
       "                console.log(\"Exception inside the 'handler_\" + msg_type + \"' callback:\", e, e.stack, msg);\n",
       "            }\n",
       "        }\n",
       "    };\n",
       "}\n",
       "\n",
       "// from http://stackoverflow.com/questions/1114465/getting-mouse-location-in-canvas\n",
       "mpl.findpos = function(e) {\n",
       "    //this section is from http://www.quirksmode.org/js/events_properties.html\n",
       "    var targ;\n",
       "    if (!e)\n",
       "        e = window.event;\n",
       "    if (e.target)\n",
       "        targ = e.target;\n",
       "    else if (e.srcElement)\n",
       "        targ = e.srcElement;\n",
       "    if (targ.nodeType == 3) // defeat Safari bug\n",
       "        targ = targ.parentNode;\n",
       "\n",
       "    // jQuery normalizes the pageX and pageY\n",
       "    // pageX,Y are the mouse positions relative to the document\n",
       "    // offset() returns the position of the element relative to the document\n",
       "    var x = e.pageX - $(targ).offset().left;\n",
       "    var y = e.pageY - $(targ).offset().top;\n",
       "\n",
       "    return {\"x\": x, \"y\": y};\n",
       "};\n",
       "\n",
       "/*\n",
       " * return a copy of an object with only non-object keys\n",
       " * we need this to avoid circular references\n",
       " * http://stackoverflow.com/a/24161582/3208463\n",
       " */\n",
       "function simpleKeys (original) {\n",
       "  return Object.keys(original).reduce(function (obj, key) {\n",
       "    if (typeof original[key] !== 'object')\n",
       "        obj[key] = original[key]\n",
       "    return obj;\n",
       "  }, {});\n",
       "}\n",
       "\n",
       "mpl.figure.prototype.mouse_event = function(event, name) {\n",
       "    var canvas_pos = mpl.findpos(event)\n",
       "\n",
       "    if (name === 'button_press')\n",
       "    {\n",
       "        this.canvas.focus();\n",
       "        this.canvas_div.focus();\n",
       "    }\n",
       "\n",
       "    var x = canvas_pos.x * mpl.ratio;\n",
       "    var y = canvas_pos.y * mpl.ratio;\n",
       "\n",
       "    this.send_message(name, {x: x, y: y, button: event.button,\n",
       "                             step: event.step,\n",
       "                             guiEvent: simpleKeys(event)});\n",
       "\n",
       "    /* This prevents the web browser from automatically changing to\n",
       "     * the text insertion cursor when the button is pressed.  We want\n",
       "     * to control all of the cursor setting manually through the\n",
       "     * 'cursor' event from matplotlib */\n",
       "    event.preventDefault();\n",
       "    return false;\n",
       "}\n",
       "\n",
       "mpl.figure.prototype._key_event_extra = function(event, name) {\n",
       "    // Handle any extra behaviour associated with a key event\n",
       "}\n",
       "\n",
       "mpl.figure.prototype.key_event = function(event, name) {\n",
       "\n",
       "    // Prevent repeat events\n",
       "    if (name == 'key_press')\n",
       "    {\n",
       "        if (event.which === this._key)\n",
       "            return;\n",
       "        else\n",
       "            this._key = event.which;\n",
       "    }\n",
       "    if (name == 'key_release')\n",
       "        this._key = null;\n",
       "\n",
       "    var value = '';\n",
       "    if (event.ctrlKey && event.which != 17)\n",
       "        value += \"ctrl+\";\n",
       "    if (event.altKey && event.which != 18)\n",
       "        value += \"alt+\";\n",
       "    if (event.shiftKey && event.which != 16)\n",
       "        value += \"shift+\";\n",
       "\n",
       "    value += 'k';\n",
       "    value += event.which.toString();\n",
       "\n",
       "    this._key_event_extra(event, name);\n",
       "\n",
       "    this.send_message(name, {key: value,\n",
       "                             guiEvent: simpleKeys(event)});\n",
       "    return false;\n",
       "}\n",
       "\n",
       "mpl.figure.prototype.toolbar_button_onclick = function(name) {\n",
       "    if (name == 'download') {\n",
       "        this.handle_save(this, null);\n",
       "    } else {\n",
       "        this.send_message(\"toolbar_button\", {name: name});\n",
       "    }\n",
       "};\n",
       "\n",
       "mpl.figure.prototype.toolbar_button_onmouseover = function(tooltip) {\n",
       "    this.message.textContent = tooltip;\n",
       "};\n",
       "mpl.toolbar_items = [[\"Home\", \"Reset original view\", \"fa fa-home icon-home\", \"home\"], [\"Back\", \"Back to  previous view\", \"fa fa-arrow-left icon-arrow-left\", \"back\"], [\"Forward\", \"Forward to next view\", \"fa fa-arrow-right icon-arrow-right\", \"forward\"], [\"\", \"\", \"\", \"\"], [\"Pan\", \"Pan axes with left mouse, zoom with right\", \"fa fa-arrows icon-move\", \"pan\"], [\"Zoom\", \"Zoom to rectangle\", \"fa fa-square-o icon-check-empty\", \"zoom\"], [\"\", \"\", \"\", \"\"], [\"Download\", \"Download plot\", \"fa fa-floppy-o icon-save\", \"download\"]];\n",
       "\n",
       "mpl.extensions = [\"eps\", \"jpeg\", \"pdf\", \"png\", \"ps\", \"raw\", \"svg\", \"tif\"];\n",
       "\n",
       "mpl.default_extension = \"png\";var comm_websocket_adapter = function(comm) {\n",
       "    // Create a \"websocket\"-like object which calls the given IPython comm\n",
       "    // object with the appropriate methods. Currently this is a non binary\n",
       "    // socket, so there is still some room for performance tuning.\n",
       "    var ws = {};\n",
       "\n",
       "    ws.close = function() {\n",
       "        comm.close()\n",
       "    };\n",
       "    ws.send = function(m) {\n",
       "        //console.log('sending', m);\n",
       "        comm.send(m);\n",
       "    };\n",
       "    // Register the callback with on_msg.\n",
       "    comm.on_msg(function(msg) {\n",
       "        //console.log('receiving', msg['content']['data'], msg);\n",
       "        // Pass the mpl event to the overriden (by mpl) onmessage function.\n",
       "        ws.onmessage(msg['content']['data'])\n",
       "    });\n",
       "    return ws;\n",
       "}\n",
       "\n",
       "mpl.mpl_figure_comm = function(comm, msg) {\n",
       "    // This is the function which gets called when the mpl process\n",
       "    // starts-up an IPython Comm through the \"matplotlib\" channel.\n",
       "\n",
       "    var id = msg.content.data.id;\n",
       "    // Get hold of the div created by the display call when the Comm\n",
       "    // socket was opened in Python.\n",
       "    var element = $(\"#\" + id);\n",
       "    var ws_proxy = comm_websocket_adapter(comm)\n",
       "\n",
       "    function ondownload(figure, format) {\n",
       "        window.open(figure.imageObj.src);\n",
       "    }\n",
       "\n",
       "    var fig = new mpl.figure(id, ws_proxy,\n",
       "                           ondownload,\n",
       "                           element.get(0));\n",
       "\n",
       "    // Call onopen now - mpl needs it, as it is assuming we've passed it a real\n",
       "    // web socket which is closed, not our websocket->open comm proxy.\n",
       "    ws_proxy.onopen();\n",
       "\n",
       "    fig.parent_element = element.get(0);\n",
       "    fig.cell_info = mpl.find_output_cell(\"<div id='\" + id + \"'></div>\");\n",
       "    if (!fig.cell_info) {\n",
       "        console.error(\"Failed to find cell for figure\", id, fig);\n",
       "        return;\n",
       "    }\n",
       "\n",
       "    var output_index = fig.cell_info[2]\n",
       "    var cell = fig.cell_info[0];\n",
       "\n",
       "};\n",
       "\n",
       "mpl.figure.prototype.handle_close = function(fig, msg) {\n",
       "    var width = fig.canvas.width/mpl.ratio\n",
       "    fig.root.unbind('remove')\n",
       "\n",
       "    // Update the output cell to use the data from the current canvas.\n",
       "    fig.push_to_output();\n",
       "    var dataURL = fig.canvas.toDataURL();\n",
       "    // Re-enable the keyboard manager in IPython - without this line, in FF,\n",
       "    // the notebook keyboard shortcuts fail.\n",
       "    IPython.keyboard_manager.enable()\n",
       "    $(fig.parent_element).html('<img src=\"' + dataURL + '\" width=\"' + width + '\">');\n",
       "    fig.close_ws(fig, msg);\n",
       "}\n",
       "\n",
       "mpl.figure.prototype.close_ws = function(fig, msg){\n",
       "    fig.send_message('closing', msg);\n",
       "    // fig.ws.close()\n",
       "}\n",
       "\n",
       "mpl.figure.prototype.push_to_output = function(remove_interactive) {\n",
       "    // Turn the data on the canvas into data in the output cell.\n",
       "    var width = this.canvas.width/mpl.ratio\n",
       "    var dataURL = this.canvas.toDataURL();\n",
       "    this.cell_info[1]['text/html'] = '<img src=\"' + dataURL + '\" width=\"' + width + '\">';\n",
       "}\n",
       "\n",
       "mpl.figure.prototype.updated_canvas_event = function() {\n",
       "    // Tell IPython that the notebook contents must change.\n",
       "    IPython.notebook.set_dirty(true);\n",
       "    this.send_message(\"ack\", {});\n",
       "    var fig = this;\n",
       "    // Wait a second, then push the new image to the DOM so\n",
       "    // that it is saved nicely (might be nice to debounce this).\n",
       "    setTimeout(function () { fig.push_to_output() }, 1000);\n",
       "}\n",
       "\n",
       "mpl.figure.prototype._init_toolbar = function() {\n",
       "    var fig = this;\n",
       "\n",
       "    var nav_element = $('<div/>')\n",
       "    nav_element.attr('style', 'width: 100%');\n",
       "    this.root.append(nav_element);\n",
       "\n",
       "    // Define a callback function for later on.\n",
       "    function toolbar_event(event) {\n",
       "        return fig.toolbar_button_onclick(event['data']);\n",
       "    }\n",
       "    function toolbar_mouse_event(event) {\n",
       "        return fig.toolbar_button_onmouseover(event['data']);\n",
       "    }\n",
       "\n",
       "    for(var toolbar_ind in mpl.toolbar_items){\n",
       "        var name = mpl.toolbar_items[toolbar_ind][0];\n",
       "        var tooltip = mpl.toolbar_items[toolbar_ind][1];\n",
       "        var image = mpl.toolbar_items[toolbar_ind][2];\n",
       "        var method_name = mpl.toolbar_items[toolbar_ind][3];\n",
       "\n",
       "        if (!name) { continue; };\n",
       "\n",
       "        var button = $('<button class=\"btn btn-default\" href=\"#\" title=\"' + name + '\"><i class=\"fa ' + image + ' fa-lg\"></i></button>');\n",
       "        button.click(method_name, toolbar_event);\n",
       "        button.mouseover(tooltip, toolbar_mouse_event);\n",
       "        nav_element.append(button);\n",
       "    }\n",
       "\n",
       "    // Add the status bar.\n",
       "    var status_bar = $('<span class=\"mpl-message\" style=\"text-align:right; float: right;\"/>');\n",
       "    nav_element.append(status_bar);\n",
       "    this.message = status_bar[0];\n",
       "\n",
       "    // Add the close button to the window.\n",
       "    var buttongrp = $('<div class=\"btn-group inline pull-right\"></div>');\n",
       "    var button = $('<button class=\"btn btn-mini btn-primary\" href=\"#\" title=\"Stop Interaction\"><i class=\"fa fa-power-off icon-remove icon-large\"></i></button>');\n",
       "    button.click(function (evt) { fig.handle_close(fig, {}); } );\n",
       "    button.mouseover('Stop Interaction', toolbar_mouse_event);\n",
       "    buttongrp.append(button);\n",
       "    var titlebar = this.root.find($('.ui-dialog-titlebar'));\n",
       "    titlebar.prepend(buttongrp);\n",
       "}\n",
       "\n",
       "mpl.figure.prototype._root_extra_style = function(el){\n",
       "    var fig = this\n",
       "    el.on(\"remove\", function(){\n",
       "\tfig.close_ws(fig, {});\n",
       "    });\n",
       "}\n",
       "\n",
       "mpl.figure.prototype._canvas_extra_style = function(el){\n",
       "    // this is important to make the div 'focusable\n",
       "    el.attr('tabindex', 0)\n",
       "    // reach out to IPython and tell the keyboard manager to turn it's self\n",
       "    // off when our div gets focus\n",
       "\n",
       "    // location in version 3\n",
       "    if (IPython.notebook.keyboard_manager) {\n",
       "        IPython.notebook.keyboard_manager.register_events(el);\n",
       "    }\n",
       "    else {\n",
       "        // location in version 2\n",
       "        IPython.keyboard_manager.register_events(el);\n",
       "    }\n",
       "\n",
       "}\n",
       "\n",
       "mpl.figure.prototype._key_event_extra = function(event, name) {\n",
       "    var manager = IPython.notebook.keyboard_manager;\n",
       "    if (!manager)\n",
       "        manager = IPython.keyboard_manager;\n",
       "\n",
       "    // Check for shift+enter\n",
       "    if (event.shiftKey && event.which == 13) {\n",
       "        this.canvas_div.blur();\n",
       "        // select the cell after this one\n",
       "        var index = IPython.notebook.find_cell_index(this.cell_info[0]);\n",
       "        IPython.notebook.select(index + 1);\n",
       "    }\n",
       "}\n",
       "\n",
       "mpl.figure.prototype.handle_save = function(fig, msg) {\n",
       "    fig.ondownload(fig, null);\n",
       "}\n",
       "\n",
       "\n",
       "mpl.find_output_cell = function(html_output) {\n",
       "    // Return the cell and output element which can be found *uniquely* in the notebook.\n",
       "    // Note - this is a bit hacky, but it is done because the \"notebook_saving.Notebook\"\n",
       "    // IPython event is triggered only after the cells have been serialised, which for\n",
       "    // our purposes (turning an active figure into a static one), is too late.\n",
       "    var cells = IPython.notebook.get_cells();\n",
       "    var ncells = cells.length;\n",
       "    for (var i=0; i<ncells; i++) {\n",
       "        var cell = cells[i];\n",
       "        if (cell.cell_type === 'code'){\n",
       "            for (var j=0; j<cell.output_area.outputs.length; j++) {\n",
       "                var data = cell.output_area.outputs[j];\n",
       "                if (data.data) {\n",
       "                    // IPython >= 3 moved mimebundle to data attribute of output\n",
       "                    data = data.data;\n",
       "                }\n",
       "                if (data['text/html'] == html_output) {\n",
       "                    return [cell, data, j];\n",
       "                }\n",
       "            }\n",
       "        }\n",
       "    }\n",
       "}\n",
       "\n",
       "// Register the function which deals with the matplotlib target/channel.\n",
       "// The kernel may be null if the page has been refreshed.\n",
       "if (IPython.notebook.kernel != null) {\n",
       "    IPython.notebook.kernel.comm_manager.register_target('matplotlib', mpl.mpl_figure_comm);\n",
       "}\n"
      ],
      "text/plain": [
       "<IPython.core.display.Javascript object>"
      ]
     },
     "metadata": {},
     "output_type": "display_data"
    },
    {
     "data": {
      "text/html": [
       "<img src=\"data:image/png;base64,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\" width=\"640\">"
      ],
      "text/plain": [
       "<IPython.core.display.HTML object>"
      ]
     },
     "metadata": {},
     "output_type": "display_data"
    },
    {
     "name": "stdout",
     "output_type": "stream",
     "text": [
      "nan 549\n",
      "4.49340945791 4\n",
      "7.72525183694 13\n",
      "nan 521\n"
     ]
    },
    {
     "name": "stderr",
     "output_type": "stream",
     "text": [
      "J:\\Physics\\ComputerWorkshop\\Anaconda3\\lib\\site-packages\\ipykernel\\__main__.py:4: RuntimeWarning: overflow encountered in double_scalars\n",
      "J:\\Physics\\ComputerWorkshop\\Anaconda3\\lib\\site-packages\\ipykernel\\__main__.py:4: RuntimeWarning: invalid value encountered in tan\n",
      "J:\\Physics\\ComputerWorkshop\\Anaconda3\\lib\\site-packages\\ipykernel\\__main__.py:6: RuntimeWarning: invalid value encountered in cos\n"
     ]
    }
   ],
   "source": [
    "from pylab import tan, cos, figure, plot,linspace, grid\n",
    "%matplotlib notebook\n",
    "def g(x):\n",
    "    return tan(x)-x\n",
    "def gp(x):\n",
    "    return ((1/cos(x))**2) -1\n",
    "\n",
    "figure()\n",
    "grid()\n",
    "x=linspace(1,10)\n",
    "plot(x,g(x))\n",
    "newton_iteration(g,4,newton_step,gp) # Great number of iterations when initial guess is ~.7 away from root, converging too slowly, no correct rou\n",
    "newton_iteration(g,4.5,newton_step,gp) # \n",
    "newton_iteration(g,7.6,newton_step,gp)\n",
    "newton_iteration(g,7,newton_step,gp)"
   ]
  },
  {
   "cell_type": "markdown",
   "metadata": {},
   "source": [
    "**Explore carefully for which starting guesses the Newton-Raphson converges, to which solution, and in how many iterations. Can you explain your results?**\n",
    "\n",
    "(Suggested guesses to try: 4, 4.5, 8)\n",
    "\n",
    "▶ **CHECKPOINT 2**"
   ]
  },
  {
   "cell_type": "markdown",
   "metadata": {
    "collapsed": true
   },
   "source": [
    "## Using numerical derivatives\n",
    "\n",
    "Of course, sometimes it is inconvenient to program in the derivative of the function we're exploring. Fortunately, last lab we have seen how to calculate the derivative numerically. I have copied below our central-difference function from that lab, setting the default value of the step size $h$ to $10^{-5}$."
   ]
  },
  {
   "cell_type": "code",
   "execution_count": 17,
   "metadata": {
    "collapsed": true
   },
   "outputs": [],
   "source": [
    "def CD(f, x, h=1e-5):\n",
    "    \"\"\"Estimate the derivative f'(x) using the central difference algorithm with step size h.\"\"\"\n",
    "    return (f(x + h/2) - f(x - h/2))/h"
   ]
  },
  {
   "cell_type": "code",
   "execution_count": 22,
   "metadata": {
    "collapsed": false
   },
   "outputs": [],
   "source": [
    "def newton_CD_step(f,x0):\n",
    "    return x0 - f(x0)/CD(f,x0)"
   ]
  },
  {
   "cell_type": "code",
   "execution_count": 83,
   "metadata": {
    "collapsed": false
   },
   "outputs": [
    {
     "ename": "AttributeError",
     "evalue": "'function' object has no attribute 'tan'",
     "output_type": "error",
     "traceback": [
      "\u001b[0;31m---------------------------------------------------------------------------\u001b[0m",
      "\u001b[0;31mAttributeError\u001b[0m                            Traceback (most recent call last)",
      "\u001b[0;32m<ipython-input-83-2c54ef1a847d>\u001b[0m in \u001b[0;36m<module>\u001b[0;34m()\u001b[0m\n\u001b[0;32m----> 1\u001b[0;31m \u001b[0mnewton_iteration\u001b[0m\u001b[1;33m(\u001b[0m\u001b[0mg\u001b[0m\u001b[1;33m,\u001b[0m\u001b[0mgp\u001b[0m\u001b[1;33m,\u001b[0m\u001b[1;36m4.5\u001b[0m\u001b[1;33m)\u001b[0m\u001b[1;33m\u001b[0m\u001b[0m\n\u001b[0m",
      "\u001b[0;32m<ipython-input-54-644100bec6a3>\u001b[0m in \u001b[0;36mnewton_iteration\u001b[0;34m(f, guess, step, fp)\u001b[0m\n\u001b[1;32m     12\u001b[0m         \u001b[0mxn\u001b[0m\u001b[1;33m=\u001b[0m\u001b[0mnewton_step\u001b[0m\u001b[1;33m(\u001b[0m\u001b[0mf\u001b[0m\u001b[1;33m,\u001b[0m\u001b[0mfp\u001b[0m\u001b[1;33m,\u001b[0m\u001b[0mguess\u001b[0m\u001b[1;33m)\u001b[0m\u001b[1;33m\u001b[0m\u001b[0m\n\u001b[1;32m     13\u001b[0m     \u001b[1;32melse\u001b[0m\u001b[1;33m:\u001b[0m\u001b[1;33m\u001b[0m\u001b[0m\n\u001b[0;32m---> 14\u001b[0;31m         \u001b[0mxn\u001b[0m\u001b[1;33m=\u001b[0m\u001b[0mnewton_CD_step\u001b[0m\u001b[1;33m(\u001b[0m\u001b[0mf\u001b[0m\u001b[1;33m,\u001b[0m\u001b[0mguess\u001b[0m\u001b[1;33m)\u001b[0m\u001b[1;33m\u001b[0m\u001b[0m\n\u001b[0m\u001b[1;32m     15\u001b[0m     \u001b[1;32mwhile\u001b[0m \u001b[0mabs\u001b[0m\u001b[1;33m(\u001b[0m\u001b[0mx\u001b[0m\u001b[1;33m-\u001b[0m\u001b[0mxn\u001b[0m\u001b[1;33m)\u001b[0m \u001b[1;33m>\u001b[0m \u001b[1;36m1e-9\u001b[0m\u001b[1;33m:\u001b[0m\u001b[1;33m\u001b[0m\u001b[0m\n\u001b[1;32m     16\u001b[0m         \u001b[0mn\u001b[0m \u001b[1;33m+=\u001b[0m\u001b[1;36m1\u001b[0m\u001b[1;33m\u001b[0m\u001b[0m\n",
      "\u001b[0;32m<ipython-input-22-04c585a3e275>\u001b[0m in \u001b[0;36mnewton_CD_step\u001b[0;34m(f, x0)\u001b[0m\n\u001b[1;32m      1\u001b[0m \u001b[1;32mdef\u001b[0m \u001b[0mnewton_CD_step\u001b[0m\u001b[1;33m(\u001b[0m\u001b[0mf\u001b[0m\u001b[1;33m,\u001b[0m\u001b[0mx0\u001b[0m\u001b[1;33m)\u001b[0m\u001b[1;33m:\u001b[0m\u001b[1;33m\u001b[0m\u001b[0m\n\u001b[0;32m----> 2\u001b[0;31m     \u001b[1;32mreturn\u001b[0m \u001b[0mx0\u001b[0m \u001b[1;33m-\u001b[0m \u001b[0mf\u001b[0m\u001b[1;33m(\u001b[0m\u001b[0mx0\u001b[0m\u001b[1;33m)\u001b[0m\u001b[1;33m/\u001b[0m\u001b[0mCD\u001b[0m\u001b[1;33m(\u001b[0m\u001b[0mf\u001b[0m\u001b[1;33m,\u001b[0m\u001b[0mx0\u001b[0m\u001b[1;33m)\u001b[0m\u001b[1;33m\u001b[0m\u001b[0m\n\u001b[0m",
      "\u001b[0;32m<ipython-input-79-be40ce83fe8b>\u001b[0m in \u001b[0;36mg\u001b[0;34m(x)\u001b[0m\n\u001b[1;32m      2\u001b[0m \u001b[0mget_ipython\u001b[0m\u001b[1;33m(\u001b[0m\u001b[1;33m)\u001b[0m\u001b[1;33m.\u001b[0m\u001b[0mmagic\u001b[0m\u001b[1;33m(\u001b[0m\u001b[1;34m'matplotlib notebook'\u001b[0m\u001b[1;33m)\u001b[0m\u001b[1;33m\u001b[0m\u001b[0m\n\u001b[1;32m      3\u001b[0m \u001b[1;32mdef\u001b[0m \u001b[0mg\u001b[0m\u001b[1;33m(\u001b[0m\u001b[0mx\u001b[0m\u001b[1;33m)\u001b[0m\u001b[1;33m:\u001b[0m\u001b[1;33m\u001b[0m\u001b[0m\n\u001b[0;32m----> 4\u001b[0;31m     \u001b[1;32mreturn\u001b[0m \u001b[0mtan\u001b[0m\u001b[1;33m(\u001b[0m\u001b[0mx\u001b[0m\u001b[1;33m)\u001b[0m\u001b[1;33m-\u001b[0m\u001b[0mx\u001b[0m\u001b[1;33m\u001b[0m\u001b[0m\n\u001b[0m\u001b[1;32m      5\u001b[0m \u001b[1;32mdef\u001b[0m \u001b[0mgp\u001b[0m\u001b[1;33m(\u001b[0m\u001b[0mx\u001b[0m\u001b[1;33m)\u001b[0m\u001b[1;33m:\u001b[0m\u001b[1;33m\u001b[0m\u001b[0m\n\u001b[1;32m      6\u001b[0m     \u001b[1;32mreturn\u001b[0m \u001b[1;33m(\u001b[0m\u001b[1;33m(\u001b[0m\u001b[1;36m1\u001b[0m\u001b[1;33m/\u001b[0m\u001b[0mcos\u001b[0m\u001b[1;33m(\u001b[0m\u001b[0mx\u001b[0m\u001b[1;33m)\u001b[0m\u001b[1;33m)\u001b[0m\u001b[1;33m**\u001b[0m\u001b[1;36m2\u001b[0m\u001b[1;33m)\u001b[0m \u001b[1;33m-\u001b[0m\u001b[1;36m1\u001b[0m\u001b[1;33m\u001b[0m\u001b[0m\n",
      "\u001b[0;31mAttributeError\u001b[0m: 'function' object has no attribute 'tan'"
     ]
    }
   ],
   "source": [
    "newton_iteration(g,gp,4.5)"
   ]
  },
  {
   "cell_type": "code",
   "execution_count": 70,
   "metadata": {
    "collapsed": false
   },
   "outputs": [
    {
     "data": {
      "text/plain": [
       "(1.4142135623730951, 21)"
      ]
     },
     "execution_count": 70,
     "metadata": {},
     "output_type": "execute_result"
    }
   ],
   "source": [
    "newton_iteration(f,10**5,newton_step,fp)"
   ]
  },
  {
   "cell_type": "code",
   "execution_count": 71,
   "metadata": {
    "collapsed": false
   },
   "outputs": [
    {
     "data": {
      "text/plain": [
       "(1.4142135623730951, 21)"
      ]
     },
     "execution_count": 71,
     "metadata": {},
     "output_type": "execute_result"
    }
   ],
   "source": [
    "newton_iteration(f,10**5,newton_CD_step)"
   ]
  },
  {
   "cell_type": "code",
   "execution_count": 75,
   "metadata": {
    "collapsed": false
   },
   "outputs": [
    {
     "data": {
      "text/plain": [
       "(0.69481969073078753, 5)"
      ]
     },
     "execution_count": 75,
     "metadata": {},
     "output_type": "execute_result"
    }
   ],
   "source": [
    "newton_iteration(sincos,0.1,newton_CD_step)"
   ]
  },
  {
   "cell_type": "code",
   "execution_count": 76,
   "metadata": {
    "collapsed": false
   },
   "outputs": [
    {
     "data": {
      "text/plain": [
       "(0.69481969073078753, 5)"
      ]
     },
     "execution_count": 76,
     "metadata": {},
     "output_type": "execute_result"
    }
   ],
   "source": [
    "newton_iteration(sincos,1,newton_step,sincosp)"
   ]
  },
  {
   "cell_type": "markdown",
   "metadata": {},
   "source": [
    "**Write a revised function `newton_CD_step(f, x0)` to perform one step of the Newton-Raphson algorithm, this time using the derivative from the `CD()` function.**\n",
    "\n",
    "**Can you find the same roots using this method as you did using the exact derivative?**\n",
    "\n",
    "▶ **CHECKPOINT 3**"
   ]
  },
  {
   "cell_type": "code",
   "execution_count": 86,
   "metadata": {
    "collapsed": false
   },
   "outputs": [
    {
     "name": "stderr",
     "output_type": "stream",
     "text": [
      "J:\\Physics\\ComputerWorkshop\\Anaconda3\\lib\\site-packages\\ipykernel\\__main__.py:4: RuntimeWarning: overflow encountered in double_scalars\n",
      "J:\\Physics\\ComputerWorkshop\\Anaconda3\\lib\\site-packages\\ipykernel\\__main__.py:4: RuntimeWarning: invalid value encountered in tan\n",
      "J:\\Physics\\ComputerWorkshop\\Anaconda3\\lib\\site-packages\\ipykernel\\__main__.py:6: RuntimeWarning: invalid value encountered in cos\n"
     ]
    },
    {
     "data": {
      "text/plain": [
       "(nan, 462)"
      ]
     },
     "execution_count": 86,
     "metadata": {},
     "output_type": "execute_result"
    }
   ],
   "source": [
    "newton_iteration(g,7.5,newton_step,gp)"
   ]
  },
  {
   "cell_type": "code",
   "execution_count": 87,
   "metadata": {
    "collapsed": false
   },
   "outputs": [
    {
     "name": "stderr",
     "output_type": "stream",
     "text": [
      "J:\\Physics\\ComputerWorkshop\\Anaconda3\\lib\\site-packages\\ipykernel\\__main__.py:2: RuntimeWarning: divide by zero encountered in double_scalars\n",
      "  from ipykernel import kernelapp as app\n",
      "J:\\Physics\\ComputerWorkshop\\Anaconda3\\lib\\site-packages\\ipykernel\\__main__.py:4: RuntimeWarning: invalid value encountered in tan\n"
     ]
    },
    {
     "data": {
      "text/plain": [
       "(nan, 21)"
      ]
     },
     "execution_count": 87,
     "metadata": {},
     "output_type": "execute_result"
    }
   ],
   "source": [
    "newton_iteration(g,7.5,newton_CD_step)"
   ]
  },
  {
   "cell_type": "markdown",
   "metadata": {},
   "source": [
    "## Mini-report 1 (10 marks, due Friday 19 October at 1 pm)\n",
    "\n",
    "For this report you don’t need to write an introduction, methods, conclusion, or references section; I simply want results and discussion.\n",
    "\n",
    "Your task is to investigate the root-finding algorithms we’ve learnt: the bisection method, *regula falsi*, and now Newton’s method. An augmented list of our questions from lab 4:\n",
    "\n",
    "- Which functions can these algorithms be applied to? \n",
    "- Can you predict how many iterations they will require? \n",
    "- Is it possible that they will not converge? \n",
    "- Is it possible that they will converge, but not to the nearest root?\n",
    "- Is it possible that they will converge to a value that is not a root?\n",
    "- Is it possible that there is a root within the initial range that they do not find?\n",
    "\n",
    "You may experiment with any function you choose, including the functions from lab 4. For Newton’s method you might like to try $m(x) = \\cos(x)$ (try starting with very small but nonzero numbers), $n(x) = x^3 - 2x + 2$ (try starting with 0, 1, 0.14, 0.141) and, if you are feeling particularly masochistic,\n",
    "$$\n",
    "p(x) = \\begin{cases}\\sqrt{x} & x \\geq 0 \\\\\n",
    "-\\sqrt{-x} & x \\leq 0\\end{cases}.\n",
    "$$\n",
    "\n",
    "Try to come to some general conclusions about where each of these methods is most useful and how they might be sensibly combined."
   ]
  },
  {
   "cell_type": "markdown",
   "metadata": {
    "collapsed": true
   },
   "source": [
    "[click here](## Using numerical derivatives) "
   ]
  },
  {
   "cell_type": "code",
   "execution_count": 7,
   "metadata": {
    "collapsed": false
   },
   "outputs": [
    {
     "name": "stdout",
     "output_type": "stream",
     "text": [
      "Object `vectorize` not found.\n"
     ]
    }
   ],
   "source": [
    "vectorize?"
   ]
  },
  {
   "cell_type": "code",
   "execution_count": null,
   "metadata": {
    "collapsed": true
   },
   "outputs": [],
   "source": []
  }
 ],
 "metadata": {
  "kernelspec": {
   "display_name": "Python 3",
   "language": "python",
   "name": "python3"
  },
  "language_info": {
   "codemirror_mode": {
    "name": "ipython",
    "version": 3
   },
   "file_extension": ".py",
   "mimetype": "text/x-python",
   "name": "python",
   "nbconvert_exporter": "python",
   "pygments_lexer": "ipython3",
   "version": "3.6.0"
  }
 },
 "nbformat": 4,
 "nbformat_minor": 2
}
