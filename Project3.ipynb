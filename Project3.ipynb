{
 "cells": [
  {
   "cell_type": "markdown",
   "metadata": {},
   "source": [
    "# Solving the 1 dimensional Schrödinger equation with a matrix method"
   ]
  },
  {
   "cell_type": "markdown",
   "metadata": {},
   "source": [
    "## Introduction\n",
    "\n",
    "Quantum mechanics is an important branch in physics that is used to describe physical behaviours at the smallest scales. The description of physical systems depends on solving the  Schrödinger equation since the solutions can be used to describe the behaviour of subatomic, atomic and molecular systems. However, it can be solved analytically for very few systems, requiring a sufficiently good numerical method when no analytical solution exists.  [[1]](https://www.researchgate.net/publication/322593570_A_Matrix_Method_of_Solving_the_Schrodinger_Equation)\n",
    "\n",
    "Such a numerical algorithm, the matrix method, was used to solve the Schrödinger equation where the boundary conditions are known. A basis set of functions were chosen which obey boundary conditions and linear combinations of them were found in order to approximate the wave function. The wave function was then substituted into the Schrödinger equation and pre-multiplied by each of the basis. By integrating, a series of linear equations was obtained that was written as a matrix equation. The matrix was then represented in terms of its eigenvalues (eigenenergies) and eigenvectors (corresponding multipliers of  basis).[[2]](http://demonstrations.wolfram.com/ExactSolutionForRectangularDoubleWellPotential/)\n",
    "\n",
    "In this project, the one-dimensional, time-independent Schrödinger equation is solved for two systems: the particle in a box, with and without a potential barrier. The particle in a box problem is a common application of a quantum mechanical model to a simplified system. It describes the horizontal translation motion of a particle confined in an infinitely deep well from which it cannot escape. Adding a potential barrier inside the infinite well allows us to study quantum tunneling; a phenomenon in which a particle penetrates a potential energy barrier with a height greater than the energy of the particle. The phenomenon is exciting because it violates the principles of classical mechanics by allowing particles can get through classically forbidden regions and is possible because in quantum mechanics, particles show wave properties. It is essential in modeling the Sun and other stars, and has a wide range of applications, such as transistors, integrated circuits and the scanning tunneling microscope.[[3]]()\n",
    "\n",
    "The analytical solution for both systems is known so they were compared to the numerical solutions, testing the suitability of the matrix method. For the infinite square well, the results match the analytical solutions well. However, when the barrier was added, the solutions were correct for a small range of the initial parameters."
   ]
  },
  {
   "cell_type": "markdown",
   "metadata": {},
   "source": [
    "## Method\n",
    "\n",
    "The model of a particle is trapped between two regions of infinite potential forms the one dimensional $\\textbf{infinite potential well}$ as shown in Figure 1. \n",
    "\n",
    "<img src=\"pbox.gif\" width = '240'> $\\textit{Figure 1}. $ Particle is trapped inside an infinite potential well of width $L$. The first three wavefunctions are shown. Adapted from [[4]](http://hyperphysics.phy-astr.gsu.edu/hbase/quantum/pbox.html)\n",
    "\n",
    "The time-independent Schrödinger equation for this simple system is:\n",
    "$$\n",
    "-\\dfrac{\\hslash^2}{2m} \\, \\dfrac{\\mathrm{d}^2 \\psi}{\\mathrm{d} x^2} = E\\psi  \\;\\;\\;(1.1)\n",
    "$$\n",
    "or $$\\mathcal{\\hat{H}}\\psi = E\\psi  \\;\\;\\;(1.2)$$\n",
    "where $\\hslash$ is the reduced Plank's constant: $\\dfrac{h}{2\\pi}$, $m$ is the particle's mass, $E$ the eigen-energies, and $\\psi$ the wavefunctions. In this project $L=2$ and natural units are taken so that $\\dfrac{\\hslash^2}{2m}$ equals 1.\n",
    "\n",
    "The objective is to chose a suitable basis set of N functions $φ_i(x)$ and  to find linear combinations of them such that:\n",
    "$$\\psi = \\sum_i^n c_i \\phi_i \\;\\;\\;(2)$$  where $c_i$ are constants to be found.\n",
    "\n",
    "Then multiply $\\psi$ by the complex conjugate $\\phi*$ (which is just $\\phi$ in this case as the basis chosen are real). Substitute into eq. (1.2) and integrate will result in a series of linear equations which can be represented by the matrix equation:\n",
    "$\\textbf{Ha} = E\\textbf{Sa}$, where $\\textbf{H}$ and $\\textbf{S}$ are matrices, a is an eigenvector and $E$ energy levels.\n",
    "\n",
    "This is a form of a generalised eigenvalue problem and `scipy.linalg.eig` can be used to solve it. It requires an input of the   matrix whose eigenvalues and eigenvectors will be computed and, in this case, the right-hand side matrix in the problem. The function returns a tuple (eigvals,eigvecs) where eigvals (set of $E$) is a 1D array of numbers, and eigvecs is a 2D array with the corresponding eigenvectors (set of $\\textbf{a}$) in the columns.[[5]](https://docs.scipy.org/doc/scipy/reference/generated/scipy.linalg.eig.html)\n",
    "\n",
    "\n"
   ]
  },
  {
   "cell_type": "markdown",
   "metadata": {},
   "source": [
    "The $\\textbf{double-well potential}$ is composed of a finite barrier between the infinite walls of potential. \n",
    "\n",
    "<img src=\"double_well.png\" width = '1000'>\n",
    "\n",
    "$\\textit{Figure 2}$. Simplistic rectangular double-well potential showing even and odd eigenstates. \n",
    "Adapted from [[6]](https://chemistry.stackexchange.com/questions/85447/does-possibility-of-tunneling-influence-ground-state-energy-of-pib-with-and-with).\n",
    "\n",
    "Two wavefunctions  are shown in Figure 2. The solutions closely resemble a symmetric and an antisymmetric linear combination of the ground state of a particle in an infinite box. The same basis as the infinite well was tried but resulted in erroneously complex results. Hence, the basis used is that of the exact solutions of the infinite well. However, only the symmetric functions were calculated in this project.\n",
    "\n",
    "Two functions, one for each system, were created which evaluate the matrix equation using `scipy.linalg.eig`. The functions called two other plotting functions created earlier. The `interact` function from the module `ipywidgets` was used to automatically create user interface controls allowing the variance of certain parameters of the systems (number of basis N, width and height of barrier). Interact autogenerated a slider bound to each parameter, and then called each function with those arguments, allowing them to be manipulated interactively. [[7]](https://ipywidgets.readthedocs.io/en/stable/examples/Using%20Interact.html)"
   ]
  },
  {
   "cell_type": "markdown",
   "metadata": {},
   "source": [
    "### Importing relevant libraries and functions"
   ]
  },
  {
   "cell_type": "code",
   "execution_count": 1,
   "metadata": {},
   "outputs": [],
   "source": [
    "import numpy as np\n",
    "from scipy.linalg import eig\n",
    "from matplotlib import pyplot as plt\n",
    "from ipywidgets import interact"
   ]
  },
  {
   "cell_type": "markdown",
   "metadata": {},
   "source": [
    "### Basis\n",
    "\n",
    "As basis functions for the infinite well take simple polynomials that vanish at the walls:\n",
    "\n",
    "$$\\phi_i(x) = x^i(x-1)(x+1), \\; i = 0,1,2,...n. \\;\\;\\;(3.1)$$"
   ]
  },
  {
   "cell_type": "code",
   "execution_count": 2,
   "metadata": {},
   "outputs": [],
   "source": [
    "x = np.linspace(-1,1,int(10e3)) # range of well"
   ]
  },
  {
   "cell_type": "code",
   "execution_count": 3,
   "metadata": {},
   "outputs": [],
   "source": [
    "def poly_basis(N):\n",
    "    Φ_functions = []\n",
    "                    \n",
    "    for i in range(N+1):\n",
    "        Φ = x**i * (x - 1)*(x + 1)\n",
    "        Φ_functions.append(Φ)\n",
    "                \n",
    "    return Φ_functions"
   ]
  },
  {
   "cell_type": "markdown",
   "metadata": {},
   "source": [
    "\n",
    "For the double well, even excited states were evaluated using cosine based functions: \n",
    "\n",
    "$$ \\phi_i(x) = cos(\\frac{ix\\pi}{2}), \\; i = 0, 2, 4,...n. \\;\\;\\;(3.2)$$"
   ]
  },
  {
   "cell_type": "code",
   "execution_count": 4,
   "metadata": {},
   "outputs": [],
   "source": [
    "def cos_basis(N):\n",
    "    Φ_functions = []\n",
    "                    \n",
    "    for i in range(N+1):\n",
    "        Φ =   np.cos(((2*i+1)*x*np.pi)/2)\n",
    "        Φ_functions.append(Φ)\n",
    "        \n",
    "    return Φ_functions"
   ]
  },
  {
   "cell_type": "markdown",
   "metadata": {},
   "source": [
    "### Building and solving the matrices\n",
    "\n",
    "In order to solve for $\\psi$ and $E$ in eq. (2) the Hamiltonian (energy) matrix $\\textbf{H}$ and  the overlap matrix $\\textbf{S} $ are constructed.\n",
    "\n",
    "The reason for choosing the particular form of basis functions is that the relevant matrices' elements can easily be calculated:\n",
    "\n",
    "$$\n",
    "S_{ij} = \\int_{-1}^{1}\\phi_i^*\\phi_j dx \\approx \\; \\sum_i^n \\sum_j^n\\phi_i^* \\phi_j \\;\\;\\;\\;\\;\\;\\; \\;\\;\\;(4.1)\n",
    "$$\n",
    "\n",
    "and the elements of the matrix $\\textbf{H}$ are:\n",
    "\n",
    "$$ \n",
    "\\begin{equation}\\label{Hamiltonian}\n",
    "H_{ij} = \\int_{-1}^{1}\\phi_i^* \\mathcal{\\hat{H}} \\phi_jdx \\approx \\sum_i^n \\sum_j^n\\phi_i^* \\mathcal{\\hat{H}} \\phi_j \\;  \\; \\; \\;\\;\\;(4.2)\n",
    "\\end{equation}.\n",
    "$$\n",
    "$\\mathcal{\\hat{H}} = -\\dfrac{d^2}{dx^2}$ for the infinite square well and\n",
    "$ \\mathcal{\\hat{H}} =-\\dfrac{d^2}{dx^2} + V(x) $  for the double well, where [V(x)](#Simple-double-well). is a potential barrier of varying height and width: $$ V(x) =\\begin{gather*}    \n",
    "\\begin{cases}\n",
    "  V = \\text{height} & \\text{for }|x|\\le \\frac{\\text{width}}{2}\\\\    \n",
    "  V = 0  &\\text{elsewhere   }\n",
    "\\end{cases}\n",
    "\\end{gather*} \\;\\;\\;(5).$$                                             \n",
    "                                                                                                  "
   ]
  },
  {
   "cell_type": "code",
   "execution_count": 5,
   "metadata": {},
   "outputs": [],
   "source": [
    "def eigen_states(basis_functions,potential=None):\n",
    "    \"\"\"Returns sets of sorted eigen-energies and constants of an infinite potential well and a given potential.\n",
    "    \n",
    "    Parameters \n",
    "    ----------\n",
    "    basis_functions: array\n",
    "        Chosen estimates of basis functions.\n",
    "    potential: function, optional\n",
    "        An additional function to be added between the walls of the well.\n",
    "        \n",
    "    Returns\n",
    "    -------\n",
    "    sorted_eigenvectors: ndarray\n",
    "        Eigenvector of system ordered in terms of ascending eigenvalues.\n",
    "    sorted_eigenvalues: array\n",
    "        Eigenvalue of system in ascending order.\n",
    "    \"\"\"\n",
    "    \n",
    "    n = len(basis_functions)\n",
    "    \n",
    "    S = np.zeros((n,n))   # S matrix\n",
    "    H = np.zeros((n,n))  # Hameltonian matrix\n",
    "    \n",
    "    for i in range(n):\n",
    "        for j in range(n):\n",
    "            S[i,j] = np.trapz( basis_functions[i] * basis_functions[j]) # Consructing eq. (4.2)\n",
    "            \n",
    "            diff2 = -np.gradient ( np.gradient( basis_functions[j],x ),x ) # second differential of basis function\n",
    "            if potential:\n",
    "                diff2 += potential(x)\n",
    "                \n",
    "            H[i,j] = np.trapz( basis_functions[i] * diff2) # Constructing eq. (4.1)\n",
    "\n",
    "            \n",
    "    eigvals, eigvecs = eig(H, S) # Solving generalised eigenvalue problem using scipy.linalg.eig\n",
    "    \n",
    "    # Sorting in ascending magnitude of eigenvalues\n",
    "    \n",
    "    eigvals_indices = eigvals.argsort()\n",
    "    sorted_eigvals = eigvals[eigvals_indices]\n",
    "    sorted_eigvecs = eigvecs[:,eigvals_indices]\n",
    "    \n",
    "    return (sorted_eigvecs, sorted_eigvals)"
   ]
  },
  {
   "cell_type": "markdown",
   "metadata": {},
   "source": [
    "### Plotting functions"
   ]
  },
  {
   "cell_type": "code",
   "execution_count": 6,
   "metadata": {},
   "outputs": [],
   "source": [
    "def well_plot(title, d=0 ):\n",
    "    \"\"\"Creates a blank graph for wavefunctions to be plotted\n",
    "    \n",
    "    Parameters \n",
    "    ----------\n",
    "    title: string\n",
    "        name of well, i.e. 'infinite square' or 'double'\n",
    "    d: float\n",
    "        number for arrow and infinity symbol to be shifted by from 6\n",
    "        \n",
    "    Returns\n",
    "    -------\n",
    "    Labeled figure of with axes and arrows at x=-1,1\n",
    "    sorted_eigenvectors: ndarray\n",
    "    \"\"\"\n",
    "    ax = plt.axes((1,1,1.5,1.2)) # create axes\n",
    "    \n",
    "    #Add arrows at walls of well with infinity symbols\n",
    "    ax.arrow(-1, 0, 0, 5.8 + d, head_width=0.05, head_length=0.1, fc='k', ec='k')\n",
    "    ax.arrow(1, 0, 0, 5.8 + d, head_width=0.05, head_length=0.1, fc='k', ec='k')\n",
    "    \n",
    "    ax.annotate(('$\\infty$'),\n",
    "            xy=(1, 1),\n",
    "            xytext=(-1.03, 6 + d),\n",
    "            size = 20)\n",
    "        \n",
    "    ax.annotate(('$\\infty$'),\n",
    "            xy=(1, 1),\n",
    "            xytext=(0.97, 6 + d),\n",
    "            size = 20)\n",
    "    \n",
    "    plt.xlabel('x')\n",
    "    plt.ylabel('Excited state')\n",
    "    plt.yticks(np.linspace(0,6,7))\n",
    "    plt.xticks(np.linspace(-1,1,3))\n",
    "    plt.ylim((0,6.3))\n",
    "    plt.title('Wavefunctions of ' + title + ' well')\n",
    "    plt.grid()\n",
    "    \n",
    "    \n",
    "    \n",
    "def energy_plot(title):\n",
    "    \"\"\"Creates blank graph for energies to be plotted\n",
    "   \n",
    "    Parameters \n",
    "    ----------\n",
    "    title: string\n",
    "        name of well, i.e. 'infinite square' or 'double'\n",
    "        \n",
    "    Returns\n",
    "    -------\n",
    "    Labeled figure with axes\n",
    "    \"\"\"\n",
    "    plt.figure(figsize=(11.7,6))\n",
    "    plt.title('Energy eigenstates of ' + title + ' well')\n",
    "    plt.xlabel('Energy level (n)')\n",
    "    plt.ylabel('Energy')\n",
    "    plt.grid()"
   ]
  },
  {
   "cell_type": "markdown",
   "metadata": {},
   "source": [
    "### Calculating wavefunctions and energies"
   ]
  },
  {
   "cell_type": "markdown",
   "metadata": {},
   "source": [
    "### Infinite square well"
   ]
  },
  {
   "cell_type": "code",
   "execution_count": 7,
   "metadata": {},
   "outputs": [],
   "source": [
    "def infinite_well(N):\n",
    "    \"\"\"Plots wavefunctions and energies of infinite square well with varying number N of polynomial bases\n",
    "    \n",
    "    Parameters \n",
    "    ----------\n",
    "    N: integer\n",
    "         number of polynomial functions to be used\n",
    "        \n",
    "    Returns\n",
    "    -------\n",
    "    Plots first 5 wavefunctions and corresponding exact and calculated eigen-energies of system\n",
    "    \"\"\"\n",
    "    \n",
    "    well_plot('infinite square')\n",
    "    \n",
    "    Φ_functions = poly_basis(N)\n",
    "    eigvecs, eigvals = eigen_states(Φ_functions)\n",
    "    \n",
    "    # Multiplying the eigenvectors (c_i) with the basis functions\n",
    "    for En in range(5):\n",
    "        y = np.zeros_like(x)\n",
    "        for i in range(N):\n",
    "            y += eigvecs[i,En] * Φ_functions[i] \n",
    "        plt.plot(x,y.real*(En**2+1) + En+1) # multiplied by an increasing value so as to make waves visible\n",
    "        \n",
    "    exact_energies = [((n+1) *np.pi)**2 /4 for n in range(N+1)] # using eq. 6 to calculate exact eigen-energies\n",
    "    energy_plot('infinite square')\n",
    "    plt.plot(exact_energies,'o-',label='Exact energies')\n",
    "    plt.loglog(eigvals.real,'o',label='Calculated energies')\n",
    "    plt.legend()"
   ]
  },
  {
   "cell_type": "markdown",
   "metadata": {},
   "source": [
    "### Simple double-well"
   ]
  },
  {
   "cell_type": "code",
   "execution_count": 8,
   "metadata": {},
   "outputs": [],
   "source": [
    "def double_well(Height, Width, N):   \n",
    "    \"\"\"Plots wavefunctions and of double well with varying number of basis N, height and width of barrier\n",
    "        \n",
    "    Parameters \n",
    "    ----------\n",
    "    N: integer\n",
    "         number of cosine bases to be used\n",
    "    Height: integer\n",
    "        height of barrier (potential) inside well\n",
    "    Width: float\n",
    "        width of barrier \n",
    "        \n",
    "    Returns\n",
    "    -------\n",
    "    Plots first 3 even wavefunctions and corresponding calculated eigen-energies of system\n",
    "    \"\"\"\n",
    "    \n",
    "    def potential_barrier(x):     # V(x)\n",
    "        # Constructing potential as in the function (5)\n",
    "        y = np.zeros(x.shape)\n",
    "        y[abs(x) < Width/2] = Height\n",
    "        return y\n",
    "\n",
    "    well_plot('double', 0.8)\n",
    "    plt.ylim((1,7))\n",
    "    \n",
    "    Φ_functions = cos_basis(N)\n",
    "    eigvecs, eigvals = eigen_states(Φ_functions, potential_barrier)\n",
    "    \n",
    "    if np.iscomplexobj(eigvecs)==False: # check if eigenvectors are complex, and plot if they are real\n",
    "    \n",
    "        for En in range(3):\n",
    "            y = np.zeros_like(x)\n",
    "            for i in range(N):\n",
    "                y += eigvecs[i,En] * Φ_functions[i]\n",
    "            plt.plot(x,y.real + 2*(En +1))\n",
    "            plt.text(1, 2*(En+1), \"{0:.2f}\".format(eigvals[En].real)) # Displaying energy of each plotted wave\n",
    "            \n",
    "        levels = [n for n in range(2*N+2) if n%2==0] # Even energy levels\n",
    "        energy_plot('double')\n",
    "        plt.loglog(levels,eigvals.real, 'o')\n",
    "        \n",
    "    else:\n",
    "        plt.close()\n",
    "        print('Error: Eigenvectors are complex.\\n')"
   ]
  },
  {
   "cell_type": "markdown",
   "metadata": {},
   "source": [
    "## Results"
   ]
  },
  {
   "cell_type": "markdown",
   "metadata": {},
   "source": [
    "### Infinite square well "
   ]
  },
  {
   "cell_type": "code",
   "execution_count": 9,
   "metadata": {
    "scrolled": false
   },
   "outputs": [
    {
     "data": {
      "application/vnd.jupyter.widget-view+json": {
       "model_id": "ec5384c3394f46919765e8e48c69a1fd",
       "version_major": 2,
       "version_minor": 0
      },
      "text/plain": [
       "interactive(children=(IntSlider(value=9, description='N', max=14, min=5), Output()), _dom_classes=('widget-int…"
      ]
     },
     "metadata": {},
     "output_type": "display_data"
    },
    {
     "data": {
      "text/plain": [
       "<function __main__.infinite_well(N)>"
      ]
     },
     "execution_count": 9,
     "metadata": {},
     "output_type": "execute_result"
    }
   ],
   "source": [
    "interact(infinite_well, N = (5, 14, 1))    "
   ]
  },
  {
   "cell_type": "markdown",
   "metadata": {},
   "source": [
    "$\\textit{Figure}\\; \\textbf{3}\\$ a) Wavefunctions of the first 5 states and b) calculated and exact energies of an infinite quantum well. The wavefunctions have an arbitrary magnitude and are shifted by the corresponding electron energy."
   ]
  },
  {
   "cell_type": "markdown",
   "metadata": {},
   "source": [
    "The magnitude of the wavefunctions decreased with each level so they had to be multiplied by $(En^2+1)$ in order for the higher states to be clearly visible. \n",
    "\n",
    "The number of bases used has a great influence on the shape of the wavefunctions. A greater number of bases is needed to evaluate more energetic particles. Even with N=5, the first 3 waves seem reasonable. The minimum of polynomials needed to obtain the two highest wavefunctions was 9, although at $N$=10, there seems to be an anomaly with the 4$^{\\text{th}}$ wave. The sign of the wave appears to alternate with each additional basis. \n",
    "\n",
    "Although the energy graphs are both exponential, the calculated energies rise faster than the exact energies: $$E_e = \\dfrac{\\hslash}{2m}\\dfrac{(n\\pi)^2}{4} = \\dfrac{(n\\pi)^2}{4} \\;\\;\\;(6).$$ "
   ]
  },
  {
   "cell_type": "markdown",
   "metadata": {},
   "source": [
    "#### Speed of algorithms"
   ]
  },
  {
   "cell_type": "code",
   "execution_count": 10,
   "metadata": {},
   "outputs": [],
   "source": [
    "plt.rcParams.update({'figure.max_open_warning': 0}) #surpress warnings"
   ]
  },
  {
   "cell_type": "code",
   "execution_count": 11,
   "metadata": {},
   "outputs": [
    {
     "name": "stdout",
     "output_type": "stream",
     "text": [
      "59.2 ms ± 451 µs per loop (mean ± std. dev. of 7 runs, 10 loops each)\n"
     ]
    }
   ],
   "source": [
    "%timeit eigen_states(poly_basis(10))"
   ]
  },
  {
   "cell_type": "code",
   "execution_count": 12,
   "metadata": {},
   "outputs": [
    {
     "name": "stdout",
     "output_type": "stream",
     "text": [
      "226 ms ± 13.6 ms per loop (mean ± std. dev. of 7 runs, 1 loop each)\n"
     ]
    }
   ],
   "source": [
    "%timeit eigen_states(poly_basis(20))"
   ]
  },
  {
   "cell_type": "code",
   "execution_count": 13,
   "metadata": {},
   "outputs": [
    {
     "name": "stdout",
     "output_type": "stream",
     "text": [
      "111 ms ± 22.9 ms per loop (mean ± std. dev. of 7 runs, 10 loops each)\n"
     ]
    }
   ],
   "source": [
    "%timeit infinite_well(10)\n",
    "plt.close('all')"
   ]
  },
  {
   "cell_type": "markdown",
   "metadata": {},
   "source": [
    "### Double-well:  symmetric solutions"
   ]
  },
  {
   "cell_type": "code",
   "execution_count": 14,
   "metadata": {
    "scrolled": false
   },
   "outputs": [
    {
     "data": {
      "application/vnd.jupyter.widget-view+json": {
       "model_id": "982a615b6c2441a5a20379f9637add08",
       "version_major": 2,
       "version_minor": 0
      },
      "text/plain": [
       "interactive(children=(IntSlider(value=87, description='Height', max=95, min=80), FloatSlider(value=0.4, descri…"
      ]
     },
     "metadata": {},
     "output_type": "display_data"
    },
    {
     "data": {
      "text/plain": [
       "<function __main__.double_well(Height, Width, N)>"
      ]
     },
     "execution_count": 14,
     "metadata": {},
     "output_type": "execute_result"
    }
   ],
   "source": [
    "interact(double_well, Height = (80, 95, 1), Width = (0.25, 0.6, 0.05), N = (3, 10, 1) )  "
   ]
  },
  {
   "cell_type": "markdown",
   "metadata": {},
   "source": [
    "$\\textit{Figure } \\textbf{4}$ a) The first 3 symmetrical wavefunctions and (b) N energy states in an simple double quantum well. The wavefunctions are not normalized and are shifted by the corresponding energy level. "
   ]
  },
  {
   "cell_type": "markdown",
   "metadata": {},
   "source": [
    "The eigenvectors are very sensitive to all the parameters. A correct solution is only possible for a small number of combinations of N, height and width. The eigenvectors always become complex when the width is greater or equal to 0.50.\n",
    "\n",
    "The magnitude of the waves decreases only slightly with level, possibly because the cosine basis is a better approximation than the polynomial basis. The waves also seem to be inverted depending on N, as with the infinite well. For example, the third wavefunction appears to erroneously rise at the barrier at [Height = 94, Width = 0.25, N = 6]. The energy of the particles is lower than the barrier (i.e. $E\\le V$), so it should be lower.\n",
    "\n",
    "Eigen-energies correctly increase with the width of the barrier.\n",
    "\n",
    "\n"
   ]
  },
  {
   "cell_type": "markdown",
   "metadata": {},
   "source": [
    "### Speed of algorithms"
   ]
  },
  {
   "cell_type": "code",
   "execution_count": 15,
   "metadata": {},
   "outputs": [
    {
     "name": "stdout",
     "output_type": "stream",
     "text": [
      "60.3 ms ± 4.3 ms per loop (mean ± std. dev. of 7 runs, 10 loops each)\n"
     ]
    }
   ],
   "source": [
    "%timeit eigen_states(cos_basis(10)) "
   ]
  },
  {
   "cell_type": "code",
   "execution_count": 16,
   "metadata": {},
   "outputs": [
    {
     "name": "stdout",
     "output_type": "stream",
     "text": [
      "207 ms ± 6.38 ms per loop (mean ± std. dev. of 7 runs, 1 loop each)\n"
     ]
    }
   ],
   "source": [
    "%timeit eigen_states(cos_basis(20))"
   ]
  },
  {
   "cell_type": "code",
   "execution_count": 17,
   "metadata": {},
   "outputs": [
    {
     "name": "stdout",
     "output_type": "stream",
     "text": [
      "92.6 ms ± 5.47 ms per loop (mean ± std. dev. of 7 runs, 10 loops each)\n"
     ]
    }
   ],
   "source": [
    "%timeit double_well(90, 0.3, 10)\n",
    "plt.close('all')"
   ]
  },
  {
   "cell_type": "markdown",
   "metadata": {},
   "source": [
    "\n",
    "## Discussion\n",
    "\n",
    "The graphs rightly show that in that the lowest possible energy of a particle is never zero even when the potential is zero within the well. This suggests the particle can never be at rest and will always have some kinetic energy, even at zero Kelvin. This obeys the Heisenberg Uncertainty Principle: if a particle's energy was zero, its position in time would be precisely known. The energies rightly increase logarithmically. However, the higher the energy the more inaccurate it is and always higher than the actual value.\n",
    "\n",
    "Few basis functions are needed to obtain accurate wavefunctions if the basis functions and exact solutions are very similar. At least 9 polynomial functions were needed, more than the cosine functions (5) to yield the correct wavefunctions. For both systems, an increase in basis improves the wavefunctions but worsens the energies.The inversion of wavefunctions may be due to a phase change rather than multiplication by a negative sign as it depends on N. The erroneous highest wave of the double well indicates that only one of the phases can be correct.\n",
    "\n",
    "The algorithms are not very fast and become slower with N. A large part of the time taken is in calculating the eigenvalues."
   ]
  },
  {
   "cell_type": "markdown",
   "metadata": {},
   "source": [
    "\n",
    "## Conclusions\n",
    "\n",
    "\n",
    "The infinite well is the simplest system and was evaluable. However, by adding a barrier, it was impossible to obtain any results unless the exact solutions were used as ansatz. If the basis chosen is suitable, for more accurate results simply use a greater number of basis. However, when tested on such a basic system as the simple double-well, a problem of inversion of the wavefunctions occurs. This should be fixed before applying the algorithm to any more complicated systems of which the solutions are not known. The algorithm also appears to be limited, as it cannot produce even an approximate solution for certain parameters, such for the double-well when Width$ \\geq $0.50 units. \n",
    "\n",
    "Overall the matrix method is successful in some respects and is a relatively simple and fast. Having bigger matrices and N or plotting more of the wavefunctions will likely slow it down considerably. The time taken for just producing the eigenvalues for the polynomials, more than doubled at one instance from 180 ± 22.1 ms to 522 ± 13.5 ms per loop when doubling N.\n",
    "\n",
    "The method could be useful when the exact solutions are not known, but the basis functions must be very good ansatz. It could also be easily adapted to work with complex basis by taking the complex conjugate of the first ($i^\\text{th}$) basis when creating the matrices. For a more quantitative analysis the basis can be normalised and a curve can be fitted to the energy values, so that both could be compared with the analytical solutions. "
   ]
  },
  {
   "cell_type": "markdown",
   "metadata": {},
   "source": [
    "## References\n",
    "\n",
    "[1] Okock P. O., Burns T. $\\textit{A Matrix Method of Solving the Schrodinger Equation}$, (Tanzania, AIMS 2015).\n",
    "\n",
    "[2] Blinder S. M., $\\textit{Exact Solution for Rectangular Double-Well Potential}$ Available from: .\n",
    "http://demonstrations.wolfram.com/ExactSolutionForRectangularDoubleWellPotential/\n",
    "Wolfram Demonstrations Project (2013). [Accessed 19 Dec. 2018]\n",
    "\n",
    "[3] Chang R., $\\textit{Physical Chemistry for the Biosciences}$. (Sansalito, CA: University Science, 2005).\n",
    "\n",
    "[4] Nave R. (2000)  $\\textit{Particle in a box}$ [Image] Available from: http://hyperphysics.phy-astr.gsu.edu/hbase/quantum/pbox.html [Accessed 18 Dec. 2018]\n",
    "\n",
    "[5] scipy.linalg.eig — SciPy v1.1.0 Reference Guide [Internet]. Docs.scipy.org. 2018. Available from: https://docs.scipy.org/doc/scipy/reference/generated/scipy.linalg.eig.html [Accessed 20 Dec. 2018]\n",
    "\n",
    "[6] Chemistry Stack Exchange (2018) [Image]. Available from: https://chemistry.stackexchange.com/questions/85447/does-possibility-of-tunneling-influence-ground-state-energy-of-pib-with-and-with [Accessed 23 Dec. 2018].\n",
    "\n",
    "[7] ipywidgets.interact - Jupyter Widgets[Internet] Available from: https://ipywidgets.readthedocs.io/en/stable/examples/Using%20Interact.html [Accessed 3 Jan. 2019]"
   ]
  }
 ],
 "metadata": {
  "kernelspec": {
   "display_name": "Python 3",
   "language": "python",
   "name": "python3"
  },
  "language_info": {
   "codemirror_mode": {
    "name": "ipython",
    "version": 3
   },
   "file_extension": ".py",
   "mimetype": "text/x-python",
   "name": "python",
   "nbconvert_exporter": "python",
   "pygments_lexer": "ipython3",
   "version": "3.7.0"
  }
 },
 "nbformat": 4,
 "nbformat_minor": 2
}
