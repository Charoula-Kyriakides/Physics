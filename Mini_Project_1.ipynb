{
 "cells": [
  {
   "cell_type": "markdown",
   "metadata": {},
   "source": [
    "# Investigating the effectiveness and efficiency of the Bisection, Regula-Falsi and Newton-Raphson root finding algorithms"
   ]
  },
  {
   "cell_type": "markdown",
   "metadata": {
    "collapsed": true
   },
   "source": [
    "## Bisection\n",
    "The bisection algorithm is the simplest but was found to be the most reliable; almost always guaranteed to converge to a correct root of a function (f) if f is continuous on the interval (a, b) and f(a) and f(b) have opposite signs. It does not encounter 'divide by zero' errors and will not loop indefinitely.\n",
    "\n",
    "However, if the range is large enough, it is possible to converge to a value that is not a root [(e.g. [$j(x)=x^3+47x^2 -148x +90 $](#Bisection-method-evaluated-with-different-parameters),bounds=(0,300) returns a false value of 300 , as it skips over the root when halving the range. Similarly, if there are two roots in interval, it will converge to either one, (e.g. [$l(x)=cos(x)$](#Bisection-method-evaluated-with-different-parameters) with interval (-2,2), it converges to the negative root. \n",
    "\n",
    "The absolute error is [halved](#Bisection-method-test-of-convergence) at each step so the method converges linearly, which can be comparatively slow, but the number of iterations taken to converge is found to be around 27 if the range chosen is small enough (~1)."
   ]
  },
  {
   "cell_type": "markdown",
   "metadata": {
    "collapsed": true
   },
   "source": [
    "## Regula-Falsi\n",
    "    \n",
    "Unlike the bisection algorithm, the range in Regula-Falsi (R-F) is not guaranteed to tend to zero and the number of iterations may be large.  This is because a and b are such that f(a) and f(b) have opposite signs, and at each step, one of the endpoints will get closer to a root. If f is of constant sign in the interval, then one endpoint will remain constant for all succeeding iterations while the converging endpoint will change.  So to test whether a root is found, the value of f at both endpoints was [checked](#Regula-Falsi:-test-of-convergence). This is also shown when using the function [$g(x) = x^8-2x-1$](#Graphs-of-functions-used-to-test-algorithms) with the initial bounds (1,2). The left end, 1, is never replaced and hence the range decreases very slowly.\n",
    "\n",
    "Furthermore, it is possible for R-F to converge to a point where the limit of the function is zero, even though at that point the function may have another value or may be undefined. An example of this phenomenon occurs when using [$z(x) = |x| – x^2$](#Regula-Falsi-method-evaluated-with-different-parameters) (true roots at -1,0,1), with the initial bounds (-0.5, 3.0). When the curve is very steep, and there is no root within the range, there is also a convergence to a false root; after a great number of iterations, as in $n(x)=(sec x)^2-1$ in the interval (0.5,1.5)."
   ]
  },
  {
   "cell_type": "markdown",
   "metadata": {
    "collapsed": false
   },
   "source": [
    "## Newton-Raphson\n",
    "\n",
    "The smooth and continuous curve [$f(x)=x^2 -2 $](#Newton-Raphson-Evaluations) was evaluated using different initial guesses, showing that the Newton-Raphson (N-R) algorithm always converges to a root for 'simple' curves. It was also found that the sign of the guess could determine the sign of the root found and that N-R is the fastest method, when it does not encounter problems; only needing 5-7 iterations when the guess is of the same magnitude as the root. Even when the guess was much further away from the root, the rate of convergence is relatively fast. Such as when the difference was of magnitude 5 and the number of iterations increased to 21. \n",
    "\n",
    "Although the N-R method converges fastest, it is at a disadvantage when encountering division by, or a number near zero. When the derivative is zero, such as at [$f'(0)$](#Zero-Division-Error) the method terminates due to 'division by zero'. Division by a near-zero number will give a large magnitude for the next value; the smaller the initial number the larger the value it will converge to. This was shown when evaluating [$l(x)=cos(x)$](#Newton-Raphson-Evaluations) at increasingly smaller values; as the magnitude of the guess decreased, the magnitude at which it converged increased.\n",
    "\n",
    "For a curve, such as tan(x), that has points which the function and its derivative are undefined, the guess chosen must be very close to the root. A difference of ~0.5 causes the algorithm to diverge to infinity and cause an [overflow runtime error](#Overflow).\n",
    "\n",
    "Another problem occurs if at the root there is an inflection point, where the sign of the gradient remains the same on either side, but the sign of the function changes. This causes N-R to switch between a positive and a negative point indefinitely if the initial value is relatively small. If the initial value is very large, N-R overshoots and diverges from the root. This is shown when evaluating the function [$mu(x) = tan(x)-x$](#Running-indefinitely), where the algorithm runs indefinitely for any starting value."
   ]
  },
  {
   "cell_type": "markdown",
   "metadata": {
    "collapsed": true
   },
   "source": [
    "## Improvements\n",
    "\n",
    "In order to avoid loss of precision when the difference of two numbers is very small, such as for the function $m(x)=tan(x)-x$\n",
    "the Taylor expansion can be utilised. Similarly, for N-R, the Central Difference method (CD) with optimal step size 1e-3 (as found in Lab5) can be used to find derivatives.\n",
    "\n",
    "The R-F method can be improved by checking if one of the points is unchanged twice successively, and if so, changing the point to the average of the two points, as is done in the bisection method.\n",
    "\n",
    "The three methods can be combined in order to converge to a correct root quickly.\n",
    "Begining with N-R, and checking if it converges; then switching to R-F if not. If R-F is not converging as well as bisection would, switch to bisection, which will always converge at a practical rate. When the change in f(x) and x has become very small, and f'(x) is not near zero, switch again to Newton's method as it will most likely converge."
   ]
  },
  {
   "cell_type": "markdown",
   "metadata": {},
   "source": [
    "## Importing relevant functions from libraries"
   ]
  },
  {
   "cell_type": "code",
   "execution_count": 1,
   "metadata": {
    "collapsed": false
   },
   "outputs": [],
   "source": [
    "%matplotlib inline\n",
    "from pylab import plot,figure,grid, linspace, figure, cos, sin, tan, exp, logspace, loglog, xlabel, ylabel, title, legend\n",
    "import numpy as np\n",
    "import matplotlib.pyplot as plt\n",
    "from scipy import diff"
   ]
  },
  {
   "cell_type": "markdown",
   "metadata": {},
   "source": [
    "## Bisection algorithms"
   ]
  },
  {
   "cell_type": "code",
   "execution_count": 2,
   "metadata": {
    "collapsed": false
   },
   "outputs": [],
   "source": [
    "def bisection_step(f, bounds):\n",
    "    \"\"\"Performs one step of the bisection algorithm to locate a root of f, \n",
    "    and returns a smaller range in which the root is found.\"\"\"\n",
    "    lower, upper = bounds      \n",
    "    middle = (lower + upper)/2\n",
    "    \n",
    "    if f(lower)*f(middle)<0:\n",
    "        return(lower,middle)\n",
    "    else:\n",
    "        return (middle,upper)\n",
    "    \n",
    "def bisection_iteration(function,bounds):\n",
    "    \"Performs several steps of the bisection method until a specified accuracy is reached\"\n",
    "    counter=0 #step counter\n",
    "    lower,upper=bounds\n",
    "    while upper-lower >1e-8:\n",
    "        lower,upper=bisection_step(function,(lower,upper))\n",
    "        counter+=1\n",
    "    bounds = str(bounds)[1:-1].split(',')\n",
    "    print(\"{:^15s} {:>5s} {:>5s}  {:10d} {:17.5e}\".format(str(function)[10:12], bounds[0],bounds[1], counter, lower))"
   ]
  },
  {
   "cell_type": "markdown",
   "metadata": {},
   "source": [
    "## Regula Falsi algorithms"
   ]
  },
  {
   "cell_type": "code",
   "execution_count": 3,
   "metadata": {
    "collapsed": false
   },
   "outputs": [],
   "source": [
    "def regula_falsi_step(function, bounds):\n",
    "    \"\"\"Performs one step of the regula falsi algorithm to locate a root of f, \n",
    "    and returns a smaller range in which the root is found.\"\"\"\n",
    "    \n",
    "    lower, upper = bounds\n",
    "\n",
    "    middle=(lower*function(upper)-upper*function(lower))/(function(upper)-function(lower))\n",
    "    \n",
    "    if function(lower)*function(middle)<0:\n",
    "        return (lower, middle)\n",
    "    else:\n",
    "        return (middle,upper)\n",
    "    \n",
    "def iterate_regula_falsi(function,bounds):\n",
    "    \"\"\"Performs several steps of the regula falsi algorithm until a specified accuracy is reached.\"\"\"\n",
    "    counter=0 # step counter\n",
    "    lower, upper = bounds \n",
    "    while abs(function(lower))>1e-8 and abs(function(upper))>1e-8:\n",
    "        lower, upper = regula_falsi_step(function,(lower,upper))\n",
    "        counter+=1\n",
    "    bounds = str(bounds)[1:-1].split(',')\n",
    "    print(\"{:^15s} {:>5s} {:>5s}  {:10d} {:17.5e}\".format(str(function)[10:12], bounds[0],bounds[1], counter, lower))"
   ]
  },
  {
   "cell_type": "markdown",
   "metadata": {},
   "source": [
    "## Newton-Raphson algorithms"
   ]
  },
  {
   "cell_type": "code",
   "execution_count": 4,
   "metadata": {
    "collapsed": false
   },
   "outputs": [],
   "source": [
    "def newton_step(f, fp, x0):\n",
    "    \"\"\"Perform one step of the Newton-Raphson algorithm.\"\"\"\n",
    "    # x0 = initial guess, f = function, fp = derivative of function\n",
    "    return x0 - f(x0)/fp(x0)\n",
    "\n",
    "def newton_iteration(f,fp,x0):\n",
    "    \"\"\"\"Perfoms several steps of the Newton-Raphson algorith until a specific accuracy is reached\"\"\"\n",
    "    count=1\n",
    "    x=1\n",
    "    xn=newton_step(f,fp,x0)\n",
    "    while abs(x-xn) > 1e-8:\n",
    "        count +=1\n",
    "        a=xn\n",
    "        xn=newton_step(f,fp,xn)\n",
    "        x=a\n",
    "    print(\"{:^10s} {:15.5e}  {:13d} {:17.5e}\".format(str(f)[10:12], x0, count, xn))"
   ]
  },
  {
   "cell_type": "markdown",
   "metadata": {},
   "source": [
    "## Functions used to test algorithms"
   ]
  },
  {
   "cell_type": "code",
   "execution_count": 5,
   "metadata": {
    "collapsed": false
   },
   "outputs": [],
   "source": [
    "#function e.g. g, and its derivative e.g. gp\n",
    "def f(x):\n",
    "    return x**2 - 2\n",
    "def fp(x):\n",
    "    return 2*x\n",
    "\n",
    "def g(x):                              \n",
    "    return x**8-2*x -1\n",
    "def gp(x):\n",
    "    return 8*x**7-2\n",
    "\n",
    "def h(x):\n",
    "    return (x-1)/(x-2)\n",
    "def j(x):\n",
    "    return x**3+47*x**2 -148*x +90\n",
    "def k(x):\n",
    "    return x**4 -8*x**3 +22*x**2 -24*x +9\n",
    "\n",
    "def l(x):\n",
    "    return cos(x)\n",
    "def lp(x):\n",
    "    return -sin(x)\n",
    "\n",
    "def m(x):\n",
    "    return tan(x)-x\n",
    "def n(x): # mp derivative of m(x)\n",
    "    return (1/cos(x))**2 -1\n",
    "\n",
    "def mu(x):\n",
    "    if x>=0:\n",
    "        return np.sqrt(x)\n",
    "    else:\n",
    "        return -np.sqrt(-x)\n",
    "mu = np.vectorize(mu)    # vectorise function and its derivative in order for arrays to be evaluated\n",
    "\n",
    "def mup(x):\n",
    "    if x>=0:\n",
    "        return 1/2*np.sqrt(x)\n",
    "    else:\n",
    "        return 1/2*np.sqrt(-x)\n",
    "    \n",
    "mup = np.vectorize(mup)\n",
    "\n",
    "def z(x):\n",
    "    return abs(x) - x**2 "
   ]
  },
  {
   "cell_type": "markdown",
   "metadata": {
    "collapsed": true
   },
   "source": [
    "## Graphs of functions used to test algorithms"
   ]
  },
  {
   "cell_type": "code",
   "execution_count": 6,
   "metadata": {
    "collapsed": false
   },
   "outputs": [
    {
     "data": {
      "image/png": "[encoded data removed]",
      "text/plain": [
       "<matplotlib.figure.Figure at 0xe148620c50>"
      ]
     },
     "metadata": {},
     "output_type": "display_data"
    }
   ],
   "source": [
    "# plotted graphs\n",
    "\n",
    "x = np.linspace(-4.0, 5.0)\n",
    "\n",
    "y=[g(x),h(x),j(x),k(x),l(x),m(x),mu(x), z(x)]\n",
    "\n",
    "title=\"g h j k l m mu z\".split(\" \")\n",
    "\n",
    "fig = plt.figure(figsize=(12,12))\n",
    "\n",
    "\n",
    "for i in range(1,9):\n",
    "    plt.subplot(4,2,i)\n",
    "    plt.plot(x,0*x,'k-')\n",
    "    plt.plot(x,y[i-1])\n",
    "    plt.title(title[i-1])\n",
    "    grid()\n",
    "plt.tight_layout()"
   ]
  },
  {
   "cell_type": "markdown",
   "metadata": {},
   "source": [
    "### Bisection method: test of convergence"
   ]
  },
  {
   "cell_type": "code",
   "execution_count": 7,
   "metadata": {
    "collapsed": false
   },
   "outputs": [
    {
     "name": "stdout",
     "output_type": "stream",
     "text": [
      "     lower            upper         difference   \n",
      " 0.000000000000   2.500000000000   2.500000000000\n",
      " 1.250000000000   2.500000000000   1.250000000000\n",
      " 1.250000000000   1.875000000000   0.625000000000\n",
      " 1.250000000000   1.562500000000   0.312500000000\n",
      " 1.406250000000   1.562500000000   0.156250000000\n",
      " 1.406250000000   1.484375000000   0.078125000000\n",
      " 1.406250000000   1.445312500000   0.039062500000\n",
      " 1.406250000000   1.425781250000   0.019531250000\n",
      " 1.406250000000   1.416015625000   0.009765625000\n",
      " 1.411132812500   1.416015625000   0.004882812500\n",
      " 1.413574218750   1.416015625000   0.002441406250\n",
      " 1.413574218750   1.414794921875   0.001220703125\n",
      " 1.414184570312   1.414794921875   0.000610351562\n",
      " 1.414184570312   1.414489746094   0.000305175781\n",
      " 1.414184570312   1.414337158203   0.000152587891\n",
      " 1.414184570312   1.414260864258   0.000076293945\n",
      " 1.414184570312   1.414222717285   0.000038146973\n",
      " 1.414203643799   1.414222717285   0.000019073486\n",
      " 1.414213180542   1.414222717285   0.000009536743\n",
      " 1.414213180542   1.414217948914   0.000004768372\n"
     ]
    }
   ],
   "source": [
    "print(\"{:^15}  {:^15}  {:^15}\".format(\"lower\", \"upper\", \"difference\"))\n",
    "\n",
    "lower, upper = 0, 5 # Starting range\n",
    "for i in range(20):\n",
    "    lower, upper = bisection_step(f, (lower, upper)) \n",
    "    print(\"{:15.12f}  {:15.12f}  {:15.12f}\".format(lower, upper, upper-lower))"
   ]
  },
  {
   "cell_type": "markdown",
   "metadata": {},
   "source": [
    "### Bisection method evaluated with different parameters"
   ]
  },
  {
   "cell_type": "code",
   "execution_count": 17,
   "metadata": {
    "collapsed": false
   },
   "outputs": [
    {
     "name": "stdout",
     "output_type": "stream",
     "text": [
      "  Function       Bounds            Count          Root       \n",
      "\n",
      "      g             1     2          27       1.16200e+00\n",
      "      g           1.1   1.2          24       1.16200e+00\n",
      "      g             0   200          35       1.16200e+00\n",
      "      g           -20     0          31      -4.98105e-01\n",
      "      g          -200     0          35      -4.98105e-01\n",
      "      h           0.5   1.5          27       1.50000e+00\n",
      "      h             1     2          27       2.00000e+00\n",
      "      j             0   300          35       3.00000e+02\n",
      "      j             0     1          27       8.31623e-01\n",
      "      j          -400     4          36      -4.99962e+01\n",
      "      k            -1   1.5          28       1.50000e+00\n",
      "      k            -4     4          30       4.00000e+00\n",
      "      l            -2     2          29      -1.57080e+00\n",
      "      l           -20    20          32       7.85398e+00\n",
      "      n           0.5   1.5          27       1.50000e+00\n",
      "      n            -2  -1.4          26      -1.40000e+00\n",
      "      n           0.5   1.5          27       1.50000e+00\n"
     ]
    }
   ],
   "source": [
    "#Run bisection and regula falsi algorithms for functions g-n\n",
    "print(\"{:^12} {:^15}    {:^12} {:^15} \".format(\"Function\", \"Bounds\" , \"Count\", \"Root\")+\"\\n\")\n",
    "\n",
    "#g\n",
    "bisection_iteration(g,(1,2))\n",
    "bisection_iteration(g,(1.1,1.2))\n",
    "bisection_iteration(g,(0,200))\n",
    "bisection_iteration(g,(-20,0))\n",
    "bisection_iteration(g,(-200,0))\n",
    "\n",
    "bisection_iteration(h,(0.5,1.5))\n",
    "bisection_iteration(h,(1,2))\n",
    "#bisection_iteration(h,(0,4)) # Division by zero error\n",
    " \n",
    "#j\n",
    "bisection_iteration(j,(0,300))\n",
    "bisection_iteration(j,(0,1))\n",
    "bisection_iteration(j,(-400,4))\n",
    "\n",
    "#k\n",
    "bisection_iteration(k,(-1,1.5))\n",
    "bisection_iteration(k,(-4,4))\n",
    "\n",
    "#l\n",
    "bisection_iteration(l,(-2,2))\n",
    "bisection_iteration(l,(-20,20))\n",
    "\n",
    "#n\n",
    "bisection_iteration(n,(0.5,1.5))\n",
    "bisection_iteration(n,(-2,-1.4))\n",
    "bisection_iteration(n,(0.5,1.5))"
   ]
  },
  {
   "cell_type": "markdown",
   "metadata": {},
   "source": [
    "[go to top of page](#Investigating-the-effectiveness-and-efficiency-of-the-Bisection,-Regula-Falsi-and-Newton-Raphson-root-finding-algorithms)"
   ]
  },
  {
   "cell_type": "markdown",
   "metadata": {},
   "source": [
    "## Regula-Falsi: test of convergance"
   ]
  },
  {
   "cell_type": "code",
   "execution_count": 9,
   "metadata": {
    "collapsed": false
   },
   "outputs": [
    {
     "name": "stdout",
     "output_type": "stream",
     "text": [
      "     lower            upper         difference   \n",
      " 0.400000000000   5.000000000000   4.600000000000\n",
      " 0.740740740741   5.000000000000   4.259259259259\n",
      " 0.993548387097   5.000000000000   4.006451612903\n",
      " 1.162540365985   5.000000000000   3.837459634015\n",
      " 1.267772925764   5.000000000000   3.732227074236\n",
      " 1.330435024942   5.000000000000   3.669564975058\n",
      " 1.366758380841   5.000000000000   3.633241619159\n",
      " 1.387486594558   5.000000000000   3.612513405442\n",
      " 1.399209664159   5.000000000000   3.600790335841\n",
      " 1.405806153091   5.000000000000   3.594193846909\n",
      " 1.409507335950   5.000000000000   3.590492664050\n",
      " 1.411580673136   5.000000000000   3.588419326864\n",
      " 1.412741073918   5.000000000000   3.587258926082\n",
      " 1.413390196971   5.000000000000   3.586609803029\n",
      " 1.413753211077   5.000000000000   3.586246788923\n",
      " 1.413956190226   5.000000000000   3.586043809774\n",
      " 1.414069675897   5.000000000000   3.585930324103\n",
      " 1.414133122621   5.000000000000   3.585866877379\n",
      " 1.414168592965   5.000000000000   3.585831407035\n",
      " 1.414188422608   5.000000000000   3.585811577392\n",
      " 1.414199508244   5.000000000000   3.585800491756\n",
      " 1.414205705570   5.000000000000   3.585794294430\n",
      " 1.414209170119   5.000000000000   3.585790829881\n",
      " 1.414211106936   5.000000000000   3.585788893064\n",
      " 1.414212189691   5.000000000000   3.585787810309\n",
      " 1.414212794992   5.000000000000   3.585787205008\n",
      " 1.414213133378   5.000000000000   3.585786866622\n",
      " 1.414213322549   5.000000000000   3.585786677451\n",
      " 1.414213428302   5.000000000000   3.585786571698\n",
      " 1.414213487422   5.000000000000   3.585786512578\n",
      " 1.414213520473   5.000000000000   3.585786479527\n",
      " 1.414213538949   5.000000000000   3.585786461051\n",
      " 1.414213549278   5.000000000000   3.585786450722\n",
      " 1.414213555053   5.000000000000   3.585786444947\n",
      " 1.414213558281   5.000000000000   3.585786441719\n",
      " 1.414213560085   5.000000000000   3.585786439915\n"
     ]
    }
   ],
   "source": [
    "print(\"{:^15}  {:^15}  {:^15}\".format(\"lower\", \"upper\", \"difference\"))\n",
    "lower, upper = 0, 5 # Same starting range as for Bisection\n",
    "while abs(f(lower))>1e-8 and abs(f(upper))>1e-8:\n",
    "        lower, upper = regula_falsi_step(f,(lower,upper))\n",
    "        print(\"{:15.12f}  {:15.12f}  {:15.12f}\".format(lower, upper, upper-lower))"
   ]
  },
  {
   "cell_type": "markdown",
   "metadata": {},
   "source": [
    "## Regula-Falsi method evaluated with different parameters"
   ]
  },
  {
   "cell_type": "code",
   "execution_count": 10,
   "metadata": {
    "collapsed": false
   },
   "outputs": [
    {
     "name": "stdout",
     "output_type": "stream",
     "text": [
      "  Function       Bounds            Count          Root       \n",
      "\n",
      "      g             1   1.2          10       1.16200e+00\n",
      "      g             1   2.5        1084       1.16200e+00\n",
      "      h           0.9   1.1           7       1.00000e+00\n",
      "      h             0   1.5          27       1.00000e+00\n",
      "      z          -0.5   3.0          28      -5.39813e-09\n",
      "      j           0.5     1          13       5.00000e-01\n",
      "      j             2   2.5          14       2.16461e+00\n",
      "      j           0.5   2.5          16       2.16461e+00\n",
      "      j          -100   200         415      -4.99962e+01\n",
      "      k           0.5   1.5        5626       1.00005e+00\n",
      "      k           0.5   3.2        4841       3.00005e+00\n",
      "      k           2.8   3.2        4842       3.00005e+00\n",
      "      n           0.5   1.5     1326129       1.00000e-04\n",
      "      z          -0.5   3.0          28      -5.39813e-09\n"
     ]
    }
   ],
   "source": [
    "print(\"{:^12} {:^15}    {:^12} {:^15} \".format(\"Function\", \"Bounds\" , \"Count\", \"Root\")+\"\\n\")\n",
    "#g\n",
    "iterate_regula_falsi(g,(1,1.2))\n",
    "iterate_regula_falsi(g,(1,2.5))\n",
    "\n",
    "#h\n",
    "iterate_regula_falsi(h,(0.9,1.1))\n",
    "iterate_regula_falsi(h,(0,1.5))\n",
    "\n",
    "#i\n",
    "iterate_regula_falsi(z,(-0.5, 3.0))\n",
    "\n",
    "#j\n",
    "iterate_regula_falsi(j,(0.5,1))\n",
    "iterate_regula_falsi(j,(2,2.5))\n",
    "iterate_regula_falsi(j,(0.5,2.5))\n",
    "iterate_regula_falsi(j,(-100,200))\n",
    "\n",
    "#k\n",
    "iterate_regula_falsi(k,(0.5,1.5))\n",
    "iterate_regula_falsi(k,(0.5,3.2))\n",
    "iterate_regula_falsi(k,(2.8,3.2))\n",
    "\n",
    "#n\n",
    "iterate_regula_falsi(n,(0.5,1.5))\n",
    "\n",
    "#z\n",
    "iterate_regula_falsi(z,((-0.5, 3.0)))\n"
   ]
  },
  {
   "cell_type": "markdown",
   "metadata": {},
   "source": [
    "### Regula-falsi fails to converge as the gradient at some points is zero"
   ]
  },
  {
   "cell_type": "code",
   "execution_count": 11,
   "metadata": {
    "collapsed": false
   },
   "outputs": [],
   "source": [
    "# iterate_regula_falsi(k,(2.5,40)) Runs indefinitely "
   ]
  },
  {
   "cell_type": "markdown",
   "metadata": {},
   "source": [
    "[go to top of page](#Investigating-the-effectiveness-and-efficiency-of-the-Bisection,-Regula-Falsi-and-Newton-Raphson-root-finding-algorithms)"
   ]
  },
  {
   "cell_type": "markdown",
   "metadata": {},
   "source": [
    "# Newton-Raphson Evaluations"
   ]
  },
  {
   "cell_type": "code",
   "execution_count": 12,
   "metadata": {
    "collapsed": false
   },
   "outputs": [
    {
     "name": "stdout",
     "output_type": "stream",
     "text": [
      "  Function        Guess            Count          Root       \n",
      "\n",
      "    f          7.00000e+00              7       1.41421e+00\n",
      "    f          1.00000e+05             21       1.41421e+00\n",
      "    f         -1.00000e+00              5      -1.41421e+00\n",
      "    m          4.50000e+00              4       4.49341e+00\n",
      "    m          8.00000e+00              7       1.09041e+01\n",
      "    l          1.00000e-01              6       1.09956e+01\n",
      "    l          1.00000e-02              6       9.89602e+01\n",
      "    l          2.00000e-03              7       5.01084e+02\n",
      "    l          4.00000e-10              4       2.50000e+09\n",
      "    l          4.00000e-20              2       2.50000e+19\n"
     ]
    }
   ],
   "source": [
    "print(\"{:^12} {:^15}    {:^12} {:^15} \".format(\"Function\", \"Guess\" , \"Count\", \"Root\")+\"\\n\")\n",
    "\n",
    "#f\n",
    "newton_iteration(f,fp,7)\n",
    "newton_iteration(f,fp,10**5)\n",
    "newton_iteration(f,fp,-1)\n",
    "#m\n",
    "newton_iteration(m,n,4.5) \n",
    "newton_iteration(m,n,8)\n",
    "#l\n",
    "newton_iteration(l, lp, 1e-1)\n",
    "newton_iteration(l, lp, 1e-2)\n",
    "newton_iteration(l, lp, 2e-3)\n",
    "newton_iteration(l, lp, 4e-10)\n",
    "newton_iteration(l, lp, 4e-20)"
   ]
  },
  {
   "cell_type": "markdown",
   "metadata": {},
   "source": [
    "## Errors and warnings when using N-R"
   ]
  },
  {
   "cell_type": "markdown",
   "metadata": {},
   "source": [
    "### Running indefinitely"
   ]
  },
  {
   "cell_type": "code",
   "execution_count": 34,
   "metadata": {
    "collapsed": false
   },
   "outputs": [
    {
     "name": "stdout",
     "output_type": "stream",
     "text": [
      "          -2.00\n",
      "           0.00\n",
      "          -2.00\n",
      "           0.00\n",
      "          -2.00\n",
      "           0.00\n",
      "          -2.00\n",
      "           0.00\n",
      "          -2.00\n",
      "           0.00\n"
     ]
    }
   ],
   "source": [
    "\n",
    "a = 1e-10  # Starting value\n",
    "for i in range(10):\n",
    "    a = newton_step(mu, mup, a) \n",
    "    print(\"{:15.2f}\".format(a))"
   ]
  },
  {
   "cell_type": "code",
   "execution_count": 35,
   "metadata": {
    "collapsed": false
   },
   "outputs": [
    {
     "name": "stdout",
     "output_type": "stream",
     "text": [
      "          -1.00\n",
      "           1.00\n",
      "          -1.00\n",
      "           1.00\n",
      "          -1.00\n",
      "           1.00\n",
      "          -1.00\n",
      "           1.00\n",
      "          -1.00\n",
      "           1.00\n"
     ]
    }
   ],
   "source": [
    "a = 1 # Starting value\n",
    "for i in range(10):\n",
    "    a = newton_step(mu, mup, a) \n",
    "    print(\"{:15.2f}\".format(a))"
   ]
  },
  {
   "cell_type": "code",
   "execution_count": 39,
   "metadata": {
    "collapsed": false
   },
   "outputs": [
    {
     "name": "stdout",
     "output_type": "stream",
     "text": [
      "        99998.0\n",
      "        99996.0\n",
      "        99994.0\n",
      "        99992.0\n",
      "        99990.0\n",
      "        99988.0\n",
      "        99986.0\n",
      "        99984.0\n",
      "        99982.0\n",
      "        99980.0\n"
     ]
    }
   ],
   "source": [
    "a = 1e5  # Starting value\n",
    "for i in range(10):\n",
    "    a = newton_step(mu, mup, a) \n",
    "    print(\"{:15.1f}\".format(a))"
   ]
  },
  {
   "cell_type": "markdown",
   "metadata": {},
   "source": [
    "### Zero Division Error"
   ]
  },
  {
   "cell_type": "code",
   "execution_count": 16,
   "metadata": {
    "collapsed": false
   },
   "outputs": [
    {
     "ename": "ZeroDivisionError",
     "evalue": "division by zero",
     "output_type": "error",
     "traceback": [
      "\u001b[0;31m---------------------------------------------------------------------------\u001b[0m",
      "\u001b[0;31mZeroDivisionError\u001b[0m                         Traceback (most recent call last)",
      "\u001b[0;32m<ipython-input-16-54425cf3355a>\u001b[0m in \u001b[0;36m<module>\u001b[0;34m()\u001b[0m\n\u001b[0;32m----> 1\u001b[0;31m \u001b[0mnewton_iteration\u001b[0m\u001b[1;33m(\u001b[0m\u001b[0mf\u001b[0m\u001b[1;33m,\u001b[0m\u001b[0mfp\u001b[0m\u001b[1;33m,\u001b[0m\u001b[1;36m0\u001b[0m\u001b[1;33m)\u001b[0m \u001b[1;31m# algorithm produces division by zero error\u001b[0m\u001b[1;33m\u001b[0m\u001b[0m\n\u001b[0m",
      "\u001b[0;32m<ipython-input-4-789d36d394fd>\u001b[0m in \u001b[0;36mnewton_iteration\u001b[0;34m(f, fp, x0)\u001b[0m\n\u001b[1;32m      8\u001b[0m     \u001b[0mcount\u001b[0m\u001b[1;33m=\u001b[0m\u001b[1;36m1\u001b[0m\u001b[1;33m\u001b[0m\u001b[0m\n\u001b[1;32m      9\u001b[0m     \u001b[0mx\u001b[0m\u001b[1;33m=\u001b[0m\u001b[1;36m1\u001b[0m\u001b[1;33m\u001b[0m\u001b[0m\n\u001b[0;32m---> 10\u001b[0;31m     \u001b[0mxn\u001b[0m\u001b[1;33m=\u001b[0m\u001b[0mnewton_step\u001b[0m\u001b[1;33m(\u001b[0m\u001b[0mf\u001b[0m\u001b[1;33m,\u001b[0m\u001b[0mfp\u001b[0m\u001b[1;33m,\u001b[0m\u001b[0mx0\u001b[0m\u001b[1;33m)\u001b[0m\u001b[1;33m\u001b[0m\u001b[0m\n\u001b[0m\u001b[1;32m     11\u001b[0m     \u001b[1;32mwhile\u001b[0m \u001b[0mabs\u001b[0m\u001b[1;33m(\u001b[0m\u001b[0mx\u001b[0m\u001b[1;33m-\u001b[0m\u001b[0mxn\u001b[0m\u001b[1;33m)\u001b[0m \u001b[1;33m>\u001b[0m \u001b[1;36m1e-8\u001b[0m\u001b[1;33m:\u001b[0m\u001b[1;33m\u001b[0m\u001b[0m\n\u001b[1;32m     12\u001b[0m         \u001b[0mcount\u001b[0m \u001b[1;33m+=\u001b[0m\u001b[1;36m1\u001b[0m\u001b[1;33m\u001b[0m\u001b[0m\n",
      "\u001b[0;32m<ipython-input-4-789d36d394fd>\u001b[0m in \u001b[0;36mnewton_step\u001b[0;34m(f, fp, x0)\u001b[0m\n\u001b[1;32m      2\u001b[0m     \u001b[1;34m\"\"\"Perform one step of the Newton-Raphson algorithm.\"\"\"\u001b[0m\u001b[1;33m\u001b[0m\u001b[0m\n\u001b[1;32m      3\u001b[0m     \u001b[1;31m# x0 = initial guess, f = function, fp = derivative of function\u001b[0m\u001b[1;33m\u001b[0m\u001b[1;33m\u001b[0m\u001b[0m\n\u001b[0;32m----> 4\u001b[0;31m     \u001b[1;32mreturn\u001b[0m \u001b[0mx0\u001b[0m \u001b[1;33m-\u001b[0m \u001b[0mf\u001b[0m\u001b[1;33m(\u001b[0m\u001b[0mx0\u001b[0m\u001b[1;33m)\u001b[0m\u001b[1;33m/\u001b[0m\u001b[0mfp\u001b[0m\u001b[1;33m(\u001b[0m\u001b[0mx0\u001b[0m\u001b[1;33m)\u001b[0m\u001b[1;33m\u001b[0m\u001b[0m\n\u001b[0m\u001b[1;32m      5\u001b[0m \u001b[1;33m\u001b[0m\u001b[0m\n\u001b[1;32m      6\u001b[0m \u001b[1;32mdef\u001b[0m \u001b[0mnewton_iteration\u001b[0m\u001b[1;33m(\u001b[0m\u001b[0mf\u001b[0m\u001b[1;33m,\u001b[0m\u001b[0mfp\u001b[0m\u001b[1;33m,\u001b[0m\u001b[0mx0\u001b[0m\u001b[1;33m)\u001b[0m\u001b[1;33m:\u001b[0m\u001b[1;33m\u001b[0m\u001b[0m\n",
      "\u001b[0;31mZeroDivisionError\u001b[0m: division by zero"
     ]
    }
   ],
   "source": [
    "newton_iteration(f,fp,0) # algorithm produces division by zero error"
   ]
  },
  {
   "cell_type": "markdown",
   "metadata": {},
   "source": [
    "### Overflow "
   ]
  },
  {
   "cell_type": "code",
   "execution_count": 31,
   "metadata": {
    "collapsed": false
   },
   "outputs": [
    {
     "name": "stdout",
     "output_type": "stream",
     "text": [
      "    m          4.00000e+00            549               nan\n",
      "    m          7.00000e+00            521               nan\n"
     ]
    },
    {
     "name": "stderr",
     "output_type": "stream",
     "text": [
      "J:\\Physics\\ComputerWorkshop\\Anaconda3\\lib\\site-packages\\ipykernel\\__main__.py:4: RuntimeWarning: overflow encountered in double_scalars\n",
      "J:\\Physics\\ComputerWorkshop\\Anaconda3\\lib\\site-packages\\ipykernel\\__main__.py:27: RuntimeWarning: invalid value encountered in tan\n",
      "J:\\Physics\\ComputerWorkshop\\Anaconda3\\lib\\site-packages\\ipykernel\\__main__.py:29: RuntimeWarning: invalid value encountered in cos\n"
     ]
    }
   ],
   "source": [
    "newton_iteration(m,n,4) \n",
    "newton_iteration(m,n,7)"
   ]
  },
  {
   "cell_type": "markdown",
   "metadata": {},
   "source": [
    "[go to top of page](#Investigating-the-effectiveness-and-efficiency-of-the-Bisection,-Regula-Falsi-and-Newton-Raphson-root-finding-algorithms)"
   ]
  }
 ],
 "metadata": {
  "kernelspec": {
   "display_name": "Python 3",
   "language": "python",
   "name": "python3"
  },
  "language_info": {
   "codemirror_mode": {
    "name": "ipython",
    "version": 3
   },
   "file_extension": ".py",
   "mimetype": "text/x-python",
   "name": "python",
   "nbconvert_exporter": "python",
   "pygments_lexer": "ipython3",
   "version": "3.6.0"
  }
 },
 "nbformat": 4,
 "nbformat_minor": 2
}
