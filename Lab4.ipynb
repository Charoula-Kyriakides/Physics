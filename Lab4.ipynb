{
 "cells": [
  {
   "cell_type": "markdown",
   "metadata": {},
   "source": [
    "# Lab 4: Root finding (1)\n",
    "\n",
    "The first serious problem we will tackle is root finding. In this lab we'll implement two very simple algorithms, called the *bisection algorithm* and *regula falsi* (\"false position\") methods. For notes on the algorithms themselves don't forget to consult this week's cheat sheet on QM+.\n",
    "\n",
    "A reminder that **you should follow bold instructions**, evaluate cells containing code unless otherwise instructed, and stop at the checkpoints (&#9654;) to discuss your progress with a demonstrator."
   ]
  },
  {
   "cell_type": "markdown",
   "metadata": {},
   "source": [
    "# The bisection algorithm\n",
    "\n",
    "Recall that this takes as input a function $f$ and range $(l, u)$ such that $f(l)$ and $f(u)$ have opposite signs. We *bisect* the range – that is, find the middle, $m$ – and depending on the sign of $f(m)$, locate the root in either the lower half $(l, m)$ or upper half $(m, u)$ of the original range:\n",
    "\n",
    "![bisection.png](attachment:bisection.png)\n",
    "\n",
    "Let's write a function to perform one step of this algorithm. **Complete the half-written code for this function below.**"
   ]
  },
  {
   "cell_type": "code",
   "execution_count": 64,
   "metadata": {
    "collapsed": false
   },
   "outputs": [],
   "source": [
    "def bisection_step(f, bounds):\n",
    "    \"\"\"Performs one step of the bisection algorithm to locate a root of f, \n",
    "    and returns a smaller range in which the root is found.\n",
    "    \n",
    "    f: function of a single variable with a root within bounds\n",
    "    bounds: tuple of two numbers representing the range to search for the root\"\"\"\n",
    "    \n",
    "    lower, upper = bounds      # \"Unpack\" the tuple so that we can manipulate the lower and upper bound separately\n",
    "    middle = (lower + upper)/2 # Calculate the midpoint\n",
    "    \n",
    "    if f(lower)*f(middle)<0:# We want this code to run if f(l) and f(m) have opposite signs. Fill in the condition here\n",
    "        return (lower, middle)\n",
    "    else:\n",
    "        return (middle,upper) # Fill in an appropriate return value here if the condition is false"
   ]
  },
  {
   "cell_type": "markdown",
   "metadata": {},
   "source": [
    "In order to test this out, we'll need a suitable test function. Let's try a really simple one where we know the answer: $f(x) = x^2 - 4$, which of course has roots at $x = \\pm2$:"
   ]
  },
  {
   "cell_type": "code",
   "execution_count": 73,
   "metadata": {
    "collapsed": false
   },
   "outputs": [],
   "source": [
    "def f(x):\n",
    "    return x**2 - 4\n",
    "\n",
    "#bisection_step(f,(1,3))"
   ]
  },
  {
   "cell_type": "markdown",
   "metadata": {},
   "source": [
    "Just for fun, **plot this function in the range $(0,5)$.**"
   ]
  },
  {
   "cell_type": "code",
   "execution_count": 37,
   "metadata": {
    "collapsed": false
   },
   "outputs": [
    {
     "data": {
      "text/plain": [
       "[<matplotlib.lines.Line2D at 0xd6b4a36b70>]"
      ]
     },
     "execution_count": 37,
     "metadata": {},
     "output_type": "execute_result"
    },
    {
     "data": {
      "image/png": "[encoded data removed]",
      "text/plain": [
       "<matplotlib.figure.Figure at 0xd6b4999470>"
      ]
     },
     "metadata": {},
     "output_type": "display_data"
    }
   ],
   "source": [
    "%matplotlib inline\n",
    "from pylab import plot, linspace, figure\n",
    "x=linspace(0,5)\n",
    "y=f(x)\n",
    "figure()\n",
    "plot(x,y)"
   ]
  },
  {
   "cell_type": "markdown",
   "metadata": {},
   "source": [
    "**Insert an appropriate loop command** in the code below to perform 20 steps of this algorithm on our newly defined $f(x)$, starting from the range $(0,5)$ and printing out the new range at each step."
   ]
  },
  {
   "cell_type": "code",
   "execution_count": 34,
   "metadata": {
    "collapsed": false
   },
   "outputs": [
    {
     "name": "stdout",
     "output_type": "stream",
     "text": [
      "     lower            upper         difference   \n",
      " 0.000000000000   2.500000000000   2.500000000000\n",
      " 1.250000000000   2.500000000000   1.250000000000\n",
      " 1.875000000000   2.500000000000   0.625000000000\n",
      " 1.875000000000   2.187500000000   0.312500000000\n",
      " 1.875000000000   2.031250000000   0.156250000000\n",
      " 1.953125000000   2.031250000000   0.078125000000\n",
      " 1.992187500000   2.031250000000   0.039062500000\n",
      " 1.992187500000   2.011718750000   0.019531250000\n",
      " 1.992187500000   2.001953125000   0.009765625000\n",
      " 1.997070312500   2.001953125000   0.004882812500\n",
      " 1.999511718750   2.001953125000   0.002441406250\n",
      " 1.999511718750   2.000732421875   0.001220703125\n",
      " 1.999511718750   2.000122070312   0.000610351562\n",
      " 1.999816894531   2.000122070312   0.000305175781\n",
      " 1.999969482422   2.000122070312   0.000152587891\n",
      " 1.999969482422   2.000045776367   0.000076293945\n",
      " 1.999969482422   2.000007629395   0.000038146973\n",
      " 1.999988555908   2.000007629395   0.000019073486\n",
      " 1.999998092651   2.000007629395   0.000009536743\n",
      " 1.999998092651   2.000002861023   0.000004768372\n"
     ]
    }
   ],
   "source": [
    "# Print column titles (the \"^\" makes them centred; try \"<\" or \">\"!)\n",
    "print(\"{:^15}  {:^15}  {:^15}\".format(\"lower\", \"upper\", \"difference\"))\n",
    "\n",
    "l, u = 0, 5 # Starting range\n",
    "for i in range(20):         # Put in an appropriate loop here\n",
    "    # The crucial step: check you understand how this works!\n",
    "    l, u = bisection_step(f, (l, u)) \n",
    "    # This format string prints out three values, each with width 15 characters and 12 decimal places\n",
    "    print(\"{:15.12f}  {:15.12f}  {:15.12f}\".format(l, u, u-l))"
   ]
  },
  {
   "cell_type": "markdown",
   "metadata": {},
   "source": [
    "**Does the width of the range change as expected at each step? Does the algorithm converge to the known root?**\n",
    "\n",
    "**Now write another loop along the same lines, but this time stopping only when the range is smaller than a set tolerance (say $10^{-8}$). How many iterations does this take, starting from $(0, 5)$?**"
   ]
  },
  {
   "cell_type": "code",
   "execution_count": 66,
   "metadata": {
    "collapsed": false
   },
   "outputs": [
    {
     "name": "stdout",
     "output_type": "stream",
     "text": [
      "     lower            upper         difference   \n",
      " 0.000000000000   2.500000000000   2.500000000000\n",
      " 1.250000000000   2.500000000000   1.250000000000\n",
      " 1.875000000000   2.500000000000   0.625000000000\n",
      " 1.875000000000   2.187500000000   0.312500000000\n",
      " 1.875000000000   2.031250000000   0.156250000000\n",
      " 1.953125000000   2.031250000000   0.078125000000\n",
      " 1.992187500000   2.031250000000   0.039062500000\n",
      " 1.992187500000   2.011718750000   0.019531250000\n",
      " 1.992187500000   2.001953125000   0.009765625000\n",
      " 1.997070312500   2.001953125000   0.004882812500\n",
      " 1.999511718750   2.001953125000   0.002441406250\n",
      " 1.999511718750   2.000732421875   0.001220703125\n",
      " 1.999511718750   2.000122070312   0.000610351562\n",
      " 1.999816894531   2.000122070312   0.000305175781\n",
      " 1.999969482422   2.000122070312   0.000152587891\n",
      " 1.999969482422   2.000045776367   0.000076293945\n",
      " 1.999969482422   2.000007629395   0.000038146973\n",
      " 1.999988555908   2.000007629395   0.000019073486\n",
      " 1.999998092651   2.000007629395   0.000009536743\n",
      " 1.999998092651   2.000002861023   0.000004768372\n",
      " 1.999998092651   2.000000476837   0.000002384186\n",
      " 1.999999284744   2.000000476837   0.000001192093\n",
      " 1.999999880791   2.000000476837   0.000000596046\n",
      " 1.999999880791   2.000000178814   0.000000298023\n",
      " 1.999999880791   2.000000029802   0.000000149012\n",
      " 1.999999955297   2.000000029802   0.000000074506\n",
      " 1.999999992549   2.000000029802   0.000000037253\n",
      " 1.999999992549   2.000000011176   0.000000018626\n",
      " 1.999999992549   2.000000001863   0.000000009313\n",
      "\n",
      " Number of iterations = 29\n"
     ]
    }
   ],
   "source": [
    "print(\"{:^15}  {:^15}  {:^15}\".format(\"lower\", \"upper\", \"difference\"))\n",
    "n=0\n",
    "l, u = 0, 5 # Starting range\n",
    "\n",
    "    # This format string prints out three values, each with width 15 characters and 12 decimal places\n",
    "    print(\"{:15.12f}  {:15.12f}  {:15.12f}\".format(l, u, u-l)) \n",
    "\n",
    "print(\"\\n Number of iterations = {:d}\".format(n))"
   ]
  },
  {
   "cell_type": "markdown",
   "metadata": {},
   "source": [
    "&#9654; **CHECKPOINT 1**"
   ]
  },
  {
   "cell_type": "markdown",
   "metadata": {},
   "source": [
    "## *Regula falsi*\n",
    "\n",
    "This algorithm is very similar but tries to make a more sensible guess at the root than simply the midpoint of the range. Instead, we calculate the intersection point of a straight line through $(l, f(l))$ and $(u, f(u))$, which turns out to be\n",
    "$$\n",
    "m = \\frac{lf(u) - uf(l)}{f(u)-f(l)}:\n",
    "$$\n",
    "\n",
    "![regulafalsi.png](attachment:regulafalsi.png)\n",
    "\n",
    "**In the same way as above, write a function to perform one step of this algorithm.**"
   ]
  },
  {
   "cell_type": "code",
   "execution_count": 82,
   "metadata": {
    "collapsed": true
   },
   "outputs": [],
   "source": [
    "def regula_falsi_step(f, bounds):\n",
    "    \"\"\"Performs one step of the regula falsi algorithm to locate a root of f, \n",
    "    and returns a smaller range in which the root is found.\n",
    "    \n",
    "    f: function of a single variable with a root within bounds\n",
    "    bounds: tuple of two numbers representing the range to search for the root\"\"\"\n",
    "    \n",
    "    lower, upper = bounds\n",
    "    middle=(lower*f(upper)-upper*f(lower))/(f(upper)-f(lower))\n",
    "    if f(lower)*f(middle)<0:\n",
    "        return (lower, middle)\n",
    "    else:\n",
    "        return (middle,upper)"
   ]
  },
  {
   "cell_type": "code",
   "execution_count": null,
   "metadata": {
    "collapsed": false
   },
   "outputs": [],
   "source": []
  },
  {
   "cell_type": "markdown",
   "metadata": {},
   "source": [
    "Unlike the bisection algorithm, the size of the range in *regula falsi* is not guaranteed to converge to zero. So to test whether the calculation is complete, we should check whether we've found a root by checking the value of $f$ at both endpoints.\n",
    "\n",
    "**Write a loop using *regula falsi* that repeats until $|f(l)|$ or $|f(u)|$ is less than $10^{-8}$. How many iterations are needed to solve $x^2 - 4 = 0$ starting from the range $(0, 5)$? Is *regula falsi* more efficient than the bisection rule in this case?**"
   ]
  },
  {
   "cell_type": "code",
   "execution_count": 90,
   "metadata": {
    "collapsed": false
   },
   "outputs": [
    {
     "name": "stdout",
     "output_type": "stream",
     "text": [
      "     lower            upper         difference   \n",
      " 1.999999992549   2.000000001863   0.000000009313\n",
      " 1.999999992549   2.000000001863   0.000000009313\n",
      " 1.999999992549   2.000000001863   0.000000009313\n",
      " 1.999999992549   2.000000001863   0.000000009313\n",
      " 1.999999992549   2.000000001863   0.000000009313\n",
      " 1.999999992549   2.000000001863   0.000000009313\n",
      " 1.999999992549   2.000000001863   0.000000009313\n",
      " 1.999999992549   2.000000001863   0.000000009313\n",
      " 1.999999992549   2.000000001863   0.000000009313\n",
      " 1.999999992549   2.000000001863   0.000000009313\n",
      " 1.999999992549   2.000000001863   0.000000009313\n",
      " 1.999999992549   2.000000001863   0.000000009313\n",
      " 1.999999992549   2.000000001863   0.000000009313\n",
      " 1.999999992549   2.000000001863   0.000000009313\n",
      " 1.999999992549   2.000000001863   0.000000009313\n",
      " 1.999999992549   2.000000001863   0.000000009313\n",
      " 1.999999992549   2.000000001863   0.000000009313\n",
      " 1.999999992549   2.000000001863   0.000000009313\n",
      " 1.999999992549   2.000000001863   0.000000009313\n",
      " 1.999999992549   2.000000001863   0.000000009313\n",
      " 1.999999992549   2.000000001863   0.000000009313\n",
      " 1.999999992549   2.000000001863   0.000000009313\n",
      " 1.999999992549   2.000000001863   0.000000009313\n",
      " 1.999999992549   2.000000001863   0.000000009313\n",
      " 1.999999992549   2.000000001863   0.000000009313\n",
      " 1.999999992549   2.000000001863   0.000000009313\n",
      "\n",
      " Number of iterations = 26\n"
     ]
    }
   ],
   "source": [
    "n=0\n",
    "lower,upper=0,5\n",
    "print(\"{:^15}  {:^15}  {:^15}\".format(\"lower\", \"upper\", \"difference\"))\n",
    "\n",
    "while abs(f(lower))>1e-8 and abs(f(upper))>1e-8:\n",
    "    lower, upper = regula_falsi_step(f,(lower,upper))\n",
    "    print(\"{:15.12f}  {:15.12f}  {:15.12f}\".format(l, u, u-l))\n",
    "    n+=1\n",
    "\n",
    "print(\"\\n Number of iterations = {:d}\".format(n))"
   ]
  },
  {
   "cell_type": "markdown",
   "metadata": {},
   "source": [
    "▶ **CHECKPOINT 2**"
   ]
  },
  {
   "cell_type": "markdown",
   "metadata": {},
   "source": [
    "**Now explore the behaviour of each of these two methods for finding roots.** You might like to consider the following questions:\n",
    "\n",
    "- Which functions can they be applied to? \n",
    "- Can you predict how many iterations they will require? \n",
    "- Is it possible that they will not converge? \n",
    "- Is it possible that they will converge to a value that is not a root?\n",
    "- Is it possible that there is a root within the initial range that they do not find?\n",
    "\n",
    "To help your exploration, you might like to look at the following functions, although you should of course also try others that you invent yourself:\n",
    "- $g(x) = x^8 - 2x - 1$\n",
    "- $h(x) = \\dfrac{x-1}{x-2}$\n",
    "- $j(x) = x^3 + 47x^2 - 148x + 90$\n",
    "- $k(x) = x^4 - 8x^3 + 22x^2 - 24x + 9$\n",
    "\n",
    "You may want to plot these functions to help you answer the questions."
   ]
  },
  {
   "cell_type": "code",
   "execution_count": null,
   "metadata": {
    "collapsed": true
   },
   "outputs": [],
   "source": []
  },
  {
   "cell_type": "markdown",
   "metadata": {},
   "source": [
    "▶ **CHECKPOINT 3**"
   ]
  },
  {
   "cell_type": "markdown",
   "metadata": {},
   "source": [
    "## Extension\n",
    "\n",
    "You will have seen in your exploration that the bisection and *regula falsi* algorithms are complementary: they work well in different ways and in different situations. **Invent a hybrid method that implements an appropriate combination of these steps.** Can you find an algorithm that is better (say, converges faster) than either the bisection or *regula falsi* methods individually?"
   ]
  },
  {
   "cell_type": "code",
   "execution_count": null,
   "metadata": {
    "collapsed": true
   },
   "outputs": [],
   "source": []
  }
 ],
 "metadata": {
  "kernelspec": {
   "display_name": "Python 3",
   "language": "python",
   "name": "python3"
  },
  "language_info": {
   "codemirror_mode": {
    "name": "ipython",
    "version": 3
   },
   "file_extension": ".py",
   "mimetype": "text/x-python",
   "name": "python",
   "nbconvert_exporter": "python",
   "pygments_lexer": "ipython3",
   "version": "3.6.0"
  }
 },
 "nbformat": 4,
 "nbformat_minor": 2
}
