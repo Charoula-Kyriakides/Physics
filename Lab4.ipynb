{
 "cells": [
  {
   "cell_type": "markdown",
   "metadata": {},
   "source": [
    "# Lab 4: Root finding (1)\n",
    "\n",
    "The first serious problem we will tackle is root finding. In this lab we'll implement two very simple algorithms, called the *bisection algorithm* and *regula falsi* (\"false position\") methods. For notes on the algorithms themselves don't forget to consult this week's cheat sheet on QM+.\n",
    "\n",
    "A reminder that **you should follow bold instructions**, evaluate cells containing code unless otherwise instructed, and stop at the checkpoints (&#9654;) to discuss your progress with a demonstrator."
   ]
  },
  {
   "cell_type": "markdown",
   "metadata": {},
   "source": [
    "# The bisection algorithm\n",
    "\n",
    "Recall that this takes as input a function $f$ and range $(l, u)$ such that $f(l)$ and $f(u)$ have opposite signs. We *bisect* the range – that is, find the middle, $m$ – and depending on the sign of $f(m)$, locate the root in either the lower half $(l, m)$ or upper half $(m, u)$ of the original range:\n",
    "\n",
    "![bisection.png](attachment:bisection.png)\n",
    "\n",
    "Let's write a function to perform one step of this algorithm. **Complete the half-written code for this function below.**"
   ]
  },
  {
   "cell_type": "code",
   "execution_count": 6,
   "metadata": {
    "collapsed": false
   },
   "outputs": [],
   "source": [
    "def bisection_step(f, bounds):\n",
    "    \"\"\"Performs one step of the bisection algorithm to locate a root of f, \n",
    "    and returns a smaller range in which the root is found.\n",
    "    \n",
    "    f: function of a single variable with a root within bounds\n",
    "    bounds: tuple of two numbers representing the range to search for the root\"\"\"\n",
    "    \n",
    "    lower, upper = bounds      # \"Unpack\" the tuple so that we can manipulate the lower and upper bound separately\n",
    "    middle = (lower + upper)/2 # Calculate the midpoint\n",
    "    \n",
    "    if f(lower)*f(middle)<0:# We want this code to run if f(l) and f(m) have opposite signs. Fill in the condition here\n",
    "        return (lower, middle)\n",
    "    else:\n",
    "        return (middle,upper) # Fill in an appropriate return value here if the condition is false"
   ]
  },
  {
   "cell_type": "markdown",
   "metadata": {},
   "source": [
    "In order to test this out, we'll need a suitable test function. Let's try a really simple one where we know the answer: $f(x) = x^2 - 4$, which of course has roots at $x = \\pm2$:"
   ]
  },
  {
   "cell_type": "code",
   "execution_count": 5,
   "metadata": {
    "collapsed": false
   },
   "outputs": [
    {
     "ename": "NameError",
     "evalue": "name 'bisection_step' is not defined",
     "output_type": "error",
     "traceback": [
      "\u001b[0;31m---------------------------------------------------------------------------\u001b[0m",
      "\u001b[0;31mNameError\u001b[0m                                 Traceback (most recent call last)",
      "\u001b[0;32m<ipython-input-5-eb367f118199>\u001b[0m in \u001b[0;36m<module>\u001b[0;34m()\u001b[0m\n\u001b[1;32m      2\u001b[0m     \u001b[1;32mreturn\u001b[0m \u001b[0mx\u001b[0m\u001b[1;33m**\u001b[0m\u001b[1;36m2\u001b[0m \u001b[1;33m-\u001b[0m \u001b[1;36m4\u001b[0m\u001b[1;33m\u001b[0m\u001b[0m\n\u001b[1;32m      3\u001b[0m \u001b[1;33m\u001b[0m\u001b[0m\n\u001b[0;32m----> 4\u001b[0;31m \u001b[0mbisection_step\u001b[0m\u001b[1;33m(\u001b[0m\u001b[0mf\u001b[0m\u001b[1;33m,\u001b[0m\u001b[1;33m(\u001b[0m\u001b[1;36m1\u001b[0m\u001b[1;33m,\u001b[0m\u001b[1;36m3\u001b[0m\u001b[1;33m)\u001b[0m\u001b[1;33m)\u001b[0m\u001b[1;33m\u001b[0m\u001b[0m\n\u001b[0m",
      "\u001b[0;31mNameError\u001b[0m: name 'bisection_step' is not defined"
     ]
    }
   ],
   "source": [
    "def f(x):\n",
    "    return x**2 - 4\n",
    "\n",
    "bisection_step(f,(1,3))"
   ]
  },
  {
   "cell_type": "markdown",
   "metadata": {},
   "source": [
    "Just for fun, **plot this function in the range $(0,5)$.**"
   ]
  },
  {
   "cell_type": "code",
   "execution_count": 19,
   "metadata": {
    "collapsed": false
   },
   "outputs": [
    {
     "data": {
      "text/plain": [
       "[<matplotlib.lines.Line2D at 0x8692bb3048>]"
      ]
     },
     "execution_count": 19,
     "metadata": {},
     "output_type": "execute_result"
    },
    {
     "data": {
      "image/png": "[encoded data removed]",
      "text/plain": [
       "<matplotlib.figure.Figure at 0x869a5cb1d0>"
      ]
     },
     "metadata": {},
     "output_type": "display_data"
    }
   ],
   "source": [
    "%matplotlib inline\n",
    "from pylab import plot, linspace, figure\n",
    "x=linspace(0,5)\n",
    "y=f(x)\n",
    "figure()\n",
    "plot(x,y)"
   ]
  },
  {
   "cell_type": "markdown",
   "metadata": {},
   "source": [
    "**Insert an appropriate loop command** in the code below to perform 20 steps of this algorithm on our newly defined $f(x)$, starting from the range $(0,5)$ and printing out the new range at each step."
   ]
  },
  {
   "cell_type": "code",
   "execution_count": 24,
   "metadata": {
    "collapsed": false
   },
   "outputs": [
    {
     "name": "stdout",
     "output_type": "stream",
     "text": [
      "     lower            upper         difference   \n",
      " 0.000000000000   2.500000000000   2.500000000000\n",
      " 1.250000000000   2.500000000000   1.250000000000\n",
      " 1.875000000000   2.500000000000   0.625000000000\n",
      " 1.875000000000   2.187500000000   0.312500000000\n",
      " 1.875000000000   2.031250000000   0.156250000000\n",
      " 1.953125000000   2.031250000000   0.078125000000\n",
      " 1.992187500000   2.031250000000   0.039062500000\n",
      " 1.992187500000   2.011718750000   0.019531250000\n",
      " 1.992187500000   2.001953125000   0.009765625000\n",
      " 1.997070312500   2.001953125000   0.004882812500\n",
      " 1.999511718750   2.001953125000   0.002441406250\n",
      " 1.999511718750   2.000732421875   0.001220703125\n",
      " 1.999511718750   2.000122070312   0.000610351562\n",
      " 1.999816894531   2.000122070312   0.000305175781\n",
      " 1.999969482422   2.000122070312   0.000152587891\n",
      " 1.999969482422   2.000045776367   0.000076293945\n",
      " 1.999969482422   2.000007629395   0.000038146973\n",
      " 1.999988555908   2.000007629395   0.000019073486\n",
      " 1.999998092651   2.000007629395   0.000009536743\n",
      " 1.999998092651   2.000002861023   0.000004768372\n"
     ]
    }
   ],
   "source": [
    "# Print column titles (the \"^\" makes them centred; try \"<\" or \">\"!)\n",
    "print(\"{:^15}  {:^15}  {:^15}\".format(\"lower\", \"upper\", \"difference\"))\n",
    "\n",
    "l, u = 0, 5 # Starting range\n",
    "for i in range(20):         # Put in an appropriate loop here\n",
    "    # The crucial step: check you understand how this works!\n",
    "    l, u = bisection_step(f, (l, u)) \n",
    "    # This format string prints out three values, each with width 15 characters and 12 decimal places\n",
    "    print(\"{:15.12f}  {:15.12f}  {:15.12f}\".format(l, u, u-l))"
   ]
  },
  {
   "cell_type": "markdown",
   "metadata": {},
   "source": [
    "**Does the width of the range change as expected at each step? Does the algorithm converge to the known root?**\n",
    "\n",
    "**Now write another loop along the same lines, but this time stopping only when the range is smaller than a set tolerance (say $10^{-8}$). How many iterations does this take, starting from $(0, 5)$?**"
   ]
  },
  {
   "cell_type": "code",
   "execution_count": 17,
   "metadata": {
    "collapsed": false
   },
   "outputs": [
    {
     "name": "stdout",
     "output_type": "stream",
     "text": [
      "     lower            upper         difference   \n"
     ]
    },
    {
     "ename": "NameError",
     "evalue": "name 'f' is not defined",
     "output_type": "error",
     "traceback": [
      "\u001b[0;31m---------------------------------------------------------------------------\u001b[0m",
      "\u001b[0;31mNameError\u001b[0m                                 Traceback (most recent call last)",
      "\u001b[0;32m<ipython-input-17-4d89868df6e8>\u001b[0m in \u001b[0;36m<module>\u001b[0;34m()\u001b[0m\n\u001b[1;32m      5\u001b[0m     \u001b[1;31m# This format string prints out three values, each with width 15 characters and 12 decimal places\u001b[0m\u001b[1;33m\u001b[0m\u001b[1;33m\u001b[0m\u001b[0m\n\u001b[1;32m      6\u001b[0m \u001b[1;32mwhile\u001b[0m \u001b[0mu\u001b[0m\u001b[1;33m-\u001b[0m\u001b[0ml\u001b[0m \u001b[1;33m>\u001b[0m\u001b[1;36m1e-8\u001b[0m\u001b[1;33m:\u001b[0m\u001b[1;33m\u001b[0m\u001b[0m\n\u001b[0;32m----> 7\u001b[0;31m     \u001b[0ml\u001b[0m\u001b[1;33m,\u001b[0m\u001b[0mu\u001b[0m\u001b[1;33m=\u001b[0m\u001b[0mbisection_step\u001b[0m\u001b[1;33m(\u001b[0m\u001b[0mf\u001b[0m\u001b[1;33m,\u001b[0m\u001b[1;33m(\u001b[0m\u001b[0ml\u001b[0m\u001b[1;33m,\u001b[0m\u001b[0mu\u001b[0m\u001b[1;33m)\u001b[0m\u001b[1;33m)\u001b[0m\u001b[1;33m\u001b[0m\u001b[0m\n\u001b[0m\u001b[1;32m      8\u001b[0m     \u001b[0mn\u001b[0m\u001b[1;33m+=\u001b[0m\u001b[1;36m1\u001b[0m\u001b[1;33m\u001b[0m\u001b[0m\n\u001b[1;32m      9\u001b[0m     \u001b[0mprint\u001b[0m\u001b[1;33m(\u001b[0m\u001b[1;34m\"{:15.12f}  {:15.12f}  {:15.12f}\"\u001b[0m\u001b[1;33m.\u001b[0m\u001b[0mformat\u001b[0m\u001b[1;33m(\u001b[0m\u001b[0ml\u001b[0m\u001b[1;33m,\u001b[0m \u001b[0mu\u001b[0m\u001b[1;33m,\u001b[0m \u001b[0mu\u001b[0m\u001b[1;33m-\u001b[0m\u001b[0ml\u001b[0m\u001b[1;33m)\u001b[0m\u001b[1;33m)\u001b[0m\u001b[1;33m\u001b[0m\u001b[0m\n",
      "\u001b[0;31mNameError\u001b[0m: name 'f' is not defined"
     ]
    }
   ],
   "source": [
    "print(\"{:^15}  {:^15}  {:^15}\".format(\"lower\", \"upper\", \"difference\"))\n",
    "n=0\n",
    "l, u = 0, 5 # Starting range\n",
    "\n",
    "    # This format string prints out three values, each with width 15 characters and 12 decimal places\n",
    "while u-l >1e-8:\n",
    "    l,u=bisection_step(f,(l,u))\n",
    "    n+=1\n",
    "    print(\"{:15.12f}  {:15.12f}  {:15.12f}\".format(l, u, u-l)) \n",
    "\n",
    "print(\"\\n Number of iterations = {:d}\".format(n))"
   ]
  },
  {
   "cell_type": "markdown",
   "metadata": {},
   "source": [
    "&#9654; **CHECKPOINT 1**"
   ]
  },
  {
   "cell_type": "markdown",
   "metadata": {},
   "source": [
    "## *Regula falsi*\n",
    "\n",
    "This algorithm is very similar but tries to make a more sensible guess at the root than simply the midpoint of the range. Instead, we calculate the intersection point of a straight line through $(l, f(l))$ and $(u, f(u))$, which turns out to be\n",
    "$$\n",
    "m = \\frac{lf(u) - uf(l)}{f(u)-f(l)}:\n",
    "$$\n",
    "\n",
    "![regulafalsi.png](attachment:regulafalsi.png)\n",
    "\n",
    "**In the same way as above, write a function to perform one step of this algorithm.**"
   ]
  },
  {
   "cell_type": "code",
   "execution_count": 2,
   "metadata": {
    "collapsed": true
   },
   "outputs": [],
   "source": [
    "def regula_falsi_step(function, bounds):\n",
    "    \"\"\"Performs one step of the regula falsi algorithm to locate a root of f, \n",
    "    and returns a smaller range in which the root is found.\n",
    "    \n",
    "    f: function of a single variable with a root within bounds\n",
    "    bounds: tuple of two numbers representing the range to search for the root\"\"\"\n",
    "    \n",
    "    lower, upper = bounds\n",
    "    \n",
    "    middle=(lower*function(upper)-upper*function(lower))/(function(upper)-function(lower))\n",
    "    \n",
    "    if function(lower)*function(middle)<0:\n",
    "        return (lower, middle)\n",
    "    else:\n",
    "        return (middle,upper)"
   ]
  },
  {
   "cell_type": "markdown",
   "metadata": {},
   "source": [
    "Unlike the bisection algorithm, the size of the range in *regula falsi* is not guaranteed to converge to zero. So to test whether the calculation is complete, we should check whether we've found a root by checking the value of $f$ at both endpoints.\n",
    "\n",
    "**Write a loop using *regula falsi* that repeats until $|f(l)|$ or $|f(u)|$ is less than $10^{-8}$. How many iterations are needed to solve $x^2 - 4 = 0$ starting from the range $(0, 5)$? Is *regula falsi* more efficient than the bisection rule in this case?**"
   ]
  },
  {
   "cell_type": "code",
   "execution_count": 3,
   "metadata": {
    "collapsed": false
   },
   "outputs": [],
   "source": [
    "def iterate_falsi(lower,upper,show,function):\n",
    "    n=0\n",
    "    if show=='yes':\n",
    "        print(\"{:^15}  {:^15}  {:^15}\".format(\"lower\", \"upper\", \"difference\"))\n",
    "\n",
    "    while abs(function(lower))>1e-8 and abs(function(upper))>1e-8:\n",
    "        lower, upper = regula_falsi_step(function,(lower,upper))\n",
    "        if show=='yes':\n",
    "            print(\"{:15.12f}  {:15.12f}  {:15.12f}\".format(lower, upper, upper-lower))\n",
    "        n+=1\n",
    "        \n",
    "    print(\"\\n Number of iterations = {:d}\".format(n))\n",
    "    print('Root= {:.4f}'.format(lower))"
   ]
  },
  {
   "cell_type": "code",
   "execution_count": 7,
   "metadata": {
    "collapsed": false
   },
   "outputs": [
    {
     "name": "stdout",
     "output_type": "stream",
     "text": [
      "     lower            upper         difference   \n",
      " 0.800000000000   5.000000000000   4.200000000000\n",
      " 1.379310344828   5.000000000000   3.620689655172\n",
      " 1.708108108108   5.000000000000   3.291891891892\n",
      " 1.869460112812   5.000000000000   3.130539887188\n",
      " 1.942991202346   5.000000000000   3.057008797654\n",
      " 1.975367044552   5.000000000000   3.024632955448\n",
      " 1.989405737953   5.000000000000   3.010594262047\n",
      " 1.995452719826   5.000000000000   3.004547280174\n",
      " 1.998049898832   5.000000000000   3.001950101168\n",
      " 1.999164009461   5.000000000000   3.000835990539\n",
      " 1.999641675547   5.000000000000   3.000358324453\n",
      " 1.999846424516   5.000000000000   3.000153575484\n",
      " 1.999934180491   5.000000000000   3.000065819509\n",
      " 1.999971791374   5.000000000000   3.000028208626\n",
      " 1.999987910540   5.000000000000   3.000012089460\n",
      " 1.999994818794   5.000000000000   3.000005181206\n",
      " 1.999997779481   5.000000000000   3.000002220519\n",
      " 1.999999048349   5.000000000000   3.000000951651\n",
      " 1.999999592149   5.000000000000   3.000000407851\n",
      " 1.999999825207   5.000000000000   3.000000174793\n",
      " 1.999999925089   5.000000000000   3.000000074911\n",
      " 1.999999967895   5.000000000000   3.000000032105\n",
      " 1.999999986241   5.000000000000   3.000000013759\n",
      " 1.999999994103   5.000000000000   3.000000005897\n",
      " 1.999999997473   5.000000000000   3.000000002527\n",
      " 1.999999998917   5.000000000000   3.000000001083\n",
      "\n",
      " Number of iterations = 26\n",
      "Root= 2.0000\n"
     ]
    }
   ],
   "source": [
    "iterate_falsi(0,5,'yes',f)"
   ]
  },
  {
   "cell_type": "code",
   "execution_count": 10,
   "metadata": {
    "collapsed": true
   },
   "outputs": [],
   "source": [
    "def plotFunction(function):\n",
    "    x=linspace(-10,10)\n",
    "    y=function(x)\n",
    "    figure()\n",
    "    plot(x,y)\n",
    "    \n",
    "def bisection_iteration(function,bounds):\n",
    "    n=0\n",
    "    l,u=bounds\n",
    "    while u-l >1e-8:\n",
    "        l,u=bisection_step(function,(l,u))\n",
    "        n+=1\n",
    "    print('root = ', l)\n",
    "\n",
    "    print(\"\\n Number of iterations = {:d}\".format(n))"
   ]
  },
  {
   "cell_type": "markdown",
   "metadata": {},
   "source": [
    "▶ **CHECKPOINT 2**"
   ]
  },
  {
   "cell_type": "markdown",
   "metadata": {},
   "source": [
    "**Now explore the behaviour of each of these two methods for finding roots.** You might like to consider the following questions:\n",
    "\n",
    "- Which functions can they be applied to? \n",
    "- Can you predict how many iterations they will require? \n",
    "- Is it possible that they will not converge? \n",
    "- Is it possible that they will converge to a value that is not a root?\n",
    "- Is it possible that there is a root within the initial range that they do not find?\n",
    "\n",
    "To help your exploration, you might like to look at the following functions, although you should of course also try others that you invent yourself:\n",
    "- $g(x) = x^8 - 2x - 1$\n",
    "- $h(x) = \\dfrac{x-1}{x-2}$\n",
    "- $j(x) = x^3 + 47x^2 - 148x + 90$\n",
    "- $k(x) = x^4 - 8x^3 + 22x^2 - 24x + 9$\n",
    "\n",
    "You may want to plot these functions to help you answer the questions."
   ]
  },
  {
   "cell_type": "code",
   "execution_count": 27,
   "metadata": {
    "collapsed": false
   },
   "outputs": [
    {
     "name": "stdout",
     "output_type": "stream",
     "text": [
      "root =  1.1620043870061636\n",
      "\n",
      " Number of iterations = 29\n",
      "\n",
      " Number of iterations = 147017\n",
      "Root= 1.1620\n"
     ]
    },
    {
     "data": {
      "image/png": "[encoded data removed]",
      "text/plain": [
       "<matplotlib.figure.Figure at 0x8699574cc0>"
      ]
     },
     "metadata": {},
     "output_type": "display_data"
    }
   ],
   "source": [
    "from pylab import grid, linspace, figure, plot\n",
    "def g(x):\n",
    "    return x**8-2*x -1\n",
    "\n",
    "plotFunction(g)\n",
    "grid()\n",
    "#\n",
    "bisection_iteration(g,(0,5))\n",
    "iterate_falsi(0,5,'no',g)\n",
    "#for low gradient, bisection method is faster"
   ]
  },
  {
   "cell_type": "code",
   "execution_count": 41,
   "metadata": {
    "collapsed": false
   },
   "outputs": [
    {
     "name": "stdout",
     "output_type": "stream",
     "text": [
      "for bounds = 0.5, 1.5: \n",
      "\n",
      " Number of iterations = 27\n",
      "Root= 1.0000\n",
      "\n",
      "bisection\n",
      "root =  1.4999999925494194\n",
      "\n",
      " Number of iterations = 27\n"
     ]
    },
    {
     "data": {
      "image/png": "[encoded data removed]",
      "text/plain": [
       "<matplotlib.figure.Figure at 0x869a39cf60>"
      ]
     },
     "metadata": {},
     "output_type": "display_data"
    }
   ],
   "source": [
    "def h(x):\n",
    "    return (x-1)/(x-2)\n",
    "plotFunction(h)\n",
    "print('for bounds = 0.5, 1.5: ')\n",
    "\n",
    "#bounds must be chosen carefully as roots are close together\n",
    "#bounds must not reach 2 as that would cause division by 0\n",
    "\n",
    "iterate_falsi(0,1.5,'no',h) #Cannot converge to correct root if 2 roots are within range\n",
    "grid()\n",
    "print('\\n' + 'bisection')\n",
    "bisection_iteration(h,(0.5,1.5))"
   ]
  },
  {
   "cell_type": "code",
   "execution_count": 35,
   "metadata": {
    "collapsed": false
   },
   "outputs": [
    {
     "name": "stdout",
     "output_type": "stream",
     "text": [
      "root =  0.8316229060292244\n",
      "\n",
      " Number of iterations = 27\n",
      "\n",
      " Number of iterations = 27\n",
      "Root= 1.0000\n"
     ]
    },
    {
     "data": {
      "image/png": "[encoded data removed]",
      "text/plain": [
       "<matplotlib.figure.Figure at 0x8699667f98>"
      ]
     },
     "metadata": {},
     "output_type": "display_data"
    }
   ],
   "source": [
    "def j(x):\n",
    "    return x**3+47*x**2 -148*x +90\n",
    "plotFunction(j)\n",
    "grid()\n",
    "bisection_iteration(j,(0,1))\n",
    "iterate_falsi(0,1.5,'no',h)\n",
    "#"
   ]
  },
  {
   "cell_type": "code",
   "execution_count": 33,
   "metadata": {
    "collapsed": false
   },
   "outputs": [
    {
     "name": "stdout",
     "output_type": "stream",
     "text": [
      "root =  3.9999999925494194\n",
      "\n",
      " Number of iterations = 29\n",
      "\n",
      " Number of iterations = 159955\n",
      "Root= 3.0000\n"
     ]
    },
    {
     "data": {
      "image/png": "[encoded data removed]",
      "text/plain": [
       "<matplotlib.figure.Figure at 0x8699495048>"
      ]
     },
     "metadata": {},
     "output_type": "display_data"
    }
   ],
   "source": [
    "def k(x):\n",
    "    return x**4 -8*x**3 +22*x**2 -24*x +9\n",
    "plotFunction(k)\n",
    "grid()\n",
    "bisection_iteration(k,(0,4))\n",
    "iterate_falsi(0,5,'n',k)\n",
    "\n",
    "#low gradient at root, so bisection method works best"
   ]
  },
  {
   "cell_type": "markdown",
   "metadata": {},
   "source": [
    "▶ **CHECKPOINT 3**"
   ]
  },
  {
   "cell_type": "markdown",
   "metadata": {},
   "source": [
    "## Extension\n",
    "\n",
    "You will have seen in your exploration that the bisection and *regula falsi* algorithms are complementary: they work well in different ways and in different situations. **Invent a hybrid method that implements an appropriate combination of these steps.** Can you find an algorithm that is better (say, converges faster) than either the bisection or *regula falsi* methods individually?"
   ]
  },
  {
   "cell_type": "code",
   "execution_count": null,
   "metadata": {
    "collapsed": false
   },
   "outputs": [],
   "source": []
  }
 ],
 "metadata": {
  "kernelspec": {
   "display_name": "Python 3",
   "language": "python",
   "name": "python3"
  },
  "language_info": {
   "codemirror_mode": {
    "name": "ipython",
    "version": 3
   },
   "file_extension": ".py",
   "mimetype": "text/x-python",
   "name": "python",
   "nbconvert_exporter": "python",
   "pygments_lexer": "ipython3",
   "version": "3.6.0"
  }
 },
 "nbformat": 4,
 "nbformat_minor": 2
}
